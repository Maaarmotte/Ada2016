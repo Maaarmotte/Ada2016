{
 "cells": [
  {
   "cell_type": "code",
   "execution_count": null,
   "metadata": {
    "collapsed": true
   },
   "outputs": [],
   "source": [
    "import folium\n",
    "import pandas as pd"
   ]
  },
  {
   "cell_type": "code",
   "execution_count": null,
   "metadata": {
    "collapsed": false
   },
   "outputs": [],
   "source": [
    "# Load the data\n",
    "data = pd.read_csv('P3_GrantExport.csv', sep=';', na_values=['Nicht zuteilbar - NA'])   # Raw data\n",
    "unis = pd.read_csv('universities.csv', index_col='university')                          # University details"
   ]
  },
  {
   "cell_type": "code",
   "execution_count": null,
   "metadata": {
    "collapsed": false
   },
   "outputs": [],
   "source": [
    "# Merge the data together and keep only universities and their details\n",
    "merged = data.merge(unis, left_on='University', right_index=True)\n",
    "clean = merged[['University', 'latitude', 'longitude', 'canton', 'Approved Amount']].drop_duplicates('University').dropna()\n",
    "clean['latitude'] = clean.latitude.astype('float')\n",
    "clean['longitude'] = clean.longitude.astype('float')\n",
    "clean.head()"
   ]
  },
  {
   "cell_type": "code",
   "execution_count": null,
   "metadata": {
    "collapsed": false
   },
   "outputs": [],
   "source": [
    "# Add a marker for each university\n",
    "def disp_universities(folmap, df):\n",
    "    df[['latitude', 'longitude', 'University']] \\\n",
    "        .drop_duplicates() \\\n",
    "        .dropna() \\\n",
    "        .apply(lambda row : folium.Marker([row.latitude, row.longitude], popup=row.University).add_to(folmap), axis=1)     \n",
    "\n",
    "# Create a map\n",
    "cantons_map = folium.Map(location=[46.8, 8],\n",
    "                         zoom_start=8,\n",
    "                         tiles='http://a.basemaps.cartocdn.com/light_all/{z}/{x}/{y}.png',\n",
    "                         attr='Map tiles by Carto, under CC BY 3.0. Data by OpenStreetMap, under ODbL.')\n",
    "\n",
    "# Aggregate the approved amount by canton\n",
    "#bycanton = clean[['canton', 'Approved Amount']].groupby('canton').sum()\n",
    "\n",
    "# Load the cantons from the JSON file\n",
    "#topo_path = r'ch-cantons.topojson.json'\n",
    "#topo_objects = 'objects.cantons'\n",
    "#cantons_map.choropleth(geo_path=topo_path,\n",
    "#                       topojson=topo_objects,\n",
    "#                       data = clean,\n",
    "#                       columns=['canton', 'Approved Amount'],\n",
    "#                       key_on='geometries.id',\n",
    "#                       fill_color='YlGn')\n",
    "\n",
    "# Show universities\n",
    "disp_universities(cantons_map, clean)\n",
    "\n",
    "# Display the map\n",
    "cantons_map"
   ]
  },
  {
   "cell_type": "code",
   "execution_count": null,
   "metadata": {
    "collapsed": true
   },
   "outputs": [],
   "source": []
  }
 ],
 "metadata": {
  "anaconda-cloud": {},
  "kernelspec": {
   "display_name": "Python [Root]",
   "language": "python",
   "name": "Python [Root]"
  },
  "language_info": {
   "codemirror_mode": {
    "name": "ipython",
    "version": 3
   },
   "file_extension": ".py",
   "mimetype": "text/x-python",
   "name": "python",
   "nbconvert_exporter": "python",
   "pygments_lexer": "ipython3",
   "version": "3.5.2"
  }
 },
 "nbformat": 4,
 "nbformat_minor": 0
}
