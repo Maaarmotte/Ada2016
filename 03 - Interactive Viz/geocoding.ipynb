{
 "cells": [
  {
   "cell_type": "code",
   "execution_count": 51,
   "metadata": {
    "collapsed": true
   },
   "outputs": [],
   "source": [
    "import numpy as np\n",
    "import pandas as pd\n",
    "import requests\n",
    "import re"
   ]
  },
  {
   "cell_type": "code",
   "execution_count": 3,
   "metadata": {
    "collapsed": false
   },
   "outputs": [
    {
     "name": "stdout",
     "output_type": "stream",
     "text": [
      "﻿\"Project Number\";\"Project Title\";\"Project Title English\";\"Responsible Applicant\";\"Funding Instrument\";\"Funding Instrument Hierarchy\";\"Institution\";\"University\";\"Discipline Number\";\"Discipline Name\";\"Discipline Name Hierarchy\";\"Start Date\";\"End Date\";\"Approved Amount\";\"Keywords\"\r",
      "\r\n",
      "\"1\";\"Schlussband (Bd. VI) der Jacob Burckhardt-Biographie\";\"\";\"Kaegi Werner\";\"Project funding (Div. I-III)\";\"Project funding\";\"\";\"Nicht zuteilbar - NA\";\"10302\";\"Swiss history\";\"Human and Social Sciences;Theology & religious studies, history, classical studies, archaeology, prehistory and early history\";\"01.10.1975\";\"30.09.1976\";\"11619.00\";\"\"\r",
      "\r\n",
      "\"4\";\"Batterie de tests à l'usage des enseignants pour le diagnostic de la forme d'intelligence dite divergente\";\"\";\"Massarenti Léonard\";\"Project funding (Div. I-III)\";\"Project funding\";\"Faculté de Psychologie et des Sciences de l'Education Université de Genève\";\"Université de Genève - GE\";\"10104\";\"Educational science and Pedagogy\";\"Human and Social Sciences;Psychology, educational studies\";\"01.10.1975\";\"30.09.1976\";\"41022.00\";\"\"\r",
      "\r\n",
      "\"5\";\"Kritische Erstausgabe der \"\"Evidentiae contra Durandum\"\" des Durandellus\";\"\";\"Kommission für das Corpus philosophorum medii aevi der SGG\";\"Project funding (Div. I-III)\";\"Project funding\";\"Kommission für das Corpus philosophorum medii aevi der SGG\";\"NPO (Biblioth., Museen, Verwalt.) - NPO\";\"10101\";\"Philosophy\";\"Human and Social Sciences;Linguistics and literature, philosophy\";\"01.03.1976\";\"28.02.1985\";\"79732.00\";\"\"\r",
      "\r\n",
      "\"6\";\"Katalog der datierten Handschriften in der Schweiz\";\"\";\"Burckhardt Max\";\"Project funding (Div. I-III)\";\"Project funding\";\"Abt. Handschriften und Alte Drucke Bibliothek der Universität Basel\";\"Universität Basel - BS\";\"10302\";\"Swiss history\";\"Human and Social Sciences;Theology & religious studies, history, classical studies, archaeology, prehistory and early history\";\"01.10.1975\";\"30.09.1976\";\"52627.00\";\"\"\r",
      "\r\n"
     ]
    }
   ],
   "source": [
    "!head -n5 P3_GrantExport.csv"
   ]
  },
  {
   "cell_type": "code",
   "execution_count": 6,
   "metadata": {
    "collapsed": true
   },
   "outputs": [],
   "source": [
    "pd.read_csv?"
   ]
  },
  {
   "cell_type": "code",
   "execution_count": 287,
   "metadata": {
    "collapsed": false
   },
   "outputs": [
    {
     "data": {
      "text/html": [
       "<div>\n",
       "<table border=\"1\" class=\"dataframe\">\n",
       "  <thead>\n",
       "    <tr style=\"text-align: right;\">\n",
       "      <th></th>\n",
       "      <th>Project Title</th>\n",
       "      <th>Project Title English</th>\n",
       "      <th>Responsible Applicant</th>\n",
       "      <th>Funding Instrument</th>\n",
       "      <th>Funding Instrument Hierarchy</th>\n",
       "      <th>Institution</th>\n",
       "      <th>University</th>\n",
       "      <th>Discipline Number</th>\n",
       "      <th>Discipline Name</th>\n",
       "      <th>Discipline Name Hierarchy</th>\n",
       "      <th>Start Date</th>\n",
       "      <th>End Date</th>\n",
       "      <th>Approved Amount</th>\n",
       "      <th>Keywords</th>\n",
       "    </tr>\n",
       "    <tr>\n",
       "      <th>Project Number</th>\n",
       "      <th></th>\n",
       "      <th></th>\n",
       "      <th></th>\n",
       "      <th></th>\n",
       "      <th></th>\n",
       "      <th></th>\n",
       "      <th></th>\n",
       "      <th></th>\n",
       "      <th></th>\n",
       "      <th></th>\n",
       "      <th></th>\n",
       "      <th></th>\n",
       "      <th></th>\n",
       "      <th></th>\n",
       "    </tr>\n",
       "  </thead>\n",
       "  <tbody>\n",
       "    <tr>\n",
       "      <th>1</th>\n",
       "      <td>Schlussband (Bd. VI) der Jacob Burckhardt-Biog...</td>\n",
       "      <td>NaN</td>\n",
       "      <td>Kaegi Werner</td>\n",
       "      <td>Project funding (Div. I-III)</td>\n",
       "      <td>Project funding</td>\n",
       "      <td>NaN</td>\n",
       "      <td>NaN</td>\n",
       "      <td>10302</td>\n",
       "      <td>Swiss history</td>\n",
       "      <td>Human and Social Sciences;Theology &amp; religious...</td>\n",
       "      <td>01.10.1975</td>\n",
       "      <td>30.09.1976</td>\n",
       "      <td>11619.00</td>\n",
       "      <td>NaN</td>\n",
       "    </tr>\n",
       "    <tr>\n",
       "      <th>4</th>\n",
       "      <td>Batterie de tests à l'usage des enseignants po...</td>\n",
       "      <td>NaN</td>\n",
       "      <td>Massarenti Léonard</td>\n",
       "      <td>Project funding (Div. I-III)</td>\n",
       "      <td>Project funding</td>\n",
       "      <td>Faculté de Psychologie et des Sciences de l'Ed...</td>\n",
       "      <td>Université de Genève - GE</td>\n",
       "      <td>10104</td>\n",
       "      <td>Educational science and Pedagogy</td>\n",
       "      <td>Human and Social Sciences;Psychology, educatio...</td>\n",
       "      <td>01.10.1975</td>\n",
       "      <td>30.09.1976</td>\n",
       "      <td>41022.00</td>\n",
       "      <td>NaN</td>\n",
       "    </tr>\n",
       "    <tr>\n",
       "      <th>5</th>\n",
       "      <td>Kritische Erstausgabe der \"Evidentiae contra D...</td>\n",
       "      <td>NaN</td>\n",
       "      <td>Kommission für das Corpus philosophorum medii ...</td>\n",
       "      <td>Project funding (Div. I-III)</td>\n",
       "      <td>Project funding</td>\n",
       "      <td>Kommission für das Corpus philosophorum medii ...</td>\n",
       "      <td>NPO (Biblioth., Museen, Verwalt.) - NPO</td>\n",
       "      <td>10101</td>\n",
       "      <td>Philosophy</td>\n",
       "      <td>Human and Social Sciences;Linguistics and lite...</td>\n",
       "      <td>01.03.1976</td>\n",
       "      <td>28.02.1985</td>\n",
       "      <td>79732.00</td>\n",
       "      <td>NaN</td>\n",
       "    </tr>\n",
       "    <tr>\n",
       "      <th>6</th>\n",
       "      <td>Katalog der datierten Handschriften in der Sch...</td>\n",
       "      <td>NaN</td>\n",
       "      <td>Burckhardt Max</td>\n",
       "      <td>Project funding (Div. I-III)</td>\n",
       "      <td>Project funding</td>\n",
       "      <td>Abt. Handschriften und Alte Drucke Bibliothek ...</td>\n",
       "      <td>Universität Basel - BS</td>\n",
       "      <td>10302</td>\n",
       "      <td>Swiss history</td>\n",
       "      <td>Human and Social Sciences;Theology &amp; religious...</td>\n",
       "      <td>01.10.1975</td>\n",
       "      <td>30.09.1976</td>\n",
       "      <td>52627.00</td>\n",
       "      <td>NaN</td>\n",
       "    </tr>\n",
       "    <tr>\n",
       "      <th>7</th>\n",
       "      <td>Wissenschaftliche Mitarbeit am Thesaurus Lingu...</td>\n",
       "      <td>NaN</td>\n",
       "      <td>Schweiz. Thesauruskommission</td>\n",
       "      <td>Project funding (Div. I-III)</td>\n",
       "      <td>Project funding</td>\n",
       "      <td>Schweiz. Thesauruskommission</td>\n",
       "      <td>NPO (Biblioth., Museen, Verwalt.) - NPO</td>\n",
       "      <td>10303</td>\n",
       "      <td>Ancient history and Classical studies</td>\n",
       "      <td>Human and Social Sciences;Theology &amp; religious...</td>\n",
       "      <td>01.01.1976</td>\n",
       "      <td>30.04.1978</td>\n",
       "      <td>120042.00</td>\n",
       "      <td>NaN</td>\n",
       "    </tr>\n",
       "  </tbody>\n",
       "</table>\n",
       "</div>"
      ],
      "text/plain": [
       "                                                    Project Title  \\\n",
       "Project Number                                                      \n",
       "1               Schlussband (Bd. VI) der Jacob Burckhardt-Biog...   \n",
       "4               Batterie de tests à l'usage des enseignants po...   \n",
       "5               Kritische Erstausgabe der \"Evidentiae contra D...   \n",
       "6               Katalog der datierten Handschriften in der Sch...   \n",
       "7               Wissenschaftliche Mitarbeit am Thesaurus Lingu...   \n",
       "\n",
       "               Project Title English  \\\n",
       "Project Number                         \n",
       "1                                NaN   \n",
       "4                                NaN   \n",
       "5                                NaN   \n",
       "6                                NaN   \n",
       "7                                NaN   \n",
       "\n",
       "                                            Responsible Applicant  \\\n",
       "Project Number                                                      \n",
       "1                                                    Kaegi Werner   \n",
       "4                                              Massarenti Léonard   \n",
       "5               Kommission für das Corpus philosophorum medii ...   \n",
       "6                                                  Burckhardt Max   \n",
       "7                                    Schweiz. Thesauruskommission   \n",
       "\n",
       "                          Funding Instrument Funding Instrument Hierarchy  \\\n",
       "Project Number                                                              \n",
       "1               Project funding (Div. I-III)              Project funding   \n",
       "4               Project funding (Div. I-III)              Project funding   \n",
       "5               Project funding (Div. I-III)              Project funding   \n",
       "6               Project funding (Div. I-III)              Project funding   \n",
       "7               Project funding (Div. I-III)              Project funding   \n",
       "\n",
       "                                                      Institution  \\\n",
       "Project Number                                                      \n",
       "1                                                             NaN   \n",
       "4               Faculté de Psychologie et des Sciences de l'Ed...   \n",
       "5               Kommission für das Corpus philosophorum medii ...   \n",
       "6               Abt. Handschriften und Alte Drucke Bibliothek ...   \n",
       "7                                    Schweiz. Thesauruskommission   \n",
       "\n",
       "                                             University  Discipline Number  \\\n",
       "Project Number                                                               \n",
       "1                                                   NaN              10302   \n",
       "4                             Université de Genève - GE              10104   \n",
       "5               NPO (Biblioth., Museen, Verwalt.) - NPO              10101   \n",
       "6                                Universität Basel - BS              10302   \n",
       "7               NPO (Biblioth., Museen, Verwalt.) - NPO              10303   \n",
       "\n",
       "                                      Discipline Name  \\\n",
       "Project Number                                          \n",
       "1                                       Swiss history   \n",
       "4                    Educational science and Pedagogy   \n",
       "5                                          Philosophy   \n",
       "6                                       Swiss history   \n",
       "7               Ancient history and Classical studies   \n",
       "\n",
       "                                        Discipline Name Hierarchy  Start Date  \\\n",
       "Project Number                                                                  \n",
       "1               Human and Social Sciences;Theology & religious...  01.10.1975   \n",
       "4               Human and Social Sciences;Psychology, educatio...  01.10.1975   \n",
       "5               Human and Social Sciences;Linguistics and lite...  01.03.1976   \n",
       "6               Human and Social Sciences;Theology & religious...  01.10.1975   \n",
       "7               Human and Social Sciences;Theology & religious...  01.01.1976   \n",
       "\n",
       "                  End Date Approved Amount Keywords  \n",
       "Project Number                                       \n",
       "1               30.09.1976        11619.00      NaN  \n",
       "4               30.09.1976        41022.00      NaN  \n",
       "5               28.02.1985        79732.00      NaN  \n",
       "6               30.09.1976        52627.00      NaN  \n",
       "7               30.04.1978       120042.00      NaN  "
      ]
     },
     "execution_count": 287,
     "metadata": {},
     "output_type": "execute_result"
    }
   ],
   "source": [
    "df = pd.read_csv('P3_GrantExport.csv', sep=';', index_col=0, na_values=['Nicht zuteilbar - NA'])\n",
    "df.head()"
   ]
  },
  {
   "cell_type": "code",
   "execution_count": 13,
   "metadata": {
    "collapsed": false
   },
   "outputs": [
    {
     "data": {
      "text/plain": [
       "True"
      ]
     },
     "execution_count": 13,
     "metadata": {},
     "output_type": "execute_result"
    }
   ],
   "source": [
    "df.index.is_unique"
   ]
  },
  {
   "cell_type": "code",
   "execution_count": 98,
   "metadata": {
    "collapsed": false
   },
   "outputs": [],
   "source": [
    "match_format = df.University.dropna().str.match('^.+ - .+$', as_indexer=True)"
   ]
  },
  {
   "cell_type": "code",
   "execution_count": 14,
   "metadata": {
    "collapsed": false,
    "scrolled": true
   },
   "outputs": [
    {
     "data": {
      "text/plain": [
       "count                       50988\n",
       "unique                         77\n",
       "top       Universität Zürich - ZH\n",
       "freq                         6774\n",
       "Name: University, dtype: object"
      ]
     },
     "execution_count": 14,
     "metadata": {},
     "output_type": "execute_result"
    }
   ],
   "source": [
    "df.University.describe()"
   ]
  },
  {
   "cell_type": "code",
   "execution_count": 167,
   "metadata": {
    "collapsed": true
   },
   "outputs": [],
   "source": [
    "def trim_university_name(full_name):\n",
    "    match = re.match('^([\\s\\w]+) - \\w+$', full_name)\n",
    "    if match is None:\n",
    "        return None\n",
    "    else:\n",
    "        return match.group(1)"
   ]
  },
  {
   "cell_type": "code",
   "execution_count": 321,
   "metadata": {
    "collapsed": false
   },
   "outputs": [],
   "source": [
    "def get_info(university_name):\n",
    "    parameters = {'username': 'ada_epfl', 'country': 'CH', 'name': trim_university_name(university_name),\n",
    "                 'orderby': 'relevance', 'isNameRequired': 'true'}\n",
    "    r = requests.get('http://api.geonames.org/searchJSON', params=parameters)\n",
    "    \n",
    "    results = r.json().get('geonames')\n",
    "\n",
    "    if results is None or not results: # if None or empty\n",
    "        return np.nan\n",
    "    else:\n",
    "        first = results[0]\n",
    "        return (first['adminCode1'], first['lat'], first['lng'])"
   ]
  },
  {
   "cell_type": "code",
   "execution_count": 322,
   "metadata": {
    "collapsed": false
   },
   "outputs": [
    {
     "data": {
      "text/plain": [
       "('BS', '47.55832', '7.58403')"
      ]
     },
     "execution_count": 322,
     "metadata": {},
     "output_type": "execute_result"
    }
   ],
   "source": [
    "get_info(df.iloc[3,6])"
   ]
  },
  {
   "cell_type": "code",
   "execution_count": 323,
   "metadata": {
    "collapsed": false
   },
   "outputs": [
    {
     "data": {
      "text/plain": [
       "nan"
      ]
     },
     "execution_count": 323,
     "metadata": {},
     "output_type": "execute_result"
    }
   ],
   "source": [
    "get_info(df.loc[6076,'University'])"
   ]
  },
  {
   "cell_type": "code",
   "execution_count": 324,
   "metadata": {
    "collapsed": false,
    "scrolled": true
   },
   "outputs": [
    {
     "data": {
      "text/plain": [
       "nan"
      ]
     },
     "execution_count": 324,
     "metadata": {},
     "output_type": "execute_result"
    }
   ],
   "source": [
    "get_info(df.iloc[5,6])"
   ]
  },
  {
   "cell_type": "code",
   "execution_count": 325,
   "metadata": {
    "collapsed": false,
    "scrolled": true
   },
   "outputs": [],
   "source": [
    "uni_infos = {university: get_info(university) for university in df.University.dropna().unique()}"
   ]
  },
  {
   "cell_type": "code",
   "execution_count": 328,
   "metadata": {
    "collapsed": false
   },
   "outputs": [
    {
     "data": {
      "text/plain": [
       "canton       5\n",
       "latitude     5\n",
       "longitude    5\n",
       "dtype: int64"
      ]
     },
     "execution_count": 328,
     "metadata": {},
     "output_type": "execute_result"
    }
   ],
   "source": [
    "unis.count()"
   ]
  },
  {
   "cell_type": "code",
   "execution_count": 327,
   "metadata": {
    "collapsed": false
   },
   "outputs": [
    {
     "data": {
      "text/html": [
       "<div>\n",
       "<table border=\"1\" class=\"dataframe\">\n",
       "  <thead>\n",
       "    <tr style=\"text-align: right;\">\n",
       "      <th></th>\n",
       "      <th>canton</th>\n",
       "      <th>latitude</th>\n",
       "      <th>longitude</th>\n",
       "    </tr>\n",
       "    <tr>\n",
       "      <th>university</th>\n",
       "      <th></th>\n",
       "      <th></th>\n",
       "      <th></th>\n",
       "    </tr>\n",
       "  </thead>\n",
       "  <tbody>\n",
       "    <tr>\n",
       "      <th>AO Research Institute - AORI</th>\n",
       "      <td>NaN</td>\n",
       "      <td>NaN</td>\n",
       "      <td>NaN</td>\n",
       "    </tr>\n",
       "    <tr>\n",
       "      <th>Allergie- und Asthmaforschung - SIAF</th>\n",
       "      <td>NaN</td>\n",
       "      <td>NaN</td>\n",
       "      <td>NaN</td>\n",
       "    </tr>\n",
       "    <tr>\n",
       "      <th>Berner Fachhochschule - BFH</th>\n",
       "      <td>NaN</td>\n",
       "      <td>NaN</td>\n",
       "      <td>NaN</td>\n",
       "    </tr>\n",
       "    <tr>\n",
       "      <th>Biotechnologie Institut Thurgau - BITG</th>\n",
       "      <td>NaN</td>\n",
       "      <td>NaN</td>\n",
       "      <td>NaN</td>\n",
       "    </tr>\n",
       "    <tr>\n",
       "      <th>Centre de rech. sur l'environnement alpin - CREALP</th>\n",
       "      <td>NaN</td>\n",
       "      <td>NaN</td>\n",
       "      <td>NaN</td>\n",
       "    </tr>\n",
       "    <tr>\n",
       "      <th>EPF Lausanne - EPFL</th>\n",
       "      <td>NaN</td>\n",
       "      <td>NaN</td>\n",
       "      <td>NaN</td>\n",
       "    </tr>\n",
       "    <tr>\n",
       "      <th>ETH Zürich - ETHZ</th>\n",
       "      <td>ZH</td>\n",
       "      <td>47.3763</td>\n",
       "      <td>8.54805</td>\n",
       "    </tr>\n",
       "    <tr>\n",
       "      <th>Eidg. Anstalt für Wasserversorgung - EAWAG</th>\n",
       "      <td>NaN</td>\n",
       "      <td>NaN</td>\n",
       "      <td>NaN</td>\n",
       "    </tr>\n",
       "    <tr>\n",
       "      <th>Eidg. Forschungsanstalt für Wald,Schnee,Land - WSL</th>\n",
       "      <td>NaN</td>\n",
       "      <td>NaN</td>\n",
       "      <td>NaN</td>\n",
       "    </tr>\n",
       "    <tr>\n",
       "      <th>Eidg. Hochschulinstitut für Berufsbildung - EHB</th>\n",
       "      <td>NaN</td>\n",
       "      <td>NaN</td>\n",
       "      <td>NaN</td>\n",
       "    </tr>\n",
       "    <tr>\n",
       "      <th>Eidg. Material und Prüfungsanstalt - EMPA</th>\n",
       "      <td>NaN</td>\n",
       "      <td>NaN</td>\n",
       "      <td>NaN</td>\n",
       "    </tr>\n",
       "    <tr>\n",
       "      <th>Ente Ospedaliero Cantonale - EOC</th>\n",
       "      <td>NaN</td>\n",
       "      <td>NaN</td>\n",
       "      <td>NaN</td>\n",
       "    </tr>\n",
       "    <tr>\n",
       "      <th>Fachhochschule Kalaidos - FHKD</th>\n",
       "      <td>NaN</td>\n",
       "      <td>NaN</td>\n",
       "      <td>NaN</td>\n",
       "    </tr>\n",
       "    <tr>\n",
       "      <th>Fachhochschule Nordwestschweiz (ohne PH) - FHNW</th>\n",
       "      <td>NaN</td>\n",
       "      <td>NaN</td>\n",
       "      <td>NaN</td>\n",
       "    </tr>\n",
       "    <tr>\n",
       "      <th>Fachhochschule Ostschweiz - FHO</th>\n",
       "      <td>NaN</td>\n",
       "      <td>NaN</td>\n",
       "      <td>NaN</td>\n",
       "    </tr>\n",
       "    <tr>\n",
       "      <th>Facoltà di Teologia di Lugano - FTL</th>\n",
       "      <td>NaN</td>\n",
       "      <td>NaN</td>\n",
       "      <td>NaN</td>\n",
       "    </tr>\n",
       "    <tr>\n",
       "      <th>Fernfachhochschule Schweiz (Mitglied SUPSI) - FFHS</th>\n",
       "      <td>NaN</td>\n",
       "      <td>NaN</td>\n",
       "      <td>NaN</td>\n",
       "    </tr>\n",
       "    <tr>\n",
       "      <th>Firmen/Privatwirtschaft - FP</th>\n",
       "      <td>NaN</td>\n",
       "      <td>NaN</td>\n",
       "      <td>NaN</td>\n",
       "    </tr>\n",
       "    <tr>\n",
       "      <th>Forschungsanstalten Agroscope - AGS</th>\n",
       "      <td>NaN</td>\n",
       "      <td>NaN</td>\n",
       "      <td>NaN</td>\n",
       "    </tr>\n",
       "    <tr>\n",
       "      <th>Forschungsinstitut für Opthalmologie - IRO</th>\n",
       "      <td>NaN</td>\n",
       "      <td>NaN</td>\n",
       "      <td>NaN</td>\n",
       "    </tr>\n",
       "    <tr>\n",
       "      <th>Forschungsinstitut für biologischen Landbau - FIBL</th>\n",
       "      <td>NaN</td>\n",
       "      <td>NaN</td>\n",
       "      <td>NaN</td>\n",
       "    </tr>\n",
       "    <tr>\n",
       "      <th>Forschungskommission SAGW</th>\n",
       "      <td>NaN</td>\n",
       "      <td>NaN</td>\n",
       "      <td>NaN</td>\n",
       "    </tr>\n",
       "    <tr>\n",
       "      <th>Franklin University Switzerland - FUS</th>\n",
       "      <td>NaN</td>\n",
       "      <td>NaN</td>\n",
       "      <td>NaN</td>\n",
       "    </tr>\n",
       "    <tr>\n",
       "      <th>Friedrich Miescher Institute - FMI</th>\n",
       "      <td>NaN</td>\n",
       "      <td>NaN</td>\n",
       "      <td>NaN</td>\n",
       "    </tr>\n",
       "    <tr>\n",
       "      <th>HES de Suisse occidentale - HES-SO</th>\n",
       "      <td>NaN</td>\n",
       "      <td>NaN</td>\n",
       "      <td>NaN</td>\n",
       "    </tr>\n",
       "    <tr>\n",
       "      <th>Haute école pédagogique BE, JU, NE - HEPBEJUNE</th>\n",
       "      <td>NaN</td>\n",
       "      <td>NaN</td>\n",
       "      <td>NaN</td>\n",
       "    </tr>\n",
       "    <tr>\n",
       "      <th>Haute école pédagogique du canton de Vaud - HEPL</th>\n",
       "      <td>NaN</td>\n",
       "      <td>NaN</td>\n",
       "      <td>NaN</td>\n",
       "    </tr>\n",
       "    <tr>\n",
       "      <th>Haute école pédagogique fribourgeoise - HEPFR</th>\n",
       "      <td>NaN</td>\n",
       "      <td>NaN</td>\n",
       "      <td>NaN</td>\n",
       "    </tr>\n",
       "    <tr>\n",
       "      <th>Hochschule Luzern - HSLU</th>\n",
       "      <td>NaN</td>\n",
       "      <td>NaN</td>\n",
       "      <td>NaN</td>\n",
       "    </tr>\n",
       "    <tr>\n",
       "      <th>Idiap Research Institute - IDIAP</th>\n",
       "      <td>NaN</td>\n",
       "      <td>NaN</td>\n",
       "      <td>NaN</td>\n",
       "    </tr>\n",
       "    <tr>\n",
       "      <th>...</th>\n",
       "      <td>...</td>\n",
       "      <td>...</td>\n",
       "      <td>...</td>\n",
       "    </tr>\n",
       "    <tr>\n",
       "      <th>Pädagogische Hochschule Nordwestschweiz - PHFHNW</th>\n",
       "      <td>NaN</td>\n",
       "      <td>NaN</td>\n",
       "      <td>NaN</td>\n",
       "    </tr>\n",
       "    <tr>\n",
       "      <th>Pädagogische Hochschule Schaffhausen - PHSH</th>\n",
       "      <td>NaN</td>\n",
       "      <td>NaN</td>\n",
       "      <td>NaN</td>\n",
       "    </tr>\n",
       "    <tr>\n",
       "      <th>Pädagogische Hochschule Schwyz - PHSZ</th>\n",
       "      <td>NaN</td>\n",
       "      <td>NaN</td>\n",
       "      <td>NaN</td>\n",
       "    </tr>\n",
       "    <tr>\n",
       "      <th>Pädagogische Hochschule St. Gallen - PHSG</th>\n",
       "      <td>NaN</td>\n",
       "      <td>NaN</td>\n",
       "      <td>NaN</td>\n",
       "    </tr>\n",
       "    <tr>\n",
       "      <th>Pädagogische Hochschule Thurgau - PHTG</th>\n",
       "      <td>NaN</td>\n",
       "      <td>NaN</td>\n",
       "      <td>NaN</td>\n",
       "    </tr>\n",
       "    <tr>\n",
       "      <th>Pädagogische Hochschule Wallis - PHVS</th>\n",
       "      <td>NaN</td>\n",
       "      <td>NaN</td>\n",
       "      <td>NaN</td>\n",
       "    </tr>\n",
       "    <tr>\n",
       "      <th>Pädagogische Hochschule Zug - PHZG</th>\n",
       "      <td>NaN</td>\n",
       "      <td>NaN</td>\n",
       "      <td>NaN</td>\n",
       "    </tr>\n",
       "    <tr>\n",
       "      <th>Pädagogische Hochschule Zürich - PHZFH</th>\n",
       "      <td>NaN</td>\n",
       "      <td>NaN</td>\n",
       "      <td>NaN</td>\n",
       "    </tr>\n",
       "    <tr>\n",
       "      <th>Robert Walser-Stiftung Bern - RWS</th>\n",
       "      <td>NaN</td>\n",
       "      <td>NaN</td>\n",
       "      <td>NaN</td>\n",
       "    </tr>\n",
       "    <tr>\n",
       "      <th>SUP della Svizzera italiana - SUPSI</th>\n",
       "      <td>NaN</td>\n",
       "      <td>NaN</td>\n",
       "      <td>NaN</td>\n",
       "    </tr>\n",
       "    <tr>\n",
       "      <th>Schweiz. Hochschule für Logopädie Rorschach - SHLR</th>\n",
       "      <td>NaN</td>\n",
       "      <td>NaN</td>\n",
       "      <td>NaN</td>\n",
       "    </tr>\n",
       "    <tr>\n",
       "      <th>Schweiz. Institut für Kunstwissenschaft - SIK-ISEA</th>\n",
       "      <td>NaN</td>\n",
       "      <td>NaN</td>\n",
       "      <td>NaN</td>\n",
       "    </tr>\n",
       "    <tr>\n",
       "      <th>Schweizer Kompetenzzentrum Sozialwissensch. - FORS</th>\n",
       "      <td>NaN</td>\n",
       "      <td>NaN</td>\n",
       "      <td>NaN</td>\n",
       "    </tr>\n",
       "    <tr>\n",
       "      <th>Schweizer Paraplegiker Forschung - SPF</th>\n",
       "      <td>NaN</td>\n",
       "      <td>NaN</td>\n",
       "      <td>NaN</td>\n",
       "    </tr>\n",
       "    <tr>\n",
       "      <th>Staatsunabh. Theologische Hochschule Basel - STHB</th>\n",
       "      <td>NaN</td>\n",
       "      <td>NaN</td>\n",
       "      <td>NaN</td>\n",
       "    </tr>\n",
       "    <tr>\n",
       "      <th>Swiss Center for Electronics and Microtech. - CSEM</th>\n",
       "      <td>NaN</td>\n",
       "      <td>NaN</td>\n",
       "      <td>NaN</td>\n",
       "    </tr>\n",
       "    <tr>\n",
       "      <th>Swiss Institute of Bioinformatics - SIB</th>\n",
       "      <td>NaN</td>\n",
       "      <td>NaN</td>\n",
       "      <td>NaN</td>\n",
       "    </tr>\n",
       "    <tr>\n",
       "      <th>Università della Svizzera italiana - USI</th>\n",
       "      <td>NaN</td>\n",
       "      <td>NaN</td>\n",
       "      <td>NaN</td>\n",
       "    </tr>\n",
       "    <tr>\n",
       "      <th>Universität Basel - BS</th>\n",
       "      <td>BS</td>\n",
       "      <td>47.55832</td>\n",
       "      <td>7.58403</td>\n",
       "    </tr>\n",
       "    <tr>\n",
       "      <th>Universität Bern - BE</th>\n",
       "      <td>BE</td>\n",
       "      <td>46.95096</td>\n",
       "      <td>7.43548</td>\n",
       "    </tr>\n",
       "    <tr>\n",
       "      <th>Universität Luzern - LU</th>\n",
       "      <td>NaN</td>\n",
       "      <td>NaN</td>\n",
       "      <td>NaN</td>\n",
       "    </tr>\n",
       "    <tr>\n",
       "      <th>Universität St. Gallen - SG</th>\n",
       "      <td>NaN</td>\n",
       "      <td>NaN</td>\n",
       "      <td>NaN</td>\n",
       "    </tr>\n",
       "    <tr>\n",
       "      <th>Universität Zürich - ZH</th>\n",
       "      <td>ZH</td>\n",
       "      <td>47.37092</td>\n",
       "      <td>8.53434</td>\n",
       "    </tr>\n",
       "    <tr>\n",
       "      <th>Université de Fribourg - FR</th>\n",
       "      <td>NaN</td>\n",
       "      <td>NaN</td>\n",
       "      <td>NaN</td>\n",
       "    </tr>\n",
       "    <tr>\n",
       "      <th>Université de Genève - GE</th>\n",
       "      <td>NaN</td>\n",
       "      <td>NaN</td>\n",
       "      <td>NaN</td>\n",
       "    </tr>\n",
       "    <tr>\n",
       "      <th>Université de Lausanne - LA</th>\n",
       "      <td>VD</td>\n",
       "      <td>46.52376</td>\n",
       "      <td>6.58409</td>\n",
       "    </tr>\n",
       "    <tr>\n",
       "      <th>Université de Neuchâtel - NE</th>\n",
       "      <td>NaN</td>\n",
       "      <td>NaN</td>\n",
       "      <td>NaN</td>\n",
       "    </tr>\n",
       "    <tr>\n",
       "      <th>Weitere Institute - FINST</th>\n",
       "      <td>NaN</td>\n",
       "      <td>NaN</td>\n",
       "      <td>NaN</td>\n",
       "    </tr>\n",
       "    <tr>\n",
       "      <th>Weitere Spitäler - ASPIT</th>\n",
       "      <td>NaN</td>\n",
       "      <td>NaN</td>\n",
       "      <td>NaN</td>\n",
       "    </tr>\n",
       "    <tr>\n",
       "      <th>Zürcher Fachhochschule (ohne PH) - ZFH</th>\n",
       "      <td>NaN</td>\n",
       "      <td>NaN</td>\n",
       "      <td>NaN</td>\n",
       "    </tr>\n",
       "  </tbody>\n",
       "</table>\n",
       "<p>76 rows × 3 columns</p>\n",
       "</div>"
      ],
      "text/plain": [
       "                                                   canton  latitude longitude\n",
       "university                                                                   \n",
       "AO Research Institute - AORI                          NaN       NaN       NaN\n",
       "Allergie- und Asthmaforschung - SIAF                  NaN       NaN       NaN\n",
       "Berner Fachhochschule - BFH                           NaN       NaN       NaN\n",
       "Biotechnologie Institut Thurgau - BITG                NaN       NaN       NaN\n",
       "Centre de rech. sur l'environnement alpin - CREALP    NaN       NaN       NaN\n",
       "EPF Lausanne - EPFL                                   NaN       NaN       NaN\n",
       "ETH Zürich - ETHZ                                      ZH   47.3763   8.54805\n",
       "Eidg. Anstalt für Wasserversorgung - EAWAG            NaN       NaN       NaN\n",
       "Eidg. Forschungsanstalt für Wald,Schnee,Land - WSL    NaN       NaN       NaN\n",
       "Eidg. Hochschulinstitut für Berufsbildung - EHB       NaN       NaN       NaN\n",
       "Eidg. Material und Prüfungsanstalt - EMPA             NaN       NaN       NaN\n",
       "Ente Ospedaliero Cantonale - EOC                      NaN       NaN       NaN\n",
       "Fachhochschule Kalaidos - FHKD                        NaN       NaN       NaN\n",
       "Fachhochschule Nordwestschweiz (ohne PH) - FHNW       NaN       NaN       NaN\n",
       "Fachhochschule Ostschweiz - FHO                       NaN       NaN       NaN\n",
       "Facoltà di Teologia di Lugano - FTL                   NaN       NaN       NaN\n",
       "Fernfachhochschule Schweiz (Mitglied SUPSI) - FFHS    NaN       NaN       NaN\n",
       "Firmen/Privatwirtschaft - FP                          NaN       NaN       NaN\n",
       "Forschungsanstalten Agroscope - AGS                   NaN       NaN       NaN\n",
       "Forschungsinstitut für Opthalmologie - IRO            NaN       NaN       NaN\n",
       "Forschungsinstitut für biologischen Landbau - FIBL    NaN       NaN       NaN\n",
       "Forschungskommission SAGW                             NaN       NaN       NaN\n",
       "Franklin University Switzerland - FUS                 NaN       NaN       NaN\n",
       "Friedrich Miescher Institute - FMI                    NaN       NaN       NaN\n",
       "HES de Suisse occidentale - HES-SO                    NaN       NaN       NaN\n",
       "Haute école pédagogique BE, JU, NE - HEPBEJUNE        NaN       NaN       NaN\n",
       "Haute école pédagogique du canton de Vaud - HEPL      NaN       NaN       NaN\n",
       "Haute école pédagogique fribourgeoise - HEPFR         NaN       NaN       NaN\n",
       "Hochschule Luzern - HSLU                              NaN       NaN       NaN\n",
       "Idiap Research Institute - IDIAP                      NaN       NaN       NaN\n",
       "...                                                   ...       ...       ...\n",
       "Pädagogische Hochschule Nordwestschweiz - PHFHNW      NaN       NaN       NaN\n",
       "Pädagogische Hochschule Schaffhausen - PHSH           NaN       NaN       NaN\n",
       "Pädagogische Hochschule Schwyz - PHSZ                 NaN       NaN       NaN\n",
       "Pädagogische Hochschule St. Gallen - PHSG             NaN       NaN       NaN\n",
       "Pädagogische Hochschule Thurgau - PHTG                NaN       NaN       NaN\n",
       "Pädagogische Hochschule Wallis - PHVS                 NaN       NaN       NaN\n",
       "Pädagogische Hochschule Zug - PHZG                    NaN       NaN       NaN\n",
       "Pädagogische Hochschule Zürich - PHZFH                NaN       NaN       NaN\n",
       "Robert Walser-Stiftung Bern - RWS                     NaN       NaN       NaN\n",
       "SUP della Svizzera italiana - SUPSI                   NaN       NaN       NaN\n",
       "Schweiz. Hochschule für Logopädie Rorschach - SHLR    NaN       NaN       NaN\n",
       "Schweiz. Institut für Kunstwissenschaft - SIK-ISEA    NaN       NaN       NaN\n",
       "Schweizer Kompetenzzentrum Sozialwissensch. - FORS    NaN       NaN       NaN\n",
       "Schweizer Paraplegiker Forschung - SPF                NaN       NaN       NaN\n",
       "Staatsunabh. Theologische Hochschule Basel - STHB     NaN       NaN       NaN\n",
       "Swiss Center for Electronics and Microtech. - CSEM    NaN       NaN       NaN\n",
       "Swiss Institute of Bioinformatics - SIB               NaN       NaN       NaN\n",
       "Università della Svizzera italiana - USI              NaN       NaN       NaN\n",
       "Universität Basel - BS                                 BS  47.55832   7.58403\n",
       "Universität Bern - BE                                  BE  46.95096   7.43548\n",
       "Universität Luzern - LU                               NaN       NaN       NaN\n",
       "Universität St. Gallen - SG                           NaN       NaN       NaN\n",
       "Universität Zürich - ZH                                ZH  47.37092   8.53434\n",
       "Université de Fribourg - FR                           NaN       NaN       NaN\n",
       "Université de Genève - GE                             NaN       NaN       NaN\n",
       "Université de Lausanne - LA                            VD  46.52376   6.58409\n",
       "Université de Neuchâtel - NE                          NaN       NaN       NaN\n",
       "Weitere Institute - FINST                             NaN       NaN       NaN\n",
       "Weitere Spitäler - ASPIT                              NaN       NaN       NaN\n",
       "Zürcher Fachhochschule (ohne PH) - ZFH                NaN       NaN       NaN\n",
       "\n",
       "[76 rows x 3 columns]"
      ]
     },
     "execution_count": 327,
     "metadata": {},
     "output_type": "execute_result"
    }
   ],
   "source": [
    "unis = pd.DataFrame(uni_infos).T\n",
    "unis.columns = ['canton', 'latitude', 'longitude']\n",
    "unis.index.name = 'university'\n",
    "unis"
   ]
  },
  {
   "cell_type": "code",
   "execution_count": 275,
   "metadata": {
    "collapsed": true
   },
   "outputs": [],
   "source": [
    "unis.to_csv('universities.csv')"
   ]
  },
  {
   "cell_type": "code",
   "execution_count": 276,
   "metadata": {
    "collapsed": false
   },
   "outputs": [
    {
     "name": "stdout",
     "output_type": "stream",
     "text": [
      "university,canton,latitude,longitude\r\n",
      "AO Research Institute - AORI,,,\r\n",
      "Allergie- und Asthmaforschung - SIAF,BE,46.94809,7.44744\r\n",
      "Berner Fachhochschule - BFH,,,\r\n",
      "Biotechnologie Institut Thurgau - BITG,,,\r\n"
     ]
    }
   ],
   "source": [
    "!head -n5 universities.csv"
   ]
  },
  {
   "cell_type": "code",
   "execution_count": 199,
   "metadata": {
    "collapsed": false
   },
   "outputs": [
    {
     "data": {
      "text/plain": [
       "university\n",
       "AO Research Institute - AORI                          NaN\n",
       "Berner Fachhochschule - BFH                           NaN\n",
       "Biotechnologie Institut Thurgau - BITG                NaN\n",
       "EPF Lausanne - EPFL                                   NaN\n",
       "Ente Ospedaliero Cantonale - EOC                      NaN\n",
       "Fachhochschule Kalaidos - FHKD                        NaN\n",
       "Fachhochschule Ostschweiz - FHO                       NaN\n",
       "Facoltà di Teologia di Lugano - FTL                   NaN\n",
       "Forschungsanstalten Agroscope - AGS                   NaN\n",
       "Forschungsinstitut für Opthalmologie - IRO            NaN\n",
       "Forschungsinstitut für biologischen Landbau - FIBL    NaN\n",
       "Franklin University Switzerland - FUS                 NaN\n",
       "Friedrich Miescher Institute - FMI                    NaN\n",
       "Haute école pédagogique du canton de Vaud - HEPL      NaN\n",
       "Haute école pédagogique fribourgeoise - HEPFR         NaN\n",
       "Hochschule Luzern - HSLU                              NaN\n",
       "Idiap Research Institute - IDIAP                      NaN\n",
       "Institut Universitaire Kurt Bösch - IUKB              NaN\n",
       "Institut für Kulturforschung Graubünden - IKG         NaN\n",
       "Instituto Ricerche Solari Locarno - IRSOL             NaN\n",
       "Istituto Svizzero di Roma - ISR                       NaN\n",
       "Nicht zuteilbar - NA                                  NaN\n",
       "Paul Scherrer Institut - PSI                          NaN\n",
       "Pädagogische Hochschule Bern - PHBern                 NaN\n",
       "Pädagogische Hochschule Graubünden - PHGR             NaN\n",
       "Pädagogische Hochschule Luzern - PHLU                 NaN\n",
       "Pädagogische Hochschule Nordwestschweiz - PHFHNW      NaN\n",
       "Pädagogische Hochschule Schaffhausen - PHSH           NaN\n",
       "Pädagogische Hochschule Schwyz - PHSZ                 NaN\n",
       "Pädagogische Hochschule Thurgau - PHTG                NaN\n",
       "Pädagogische Hochschule Wallis - PHVS                 NaN\n",
       "Pädagogische Hochschule Zug - PHZG                    NaN\n",
       "Pädagogische Hochschule Zürich - PHZFH                NaN\n",
       "SUP della Svizzera italiana - SUPSI                   NaN\n",
       "Schweizer Paraplegiker Forschung - SPF                NaN\n",
       "Swiss Institute of Bioinformatics - SIB               NaN\n",
       "Università della Svizzera italiana - USI              NaN\n",
       "Universität Luzern - LU                               NaN\n",
       "Université de Fribourg - FR                           NaN\n",
       "Université de Genève - GE                             NaN\n",
       "Université de Neuchâtel - NE                          NaN\n",
       "Weitere Institute - FINST                             NaN\n",
       "Weitere Spitäler - ASPIT                              NaN\n",
       "Name: cantons, dtype: object"
      ]
     },
     "execution_count": 199,
     "metadata": {},
     "output_type": "execute_result"
    }
   ],
   "source": [
    "uni_cantons[uni_cantons.isnull()]"
   ]
  },
  {
   "cell_type": "code",
   "execution_count": 191,
   "metadata": {
    "collapsed": false
   },
   "outputs": [
    {
     "data": {
      "text/plain": [
       "77"
      ]
     },
     "execution_count": 191,
     "metadata": {},
     "output_type": "execute_result"
    }
   ],
   "source": [
    "len(uni_cantons)"
   ]
  },
  {
   "cell_type": "code",
   "execution_count": 196,
   "metadata": {
    "collapsed": false
   },
   "outputs": [
    {
     "data": {
      "text/plain": [
       "78"
      ]
     },
     "execution_count": 196,
     "metadata": {},
     "output_type": "execute_result"
    }
   ],
   "source": [
    "len(df.University.unique())"
   ]
  },
  {
   "cell_type": "code",
   "execution_count": null,
   "metadata": {
    "collapsed": true
   },
   "outputs": [],
   "source": []
  }
 ],
 "metadata": {
  "kernelspec": {
   "display_name": "Python 3",
   "language": "python",
   "name": "python3"
  },
  "language_info": {
   "codemirror_mode": {
    "name": "ipython",
    "version": 3
   },
   "file_extension": ".py",
   "mimetype": "text/x-python",
   "name": "python",
   "nbconvert_exporter": "python",
   "pygments_lexer": "ipython3",
   "version": "3.5.2"
  }
 },
 "nbformat": 4,
 "nbformat_minor": 1
}
