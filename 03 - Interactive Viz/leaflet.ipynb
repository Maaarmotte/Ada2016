{
 "cells": [
  {
   "cell_type": "code",
   "execution_count": 188,
   "metadata": {
    "collapsed": true
   },
   "outputs": [],
   "source": [
    "import numpy as np\n",
    "import pandas as pd"
   ]
  },
  {
   "cell_type": "code",
   "execution_count": 190,
   "metadata": {
    "collapsed": false
   },
   "outputs": [
    {
     "data": {
      "text/html": [
       "<div>\n",
       "<table border=\"1\" class=\"dataframe\">\n",
       "  <thead>\n",
       "    <tr style=\"text-align: right;\">\n",
       "      <th></th>\n",
       "      <th>university</th>\n",
       "      <th>amount</th>\n",
       "    </tr>\n",
       "    <tr>\n",
       "      <th>project</th>\n",
       "      <th></th>\n",
       "      <th></th>\n",
       "    </tr>\n",
       "  </thead>\n",
       "  <tbody>\n",
       "    <tr>\n",
       "      <th>1</th>\n",
       "      <td>NaN</td>\n",
       "      <td>11619.0</td>\n",
       "    </tr>\n",
       "    <tr>\n",
       "      <th>4</th>\n",
       "      <td>Université de Genève - GE</td>\n",
       "      <td>41022.0</td>\n",
       "    </tr>\n",
       "    <tr>\n",
       "      <th>5</th>\n",
       "      <td>NPO (Biblioth., Museen, Verwalt.) - NPO</td>\n",
       "      <td>79732.0</td>\n",
       "    </tr>\n",
       "    <tr>\n",
       "      <th>6</th>\n",
       "      <td>Universität Basel - BS</td>\n",
       "      <td>52627.0</td>\n",
       "    </tr>\n",
       "    <tr>\n",
       "      <th>7</th>\n",
       "      <td>NPO (Biblioth., Museen, Verwalt.) - NPO</td>\n",
       "      <td>120042.0</td>\n",
       "    </tr>\n",
       "  </tbody>\n",
       "</table>\n",
       "</div>"
      ],
      "text/plain": [
       "                                      university    amount\n",
       "project                                                   \n",
       "1                                            NaN   11619.0\n",
       "4                      Université de Genève - GE   41022.0\n",
       "5        NPO (Biblioth., Museen, Verwalt.) - NPO   79732.0\n",
       "6                         Universität Basel - BS   52627.0\n",
       "7        NPO (Biblioth., Museen, Verwalt.) - NPO  120042.0"
      ]
     },
     "execution_count": 190,
     "metadata": {},
     "output_type": "execute_result"
    }
   ],
   "source": [
    "data = pd.read_csv('P3_GrantExport.csv', sep=';', index_col=0, na_values=['Nicht zuteilbar - NA'])\n",
    "data = data[['University', 'Approved Amount']]\n",
    "data.rename(columns={'University': 'university', 'Approved Amount': 'amount'}, inplace=True)\n",
    "data.index.name = 'project'\n",
    "data.amount = pd.to_numeric(data.amount, errors='coerce')\n",
    "data.head()"
   ]
  },
  {
   "cell_type": "code",
   "execution_count": 191,
   "metadata": {
    "collapsed": false,
    "scrolled": true
   },
   "outputs": [
    {
     "data": {
      "text/html": [
       "<div>\n",
       "<table border=\"1\" class=\"dataframe\">\n",
       "  <thead>\n",
       "    <tr style=\"text-align: right;\">\n",
       "      <th></th>\n",
       "      <th>canton</th>\n",
       "      <th>latitude</th>\n",
       "      <th>longitude</th>\n",
       "    </tr>\n",
       "    <tr>\n",
       "      <th>name</th>\n",
       "      <th></th>\n",
       "      <th></th>\n",
       "      <th></th>\n",
       "    </tr>\n",
       "  </thead>\n",
       "  <tbody>\n",
       "    <tr>\n",
       "      <th>Université de Genève - GE</th>\n",
       "      <td>GE</td>\n",
       "      <td>46.199444</td>\n",
       "      <td>6.145116</td>\n",
       "    </tr>\n",
       "    <tr>\n",
       "      <th>Universität Basel - BS</th>\n",
       "      <td>BS</td>\n",
       "      <td>47.560253</td>\n",
       "      <td>7.582600</td>\n",
       "    </tr>\n",
       "    <tr>\n",
       "      <th>Université de Fribourg - FR</th>\n",
       "      <td>FR</td>\n",
       "      <td>46.806357</td>\n",
       "      <td>7.152006</td>\n",
       "    </tr>\n",
       "    <tr>\n",
       "      <th>Universität Zürich - ZH</th>\n",
       "      <td>ZH</td>\n",
       "      <td>47.374322</td>\n",
       "      <td>8.550981</td>\n",
       "    </tr>\n",
       "    <tr>\n",
       "      <th>Université de Lausanne - LA</th>\n",
       "      <td>VD</td>\n",
       "      <td>46.521090</td>\n",
       "      <td>6.580161</td>\n",
       "    </tr>\n",
       "  </tbody>\n",
       "</table>\n",
       "</div>"
      ],
      "text/plain": [
       "                            canton   latitude  longitude\n",
       "name                                                    \n",
       "Université de Genève - GE       GE  46.199444   6.145116\n",
       "Universität Basel - BS          BS  47.560253   7.582600\n",
       "Université de Fribourg - FR     FR  46.806357   7.152006\n",
       "Universität Zürich - ZH         ZH  47.374322   8.550981\n",
       "Université de Lausanne - LA     VD  46.521090   6.580161"
      ]
     },
     "execution_count": 191,
     "metadata": {},
     "output_type": "execute_result"
    }
   ],
   "source": [
    "universities = pd.read_csv('universities.csv', index_col=0)\n",
    "swiss_cantons = ['ZH', 'BE', 'LU', 'UR', 'SZ', 'OW', 'NW', 'GL', 'ZG', 'FR', 'SO', 'BS', 'BL',\n",
    "                 'SH', 'AR', 'AI', 'SG', 'GR', 'AG', 'TG', 'TI', 'VD', 'VS', 'NE', 'GE', 'JU']\n",
    "universities = universities[universities.canton.isin(swiss_cantons)]\n",
    "universities.head()"
   ]
  },
  {
   "cell_type": "code",
   "execution_count": 197,
   "metadata": {
    "collapsed": false,
    "scrolled": true
   },
   "outputs": [
    {
     "data": {
      "text/plain": [
       "canton\n",
       "AG    1.152690e+08\n",
       "BE    1.555048e+09\n",
       "BS    1.392481e+09\n",
       "FR    4.590737e+08\n",
       "GE    1.877102e+09\n",
       "Name: amount, dtype: float64"
      ]
     },
     "execution_count": 197,
     "metadata": {},
     "output_type": "execute_result"
    }
   ],
   "source": [
    "cantons_amounts = data.merge(universities[['canton']], left_on='university', right_index=True)#, how='left')\n",
    "cantons_amounts = cantons_amounts.groupby('canton').sum()\n",
    "cantons_amounts = cantons_amounts.amount\n",
    "#cantons_index = pd.Index(['ZH', 'BE', 'LU', 'UR', 'SZ', 'OW', 'NW', 'GL', 'ZG', 'FR', 'SO', 'BS', 'BL',\n",
    "#          'SH', 'AR', 'AI', 'SG', 'GR', 'AG', 'TG', 'TI', 'VD', 'VS', 'NE', 'GE', 'JU'], name='canton')\n",
    "#cantons_amounts = cantons_amounts.reindex(cantons_index)\n",
    "cantons_amounts.head()"
   ]
  },
  {
   "cell_type": "code",
   "execution_count": 198,
   "metadata": {
    "collapsed": true
   },
   "outputs": [],
   "source": [
    "def linear_split(nb_classes):\n",
    "    return [round(cantons_amounts.quantile(i/nb_classes)) for i in range(1, nb_classes)]"
   ]
  },
  {
   "cell_type": "code",
   "execution_count": 199,
   "metadata": {
    "collapsed": false
   },
   "outputs": [],
   "source": [
    "with open('data.js', 'w') as f:\n",
    "    f.write('var universities = {}\\n'.format(universities.reset_index().to_json(orient='records')))\n",
    "    f.write('var cantons = {}\\n'.format(cantons_amounts.to_json()))\n",
    "    f.write('var scale = {}'.format(linear_split(6)))"
   ]
  },
  {
   "cell_type": "code",
   "execution_count": 1,
   "metadata": {
    "collapsed": false
   },
   "outputs": [
    {
     "data": {
      "text/html": [
       "<div style=\"position:relative;width:100%;height:0;padding-bottom:60%;\">\n",
       "<iframe src=\"leaflet.html\" style=\"position:absolute;width:100%;height:100%;left:0;top:0;\"></iframe></div>"
      ],
      "text/plain": [
       "<IPython.core.display.HTML object>"
      ]
     },
     "metadata": {},
     "output_type": "display_data"
    }
   ],
   "source": [
    "%%HTML\n",
    "<div style=\"position:relative;width:100%;height:0;padding-bottom:60%;\">\n",
    "<iframe src=\"leaflet.html\" style=\"position:absolute;width:100%;height:100%;left:0;top:0;\"></iframe></div>"
   ]
  },
  {
   "cell_type": "code",
   "execution_count": null,
   "metadata": {
    "collapsed": true
   },
   "outputs": [],
   "source": []
  }
 ],
 "metadata": {
  "kernelspec": {
   "display_name": "Python 3",
   "language": "python",
   "name": "python3"
  },
  "language_info": {
   "codemirror_mode": {
    "name": "ipython",
    "version": 3
   },
   "file_extension": ".py",
   "mimetype": "text/x-python",
   "name": "python",
   "nbconvert_exporter": "python",
   "pygments_lexer": "ipython3",
   "version": "3.5.2"
  }
 },
 "nbformat": 4,
 "nbformat_minor": 1
}
