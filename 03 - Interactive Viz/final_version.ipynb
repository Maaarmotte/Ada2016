{
 "cells": [
  {
   "cell_type": "code",
   "execution_count": 1,
   "metadata": {
    "collapsed": false
   },
   "outputs": [],
   "source": [
    "import numpy as np\n",
    "import pandas as pd\n",
    "%matplotlib inline\n",
    "import matplotlib.pyplot as plt"
   ]
  },
  {
   "cell_type": "markdown",
   "metadata": {},
   "source": [
    "<span style=\"color:red\">**Please clone the repository or download the zip version from GitHub so that the Javascript map displays correctly on your computer!**</span>"
   ]
  },
  {
   "cell_type": "markdown",
   "metadata": {},
   "source": [
    "## Choropleth Map\n",
    "The goal of this homework is to build a [choropleth map](https://en.wikipedia.org/wiki/Choropleth_map) showing how much research funding goes to each Swiss canton. We use the [P3 database](http://p3.snf.ch/) from the Swiss National Science Foundation. Since the data only contain the names of universities, we need to map each university to a location – and more specifically a canton. To this end, we use the Google Places and Google Geocoding APIs. Finally the map is created in Javascript using the [Leaflet](http://leafletjs.com/) library."
   ]
  },
  {
   "cell_type": "markdown",
   "metadata": {},
   "source": [
    "### Importing the data\n",
    "We get the data from the CSV file. In German, the text *Nicht zuteilbar - NA* means that there are no data so we specify we want the NaN value instead. We also specify that the index should be the *Project number* column. As seen below this index is unique."
   ]
  },
  {
   "cell_type": "code",
   "execution_count": 2,
   "metadata": {
    "collapsed": false
   },
   "outputs": [],
   "source": [
    "df = pd.read_csv('P3_GrantExport.csv', sep=';', index_col=0, na_values=['Nicht zuteilbar - NA'])"
   ]
  },
  {
   "cell_type": "code",
   "execution_count": 3,
   "metadata": {
    "collapsed": false,
    "scrolled": false
   },
   "outputs": [
    {
     "data": {
      "text/plain": [
       "True"
      ]
     },
     "execution_count": 3,
     "metadata": {},
     "output_type": "execute_result"
    }
   ],
   "source": [
    "df.index.is_unique"
   ]
  },
  {
   "cell_type": "markdown",
   "metadata": {},
   "source": [
    "### Locations of universities\n",
    "As seen below, the names of universities often contains a dash followed by the short name of the institute. To get more accurate results when using the Google API, we want to be able to remove this part of the name. The `trim_university_name(full_name)` function extracts only the first part of the university name.\n",
    "\n",
    "We also define a `search_uni(university_name)` function which returns a tuple containing the canton the university is in, the latitude and the longitude. The canton name is represented with two letters (e.g. GE for Geneva). All of these functions are defined in the utils.py file."
   ]
  },
  {
   "cell_type": "code",
   "execution_count": 4,
   "metadata": {
    "collapsed": true
   },
   "outputs": [],
   "source": [
    "from utils import trim_university_name, search_uni"
   ]
  },
  {
   "cell_type": "markdown",
   "metadata": {},
   "source": [
    "For instance, we can get the location of EPFL. **Please keep in mind that you need a Google API key to use the `search_uni()` function.** The key has to be in a JSON file named `google_api_key.json`, associated with the `api_key` key."
   ]
  },
  {
   "cell_type": "code",
   "execution_count": 5,
   "metadata": {
    "collapsed": false
   },
   "outputs": [],
   "source": [
    "#search_uni(trim_university_name('Ecole Polytechnique Fédérale de Lausanne - EPFL'))"
   ]
  },
  {
   "cell_type": "markdown",
   "metadata": {},
   "source": [
    "We want to create a CSV file containing the list of all universities that receive funding with their associated location and canton. First we create a series containing the names of all universities."
   ]
  },
  {
   "cell_type": "code",
   "execution_count": 6,
   "metadata": {
    "collapsed": false
   },
   "outputs": [
    {
     "data": {
      "text/plain": [
       "﻿\"Project Number\"\n",
       "4                   Université de Genève - GE\n",
       "5     NPO (Biblioth., Museen, Verwalt.) - NPO\n",
       "6                      Universität Basel - BS\n",
       "8                 Université de Fribourg - FR\n",
       "10                    Universität Zürich - ZH\n",
       "Name: University, dtype: object"
      ]
     },
     "execution_count": 6,
     "metadata": {},
     "output_type": "execute_result"
    }
   ],
   "source": [
    "uni_names = df.University.drop_duplicates().dropna()\n",
    "uni_names.head()"
   ]
  },
  {
   "cell_type": "markdown",
   "metadata": {},
   "source": [
    "Our dataset contains 76 universities"
   ]
  },
  {
   "cell_type": "code",
   "execution_count": 7,
   "metadata": {
    "collapsed": false
   },
   "outputs": [
    {
     "data": {
      "text/plain": [
       "76"
      ]
     },
     "execution_count": 7,
     "metadata": {},
     "output_type": "execute_result"
    }
   ],
   "source": [
    "uni_names.count()"
   ]
  },
  {
   "cell_type": "markdown",
   "metadata": {},
   "source": [
    "Then, we want to associate each university to its location. We create a dictionary containing this mapping that we use to create a Pandas dataframe. **Executing this cell sends a lot of requests to the Google API, you may prefer to skip it and load the CSV in the next cell!**"
   ]
  },
  {
   "cell_type": "code",
   "execution_count": 8,
   "metadata": {
    "collapsed": false
   },
   "outputs": [],
   "source": [
    "#uni_infos = {uni: search_uni(trim_university_name(uni)) for uni in uni_names}\n",
    "#uni_data = uni_names.map(lambda s: uni_infos[s] if uni_infos[s] is not None else (np.nan,) * 3)\n",
    "#unis = pd.DataFrame(uni_data.tolist(), columns=['canton', 'latitude', 'longitude'], index=uni_names)\n",
    "#unis.index.name = 'name'"
   ]
  },
  {
   "cell_type": "markdown",
   "metadata": {},
   "source": [
    "Load the data from the CSV file (useful to avoid requesting all the data from Google if we already did it)"
   ]
  },
  {
   "cell_type": "code",
   "execution_count": 9,
   "metadata": {
    "collapsed": false,
    "scrolled": true
   },
   "outputs": [
    {
     "data": {
      "text/html": [
       "<div>\n",
       "<table border=\"1\" class=\"dataframe\">\n",
       "  <thead>\n",
       "    <tr style=\"text-align: right;\">\n",
       "      <th></th>\n",
       "      <th>canton</th>\n",
       "      <th>latitude</th>\n",
       "      <th>longitude</th>\n",
       "    </tr>\n",
       "    <tr>\n",
       "      <th>name</th>\n",
       "      <th></th>\n",
       "      <th></th>\n",
       "      <th></th>\n",
       "    </tr>\n",
       "  </thead>\n",
       "  <tbody>\n",
       "    <tr>\n",
       "      <th>Université de Genève - GE</th>\n",
       "      <td>GE</td>\n",
       "      <td>46.199444</td>\n",
       "      <td>6.145116</td>\n",
       "    </tr>\n",
       "    <tr>\n",
       "      <th>NPO (Biblioth., Museen, Verwalt.) - NPO</th>\n",
       "      <td>NaN</td>\n",
       "      <td>NaN</td>\n",
       "      <td>NaN</td>\n",
       "    </tr>\n",
       "    <tr>\n",
       "      <th>Universität Basel - BS</th>\n",
       "      <td>BS</td>\n",
       "      <td>47.560253</td>\n",
       "      <td>7.582600</td>\n",
       "    </tr>\n",
       "    <tr>\n",
       "      <th>Université de Fribourg - FR</th>\n",
       "      <td>FR</td>\n",
       "      <td>46.806357</td>\n",
       "      <td>7.152006</td>\n",
       "    </tr>\n",
       "    <tr>\n",
       "      <th>Universität Zürich - ZH</th>\n",
       "      <td>ZH</td>\n",
       "      <td>47.374322</td>\n",
       "      <td>8.550981</td>\n",
       "    </tr>\n",
       "  </tbody>\n",
       "</table>\n",
       "</div>"
      ],
      "text/plain": [
       "                                        canton   latitude  longitude\n",
       "name                                                                \n",
       "Université de Genève - GE                   GE  46.199444   6.145116\n",
       "NPO (Biblioth., Museen, Verwalt.) - NPO    NaN        NaN        NaN\n",
       "Universität Basel - BS                      BS  47.560253   7.582600\n",
       "Université de Fribourg - FR                 FR  46.806357   7.152006\n",
       "Universität Zürich - ZH                     ZH  47.374322   8.550981"
      ]
     },
     "execution_count": 9,
     "metadata": {},
     "output_type": "execute_result"
    }
   ],
   "source": [
    "unis = pd.read_csv('universities.csv', index_col='name')\n",
    "unis.head()"
   ]
  },
  {
   "cell_type": "markdown",
   "metadata": {},
   "source": [
    "Export the data to a CSV file."
   ]
  },
  {
   "cell_type": "code",
   "execution_count": 10,
   "metadata": {
    "collapsed": true
   },
   "outputs": [],
   "source": [
    "unis.to_csv('universities.csv')"
   ]
  },
  {
   "cell_type": "markdown",
   "metadata": {},
   "source": [
    "We can see that we miss the location of 16 universities. We'll add the data manually. Note that some entries do not correspond to a specific place. For instance *weitere Institute* means other institutes and the first row corresponds to several libraries and museums. We'll leave these entries empty to exclude them from the analysis since we can't associate them to a specific canton."
   ]
  },
  {
   "cell_type": "code",
   "execution_count": 11,
   "metadata": {
    "collapsed": false,
    "scrolled": false
   },
   "outputs": [
    {
     "name": "stdout",
     "output_type": "stream",
     "text": [
      "There are 16 entries without location data.\n"
     ]
    },
    {
     "data": {
      "text/html": [
       "<div>\n",
       "<table border=\"1\" class=\"dataframe\">\n",
       "  <thead>\n",
       "    <tr style=\"text-align: right;\">\n",
       "      <th></th>\n",
       "      <th>canton</th>\n",
       "      <th>latitude</th>\n",
       "      <th>longitude</th>\n",
       "    </tr>\n",
       "    <tr>\n",
       "      <th>name</th>\n",
       "      <th></th>\n",
       "      <th></th>\n",
       "      <th></th>\n",
       "    </tr>\n",
       "  </thead>\n",
       "  <tbody>\n",
       "    <tr>\n",
       "      <th>NPO (Biblioth., Museen, Verwalt.) - NPO</th>\n",
       "      <td>NaN</td>\n",
       "      <td>NaN</td>\n",
       "      <td>NaN</td>\n",
       "    </tr>\n",
       "    <tr>\n",
       "      <th>Eidg. Forschungsanstalt für Wald,Schnee,Land - WSL</th>\n",
       "      <td>NaN</td>\n",
       "      <td>NaN</td>\n",
       "      <td>NaN</td>\n",
       "    </tr>\n",
       "    <tr>\n",
       "      <th>Weitere Institute - FINST</th>\n",
       "      <td>NaN</td>\n",
       "      <td>NaN</td>\n",
       "      <td>NaN</td>\n",
       "    </tr>\n",
       "    <tr>\n",
       "      <th>Firmen/Privatwirtschaft - FP</th>\n",
       "      <td>NaN</td>\n",
       "      <td>NaN</td>\n",
       "      <td>NaN</td>\n",
       "    </tr>\n",
       "    <tr>\n",
       "      <th>Eidg. Material und Prüfungsanstalt - EMPA</th>\n",
       "      <td>NaN</td>\n",
       "      <td>NaN</td>\n",
       "      <td>NaN</td>\n",
       "    </tr>\n",
       "    <tr>\n",
       "      <th>Physikal.-Meteorolog. Observatorium Davos - PMOD</th>\n",
       "      <td>NaN</td>\n",
       "      <td>NaN</td>\n",
       "      <td>NaN</td>\n",
       "    </tr>\n",
       "    <tr>\n",
       "      <th>Swiss Center for Electronics and Microtech. - CSEM</th>\n",
       "      <td>NaN</td>\n",
       "      <td>NaN</td>\n",
       "      <td>NaN</td>\n",
       "    </tr>\n",
       "    <tr>\n",
       "      <th>Weitere Spitäler - ASPIT</th>\n",
       "      <td>NaN</td>\n",
       "      <td>NaN</td>\n",
       "      <td>NaN</td>\n",
       "    </tr>\n",
       "    <tr>\n",
       "      <th>Forschungsanstalten Agroscope - AGS</th>\n",
       "      <td>NaN</td>\n",
       "      <td>NaN</td>\n",
       "      <td>NaN</td>\n",
       "    </tr>\n",
       "    <tr>\n",
       "      <th>Fachhochschule Nordwestschweiz (ohne PH) - FHNW</th>\n",
       "      <td>NaN</td>\n",
       "      <td>NaN</td>\n",
       "      <td>NaN</td>\n",
       "    </tr>\n",
       "    <tr>\n",
       "      <th>Swiss Institute of Bioinformatics - SIB</th>\n",
       "      <td>NaN</td>\n",
       "      <td>NaN</td>\n",
       "      <td>NaN</td>\n",
       "    </tr>\n",
       "    <tr>\n",
       "      <th>Haute école pédagogique BE, JU, NE - HEPBEJUNE</th>\n",
       "      <td>NaN</td>\n",
       "      <td>NaN</td>\n",
       "      <td>NaN</td>\n",
       "    </tr>\n",
       "    <tr>\n",
       "      <th>Forschungskommission SAGW</th>\n",
       "      <td>NaN</td>\n",
       "      <td>NaN</td>\n",
       "      <td>NaN</td>\n",
       "    </tr>\n",
       "    <tr>\n",
       "      <th>Pädag. Hochschule Tessin (Teilschule SUPSI) - ASP</th>\n",
       "      <td>NaN</td>\n",
       "      <td>NaN</td>\n",
       "      <td>NaN</td>\n",
       "    </tr>\n",
       "    <tr>\n",
       "      <th>Schweizer Kompetenzzentrum Sozialwissensch. - FORS</th>\n",
       "      <td>NaN</td>\n",
       "      <td>NaN</td>\n",
       "      <td>NaN</td>\n",
       "    </tr>\n",
       "    <tr>\n",
       "      <th>Staatsunabh. Theologische Hochschule Basel - STHB</th>\n",
       "      <td>NaN</td>\n",
       "      <td>NaN</td>\n",
       "      <td>NaN</td>\n",
       "    </tr>\n",
       "  </tbody>\n",
       "</table>\n",
       "</div>"
      ],
      "text/plain": [
       "                                                   canton  latitude  longitude\n",
       "name                                                                          \n",
       "NPO (Biblioth., Museen, Verwalt.) - NPO               NaN       NaN        NaN\n",
       "Eidg. Forschungsanstalt für Wald,Schnee,Land - WSL    NaN       NaN        NaN\n",
       "Weitere Institute - FINST                             NaN       NaN        NaN\n",
       "Firmen/Privatwirtschaft - FP                          NaN       NaN        NaN\n",
       "Eidg. Material und Prüfungsanstalt - EMPA             NaN       NaN        NaN\n",
       "Physikal.-Meteorolog. Observatorium Davos - PMOD      NaN       NaN        NaN\n",
       "Swiss Center for Electronics and Microtech. - CSEM    NaN       NaN        NaN\n",
       "Weitere Spitäler - ASPIT                              NaN       NaN        NaN\n",
       "Forschungsanstalten Agroscope - AGS                   NaN       NaN        NaN\n",
       "Fachhochschule Nordwestschweiz (ohne PH) - FHNW       NaN       NaN        NaN\n",
       "Swiss Institute of Bioinformatics - SIB               NaN       NaN        NaN\n",
       "Haute école pédagogique BE, JU, NE - HEPBEJUNE        NaN       NaN        NaN\n",
       "Forschungskommission SAGW                             NaN       NaN        NaN\n",
       "Pädag. Hochschule Tessin (Teilschule SUPSI) - ASP     NaN       NaN        NaN\n",
       "Schweizer Kompetenzzentrum Sozialwissensch. - FORS    NaN       NaN        NaN\n",
       "Staatsunabh. Theologische Hochschule Basel - STHB     NaN       NaN        NaN"
      ]
     },
     "execution_count": 11,
     "metadata": {},
     "output_type": "execute_result"
    }
   ],
   "source": [
    "missing_loc = unis[unis.isnull().any(axis=1)]\n",
    "print('There are {} entries without location data.'.format(len(missing_loc)))\n",
    "missing_loc"
   ]
  },
  {
   "cell_type": "code",
   "execution_count": 12,
   "metadata": {
    "collapsed": false
   },
   "outputs": [],
   "source": [
    "additional_data = {\n",
    "    'Physikal.-Meteorolog. Observatorium Davos - PMOD': ('GR', 46.8133161, 9.8422335),\n",
    "    'Swiss Center for Electronics and Microtech. - CSEM': ('NE', 46.997778, 6.9453443),\n",
    "    'Fachhochschule Nordwestschweiz (ohne PH) - FHNW': ('SO', 47.348146, 7.9056693),\n",
    "    'Swiss Institute of Bioinformatics - SIB': ('VD', 46.5205653, 6.5721676),\n",
    "    'Forschungskommission SAGW': ('BE', 46.94727, 7.4344473),\n",
    "    'Pädag. Hochschule Tessin (Teilschule SUPSI) - ASP': ('TI', 46.02351, 8.9149293),\n",
    "    'Schweizer Kompetenzzentrum Sozialwissensch. - FORS': ('VD', 46.5254827, 6.5784405),\n",
    "    'Staatsunabh. Theologische Hochschule Basel - STHB': ('BS', 47.581238, 7.6479233)\n",
    "}\n",
    "new_df = pd.DataFrame.from_dict(additional_data, orient='index')\n",
    "new_df.columns = ['canton', 'latitude', 'longitude']\n",
    "unis.update(new_df) # Replace old data in the original dataframe"
   ]
  },
  {
   "cell_type": "markdown",
   "metadata": {},
   "source": [
    "The 8 remaining entries could not be associated with a specific canton."
   ]
  },
  {
   "cell_type": "code",
   "execution_count": 13,
   "metadata": {
    "collapsed": false
   },
   "outputs": [
    {
     "data": {
      "text/plain": [
       "8"
      ]
     },
     "execution_count": 13,
     "metadata": {},
     "output_type": "execute_result"
    }
   ],
   "source": [
    "missing_loc = unis[unis.isnull().any(axis=1)]\n",
    "len(missing_loc)"
   ]
  },
  {
   "cell_type": "markdown",
   "metadata": {},
   "source": [
    "We can also notice that some universities aren't located in Switzerland (e.g. the Istituto Svizzero di Roma). And thus we can ignore them since they aren't associated with any canton. We also remove the NaN values at the same time since we already said we couldn't associate them to any canton."
   ]
  },
  {
   "cell_type": "code",
   "execution_count": 14,
   "metadata": {
    "collapsed": false
   },
   "outputs": [],
   "source": [
    "swiss_cantons = ['ZH', 'BE', 'LU', 'UR', 'SZ', 'OW', 'NW', 'GL', 'ZG', 'FR', 'SO', 'BS', 'BL',\n",
    "                 'SH', 'AR', 'AI', 'SG', 'GR', 'AG', 'TG', 'TI', 'VD', 'VS', 'NE', 'GE', 'JU']\n",
    "unis = unis[unis.canton.isin(swiss_cantons)]"
   ]
  },
  {
   "cell_type": "markdown",
   "metadata": {},
   "source": [
    "### Amount per canton\n",
    "First, we create a new dataframe containing, for each project, the amount and the university. We need to convert the *amount* column to a numeric type since it's loaded from the CSV as a string."
   ]
  },
  {
   "cell_type": "code",
   "execution_count": 15,
   "metadata": {
    "collapsed": false,
    "scrolled": true
   },
   "outputs": [
    {
     "data": {
      "text/html": [
       "<div>\n",
       "<table border=\"1\" class=\"dataframe\">\n",
       "  <thead>\n",
       "    <tr style=\"text-align: right;\">\n",
       "      <th></th>\n",
       "      <th>university</th>\n",
       "      <th>amount</th>\n",
       "    </tr>\n",
       "    <tr>\n",
       "      <th>project</th>\n",
       "      <th></th>\n",
       "      <th></th>\n",
       "    </tr>\n",
       "  </thead>\n",
       "  <tbody>\n",
       "    <tr>\n",
       "      <th>1</th>\n",
       "      <td>NaN</td>\n",
       "      <td>11619.0</td>\n",
       "    </tr>\n",
       "    <tr>\n",
       "      <th>4</th>\n",
       "      <td>Université de Genève - GE</td>\n",
       "      <td>41022.0</td>\n",
       "    </tr>\n",
       "    <tr>\n",
       "      <th>5</th>\n",
       "      <td>NPO (Biblioth., Museen, Verwalt.) - NPO</td>\n",
       "      <td>79732.0</td>\n",
       "    </tr>\n",
       "    <tr>\n",
       "      <th>6</th>\n",
       "      <td>Universität Basel - BS</td>\n",
       "      <td>52627.0</td>\n",
       "    </tr>\n",
       "    <tr>\n",
       "      <th>7</th>\n",
       "      <td>NPO (Biblioth., Museen, Verwalt.) - NPO</td>\n",
       "      <td>120042.0</td>\n",
       "    </tr>\n",
       "  </tbody>\n",
       "</table>\n",
       "</div>"
      ],
      "text/plain": [
       "                                      university    amount\n",
       "project                                                   \n",
       "1                                            NaN   11619.0\n",
       "4                      Université de Genève - GE   41022.0\n",
       "5        NPO (Biblioth., Museen, Verwalt.) - NPO   79732.0\n",
       "6                         Universität Basel - BS   52627.0\n",
       "7        NPO (Biblioth., Museen, Verwalt.) - NPO  120042.0"
      ]
     },
     "execution_count": 15,
     "metadata": {},
     "output_type": "execute_result"
    }
   ],
   "source": [
    "amounts = df[['University', 'Approved Amount']]\n",
    "amounts = amounts.rename(columns={'University': 'university', 'Approved Amount': 'amount'})\n",
    "amounts.index.name = 'project'\n",
    "amounts.amount = pd.to_numeric(amounts.amount, errors='coerce')\n",
    "amounts.head()"
   ]
  },
  {
   "cell_type": "markdown",
   "metadata": {},
   "source": [
    "We can now merge the two dataframes to also get the associated canton for each project. Finally, we can group by canton and sum to get the total amount of funding per canton."
   ]
  },
  {
   "cell_type": "code",
   "execution_count": 16,
   "metadata": {
    "collapsed": false
   },
   "outputs": [
    {
     "data": {
      "text/html": [
       "<div>\n",
       "<table border=\"1\" class=\"dataframe\">\n",
       "  <thead>\n",
       "    <tr style=\"text-align: right;\">\n",
       "      <th></th>\n",
       "      <th>university</th>\n",
       "      <th>amount</th>\n",
       "      <th>canton</th>\n",
       "    </tr>\n",
       "    <tr>\n",
       "      <th>project</th>\n",
       "      <th></th>\n",
       "      <th></th>\n",
       "      <th></th>\n",
       "    </tr>\n",
       "  </thead>\n",
       "  <tbody>\n",
       "    <tr>\n",
       "      <th>4</th>\n",
       "      <td>Université de Genève - GE</td>\n",
       "      <td>41022.0</td>\n",
       "      <td>GE</td>\n",
       "    </tr>\n",
       "    <tr>\n",
       "      <th>13</th>\n",
       "      <td>Université de Genève - GE</td>\n",
       "      <td>360000.0</td>\n",
       "      <td>GE</td>\n",
       "    </tr>\n",
       "    <tr>\n",
       "      <th>18</th>\n",
       "      <td>Université de Genève - GE</td>\n",
       "      <td>116991.0</td>\n",
       "      <td>GE</td>\n",
       "    </tr>\n",
       "    <tr>\n",
       "      <th>23</th>\n",
       "      <td>Université de Genève - GE</td>\n",
       "      <td>149485.0</td>\n",
       "      <td>GE</td>\n",
       "    </tr>\n",
       "    <tr>\n",
       "      <th>28</th>\n",
       "      <td>Université de Genève - GE</td>\n",
       "      <td>164602.0</td>\n",
       "      <td>GE</td>\n",
       "    </tr>\n",
       "  </tbody>\n",
       "</table>\n",
       "</div>"
      ],
      "text/plain": [
       "                        university    amount canton\n",
       "project                                            \n",
       "4        Université de Genève - GE   41022.0     GE\n",
       "13       Université de Genève - GE  360000.0     GE\n",
       "18       Université de Genève - GE  116991.0     GE\n",
       "23       Université de Genève - GE  149485.0     GE\n",
       "28       Université de Genève - GE  164602.0     GE"
      ]
     },
     "execution_count": 16,
     "metadata": {},
     "output_type": "execute_result"
    }
   ],
   "source": [
    "amounts = amounts.merge(unis[['canton']], left_on='university', right_index=True, how='right')\n",
    "amounts.head()"
   ]
  },
  {
   "cell_type": "code",
   "execution_count": 17,
   "metadata": {
    "collapsed": false,
    "scrolled": false
   },
   "outputs": [
    {
     "data": {
      "text/plain": [
       "canton\n",
       "AG    1.152690e+08\n",
       "BE    1.555148e+09\n",
       "BS    1.392498e+09\n",
       "FR    4.590737e+08\n",
       "GE    1.877102e+09\n",
       "Name: amount, dtype: float64"
      ]
     },
     "execution_count": 17,
     "metadata": {},
     "output_type": "execute_result"
    }
   ],
   "source": [
    "amounts = amounts.groupby('canton').sum()\n",
    "amounts = amounts.amount # The dataframe has only one column so we extract it to get a Pandas series\n",
    "amounts.head()"
   ]
  },
  {
   "cell_type": "markdown",
   "metadata": {},
   "source": [
    "The next cell makes sure all the Swiss cantons are in the `canton` series. We set the amount to 0 for the cantons that were missing."
   ]
  },
  {
   "cell_type": "code",
   "execution_count": 18,
   "metadata": {
    "collapsed": false
   },
   "outputs": [],
   "source": [
    "amounts = amounts.reindex(pd.Series(swiss_cantons)).fillna(0)"
   ]
  },
  {
   "cell_type": "markdown",
   "metadata": {},
   "source": [
    "### Building the map\n",
    "We build directly the map in Javascript using the Leaflet library instead of using Folium – which is a Python wrapper around Leaflet. Our Javascript script is called `leaflet.js` and is located in the `js` folder.\n",
    "\n",
    "We decided to use 6 classes to build our choropleth map since we noticed that using more than 6 makes it harder to spot the differences between non-ajdacent cantons. The map is interactive: you can hover a canton to show the absolute amount of funding, you can also choose whether to display the universities or not, it is also possible to show a line indicating the Röstigraben location. Moreover, we converted the TopoJSON file containing the Swiss cantons geometry to the GeoJSON format since Leaflet doesn't support the TopoJSON format. We chose the color for our 6 classes using [ColorBrewer](http://colorbrewer2.org).\n",
    "\n",
    "To chose split our data in 6 classes, we created the `linear_split(nb_classes)` and `quantiles_split(nb_classes)` functions. The first one chooses the threshold such that each class represents the same amount of money. The second one use quantiles such that each class contains the same number of cantons (except for cantons with no funding)."
   ]
  },
  {
   "cell_type": "code",
   "execution_count": 19,
   "metadata": {
    "collapsed": true
   },
   "outputs": [],
   "source": [
    "def linear_split(nb_classes):\n",
    "    linspace = np.linspace(amounts.min(), amounts.max(), nb_classes+1).round()\n",
    "    # We don't want to include the min and max value in the scale so that it is compatible with our JS script\n",
    "    return linspace[1:-1].tolist()"
   ]
  },
  {
   "cell_type": "code",
   "execution_count": 20,
   "metadata": {
    "collapsed": true
   },
   "outputs": [],
   "source": [
    "def quantiles_split(nb_classes):\n",
    "    # We ignore zero values so that cantons with no funding don't have an impact on the scale\n",
    "    return [round(amounts[amounts > 0].quantile(i/nb_classes)) for i in range(1, nb_classes)]"
   ]
  },
  {
   "cell_type": "markdown",
   "metadata": {},
   "source": [
    "To make our data available to our JS script, we export it to a *data.js* file which we load in the HTML page."
   ]
  },
  {
   "cell_type": "code",
   "execution_count": 21,
   "metadata": {
    "collapsed": true
   },
   "outputs": [],
   "source": [
    "def export_data(split_function):\n",
    "    with open('js/data.js', 'w') as f:\n",
    "        f.write('var universities = {}\\n'.format(unis.reset_index().to_json(orient='records')))\n",
    "        f.write('var cantons = {}\\n'.format(amounts.to_json()))\n",
    "        f.write('var scale = {}'.format(split_function(6)))"
   ]
  },
  {
   "cell_type": "markdown",
   "metadata": {},
   "source": [
    "You can see the result below. **Please note that the map won't show in the preview made by GitHub. You should clone the repository and reevaluate all the cells.**"
   ]
  },
  {
   "cell_type": "markdown",
   "metadata": {},
   "source": [
    "### Quantiles scale"
   ]
  },
  {
   "cell_type": "code",
   "execution_count": 22,
   "metadata": {
    "collapsed": false
   },
   "outputs": [],
   "source": [
    "from utils import display_map"
   ]
  },
  {
   "cell_type": "code",
   "execution_count": 23,
   "metadata": {
    "collapsed": false
   },
   "outputs": [
    {
     "data": {
      "text/html": [
       "\n",
       "    <div style=\"position:relative;width:100%;height:0;padding-bottom:60%;\">\n",
       "    <iframe src=\"leaflet.html\" style=\"position:absolute;width:100%;height:100%;left:0;top:0;\"></iframe></div>\n",
       "    "
      ],
      "text/plain": [
       "<IPython.core.display.HTML object>"
      ]
     },
     "metadata": {},
     "output_type": "display_data"
    }
   ],
   "source": [
    "export_data(quantiles_split)\n",
    "display_map()"
   ]
  },
  {
   "cell_type": "markdown",
   "metadata": {},
   "source": [
    "### Linear scale"
   ]
  },
  {
   "cell_type": "markdown",
   "metadata": {},
   "source": [
    "When using a linear scale, the color difference is proportional to the approved amount difference. The problem is that the range of values is big, and when two cantons have close values, they have the same color. In fact, the difference threshold is so high that most cantons have the color corresponding to the smallest amount. A solution could have been to use a logarithmic scale, but it makes the reading of the map too difficult."
   ]
  },
  {
   "cell_type": "code",
   "execution_count": null,
   "metadata": {
    "collapsed": false
   },
   "outputs": [],
   "source": [
    "export_data(linear_split)\n",
    "display_map()"
   ]
  },
  {
   "cell_type": "markdown",
   "metadata": {},
   "source": [
    "### Bonus: Röstigraben\n",
    "BONUS: using the map you have just built, and the geographical information contained in it, could you give a rough estimate of the difference in research funding between the areas divided by the Röstigraben?\n",
    "\n",
    "We know that the following cantons are French speaking:\n",
    "- Vaud (VD), Neuchatel (NE), Jura (JU), Geneva (GE)\n",
    "\n",
    "In some cantons, both languages are spoken:\n",
    "- Valais (VS), Fribourg (FR), Berne (BE)\n",
    "\n",
    "In Valais (VS), only one university is in the German speaking part. On top of that, it has only received an amount of CHF 12'000.-, which corresponds to $0.04$% of the money received by the canton and to less than $0.00001$% of the total amount. Thus, we count Valais as a French speaking canton.\n",
    "\n",
    "Fribourg (FR) is a complicated case, because the university is exactly on the Röstigraben. We cannot say if the people who received the money in Fribourg universities speak French or German, and thus we discard it.\n",
    "\n",
    "For Berne (BE), this is easy: all universities are in the German speaking area, we thus count it as a German speaking canton.\n",
    "\n",
    "Tessin is a particular case, because people speak neither French nor German (based on the Röstigraben map from Wikipedia). We decided to not take it into account, because the Röstigraben is only a border splitting the French and German speaking parts in two based on language, it has nothing to do with the Italian speaking part."
   ]
  },
  {
   "cell_type": "code",
   "execution_count": null,
   "metadata": {
    "collapsed": true
   },
   "outputs": [],
   "source": [
    "french_cantons = ['VD', 'NE', 'JU', 'VS', 'GE']\n",
    "ignored_cantons = ['FR', 'TI']"
   ]
  },
  {
   "cell_type": "markdown",
   "metadata": {},
   "source": [
    "Now, using the `amounts` table defined above, we can build the frame containing the amounts per canton for each region."
   ]
  },
  {
   "cell_type": "code",
   "execution_count": null,
   "metadata": {
    "collapsed": false
   },
   "outputs": [],
   "source": [
    "# The French speaking cantons\n",
    "data_french = amounts[amounts.index.isin(french_cantons)].to_frame()\n",
    "data_french['language'] = 'French speaking'\n",
    "data_french.set_index('language', inplace=True)\n",
    "\n",
    "# The German speaking cantons\n",
    "data_german = amounts[~amounts.index.isin(french_cantons+ignored_cantons)].to_frame()\n",
    "data_german['language'] = 'German speaking'\n",
    "data_german.set_index('language', inplace=True)"
   ]
  },
  {
   "cell_type": "markdown",
   "metadata": {},
   "source": [
    "Finally, the data are concatenated, groupbed by index and summed."
   ]
  },
  {
   "cell_type": "code",
   "execution_count": null,
   "metadata": {
    "collapsed": false
   },
   "outputs": [],
   "source": [
    "# Groupby index and sum the amounts per canton\n",
    "rostigraben = pd.concat([data_french, data_german], axis=0)\n",
    "grouped = rostigraben.groupby(rostigraben.index).sum()\n",
    "\n",
    "# Plot\n",
    "grouped.plot(y='amount', kind='pie', figsize=(6, 6), colormap='Pastel2', autopct='%1.1f%%')"
   ]
  },
  {
   "cell_type": "markdown",
   "metadata": {},
   "source": [
    "From the above results, we can conclude that approximatelty 60% of the grants are given to the German speaking area institutions and approximately 40% of the funding goes to the French speaking area. We excluded Fribourg which receives also quite considerable amount of grants, but as it lies in the border of French and German speaking areas, we will not allocate the sum to either of the sides. For a rough estimate the German speaking area gets more funding than the French speaking."
   ]
  }
 ],
 "metadata": {
  "anaconda-cloud": {},
  "kernelspec": {
   "display_name": "Python 3",
   "language": "python",
   "name": "python3"
  },
  "language_info": {
   "codemirror_mode": {
    "name": "ipython",
    "version": 3
   },
   "file_extension": ".py",
   "mimetype": "text/x-python",
   "name": "python",
   "nbconvert_exporter": "python",
   "pygments_lexer": "ipython3",
   "version": "3.5.2"
  }
 },
 "nbformat": 4,
 "nbformat_minor": 1
}
