{
 "cells": [
  {
   "cell_type": "code",
   "execution_count": 1,
   "metadata": {
    "collapsed": false,
    "scrolled": true
   },
   "outputs": [],
   "source": [
    "import pandas as pd\n",
    "import numpy as np\n",
    "%matplotlib inline\n",
    "import matplotlib.pyplot as plt\n",
    "from sklearn.ensemble import RandomForestClassifier\n",
    "from sklearn.pipeline import Pipeline\n",
    "from sklearn.grid_search import GridSearchCV\n",
    "from sklearn.cluster import KMeans\n",
    "from sklearn.metrics import f1_score, silhouette_score\n",
    "from sklearn import preprocessing\n",
    "from random import shuffle\n",
    "import seaborn as sns"
   ]
  },
  {
   "cell_type": "markdown",
   "metadata": {},
   "source": [
    "## Loading the data"
   ]
  },
  {
   "cell_type": "code",
   "execution_count": 2,
   "metadata": {
    "collapsed": false,
    "scrolled": true
   },
   "outputs": [
    {
     "data": {
      "text/html": [
       "<div>\n",
       "<table border=\"1\" class=\"dataframe\">\n",
       "  <thead>\n",
       "    <tr style=\"text-align: right;\">\n",
       "      <th></th>\n",
       "      <th>playerShort</th>\n",
       "      <th>player</th>\n",
       "      <th>club</th>\n",
       "      <th>leagueCountry</th>\n",
       "      <th>birthday</th>\n",
       "      <th>height</th>\n",
       "      <th>weight</th>\n",
       "      <th>position</th>\n",
       "      <th>games</th>\n",
       "      <th>victories</th>\n",
       "      <th>...</th>\n",
       "      <th>rater2</th>\n",
       "      <th>refNum</th>\n",
       "      <th>refCountry</th>\n",
       "      <th>Alpha_3</th>\n",
       "      <th>meanIAT</th>\n",
       "      <th>nIAT</th>\n",
       "      <th>seIAT</th>\n",
       "      <th>meanExp</th>\n",
       "      <th>nExp</th>\n",
       "      <th>seExp</th>\n",
       "    </tr>\n",
       "  </thead>\n",
       "  <tbody>\n",
       "    <tr>\n",
       "      <th>0</th>\n",
       "      <td>lucas-wilchez</td>\n",
       "      <td>Lucas Wilchez</td>\n",
       "      <td>Real Zaragoza</td>\n",
       "      <td>Spain</td>\n",
       "      <td>31.08.1983</td>\n",
       "      <td>177.0</td>\n",
       "      <td>72.0</td>\n",
       "      <td>Attacking Midfielder</td>\n",
       "      <td>1</td>\n",
       "      <td>0</td>\n",
       "      <td>...</td>\n",
       "      <td>0.50</td>\n",
       "      <td>1</td>\n",
       "      <td>1</td>\n",
       "      <td>GRC</td>\n",
       "      <td>0.326391</td>\n",
       "      <td>712.0</td>\n",
       "      <td>0.000564</td>\n",
       "      <td>0.396000</td>\n",
       "      <td>750.0</td>\n",
       "      <td>0.002696</td>\n",
       "    </tr>\n",
       "    <tr>\n",
       "      <th>1</th>\n",
       "      <td>john-utaka</td>\n",
       "      <td>John Utaka</td>\n",
       "      <td>Montpellier HSC</td>\n",
       "      <td>France</td>\n",
       "      <td>08.01.1982</td>\n",
       "      <td>179.0</td>\n",
       "      <td>82.0</td>\n",
       "      <td>Right Winger</td>\n",
       "      <td>1</td>\n",
       "      <td>0</td>\n",
       "      <td>...</td>\n",
       "      <td>0.75</td>\n",
       "      <td>2</td>\n",
       "      <td>2</td>\n",
       "      <td>ZMB</td>\n",
       "      <td>0.203375</td>\n",
       "      <td>40.0</td>\n",
       "      <td>0.010875</td>\n",
       "      <td>-0.204082</td>\n",
       "      <td>49.0</td>\n",
       "      <td>0.061504</td>\n",
       "    </tr>\n",
       "    <tr>\n",
       "      <th>2</th>\n",
       "      <td>abdon-prats</td>\n",
       "      <td>Abdón Prats</td>\n",
       "      <td>RCD Mallorca</td>\n",
       "      <td>Spain</td>\n",
       "      <td>17.12.1992</td>\n",
       "      <td>181.0</td>\n",
       "      <td>79.0</td>\n",
       "      <td>NaN</td>\n",
       "      <td>1</td>\n",
       "      <td>0</td>\n",
       "      <td>...</td>\n",
       "      <td>NaN</td>\n",
       "      <td>3</td>\n",
       "      <td>3</td>\n",
       "      <td>ESP</td>\n",
       "      <td>0.369894</td>\n",
       "      <td>1785.0</td>\n",
       "      <td>0.000229</td>\n",
       "      <td>0.588297</td>\n",
       "      <td>1897.0</td>\n",
       "      <td>0.001002</td>\n",
       "    </tr>\n",
       "    <tr>\n",
       "      <th>3</th>\n",
       "      <td>pablo-mari</td>\n",
       "      <td>Pablo Marí</td>\n",
       "      <td>RCD Mallorca</td>\n",
       "      <td>Spain</td>\n",
       "      <td>31.08.1993</td>\n",
       "      <td>191.0</td>\n",
       "      <td>87.0</td>\n",
       "      <td>Center Back</td>\n",
       "      <td>1</td>\n",
       "      <td>1</td>\n",
       "      <td>...</td>\n",
       "      <td>NaN</td>\n",
       "      <td>3</td>\n",
       "      <td>3</td>\n",
       "      <td>ESP</td>\n",
       "      <td>0.369894</td>\n",
       "      <td>1785.0</td>\n",
       "      <td>0.000229</td>\n",
       "      <td>0.588297</td>\n",
       "      <td>1897.0</td>\n",
       "      <td>0.001002</td>\n",
       "    </tr>\n",
       "    <tr>\n",
       "      <th>4</th>\n",
       "      <td>ruben-pena</td>\n",
       "      <td>Rubén Peña</td>\n",
       "      <td>Real Valladolid</td>\n",
       "      <td>Spain</td>\n",
       "      <td>18.07.1991</td>\n",
       "      <td>172.0</td>\n",
       "      <td>70.0</td>\n",
       "      <td>Right Midfielder</td>\n",
       "      <td>1</td>\n",
       "      <td>1</td>\n",
       "      <td>...</td>\n",
       "      <td>NaN</td>\n",
       "      <td>3</td>\n",
       "      <td>3</td>\n",
       "      <td>ESP</td>\n",
       "      <td>0.369894</td>\n",
       "      <td>1785.0</td>\n",
       "      <td>0.000229</td>\n",
       "      <td>0.588297</td>\n",
       "      <td>1897.0</td>\n",
       "      <td>0.001002</td>\n",
       "    </tr>\n",
       "  </tbody>\n",
       "</table>\n",
       "<p>5 rows × 28 columns</p>\n",
       "</div>"
      ],
      "text/plain": [
       "     playerShort         player             club leagueCountry    birthday  \\\n",
       "0  lucas-wilchez  Lucas Wilchez    Real Zaragoza         Spain  31.08.1983   \n",
       "1     john-utaka     John Utaka  Montpellier HSC        France  08.01.1982   \n",
       "2    abdon-prats    Abdón Prats     RCD Mallorca         Spain  17.12.1992   \n",
       "3     pablo-mari     Pablo Marí     RCD Mallorca         Spain  31.08.1993   \n",
       "4     ruben-pena     Rubén Peña  Real Valladolid         Spain  18.07.1991   \n",
       "\n",
       "   height  weight              position  games  victories    ...     rater2  \\\n",
       "0   177.0    72.0  Attacking Midfielder      1          0    ...       0.50   \n",
       "1   179.0    82.0          Right Winger      1          0    ...       0.75   \n",
       "2   181.0    79.0                   NaN      1          0    ...        NaN   \n",
       "3   191.0    87.0           Center Back      1          1    ...        NaN   \n",
       "4   172.0    70.0      Right Midfielder      1          1    ...        NaN   \n",
       "\n",
       "   refNum  refCountry  Alpha_3   meanIAT    nIAT     seIAT   meanExp    nExp  \\\n",
       "0       1           1      GRC  0.326391   712.0  0.000564  0.396000   750.0   \n",
       "1       2           2      ZMB  0.203375    40.0  0.010875 -0.204082    49.0   \n",
       "2       3           3      ESP  0.369894  1785.0  0.000229  0.588297  1897.0   \n",
       "3       3           3      ESP  0.369894  1785.0  0.000229  0.588297  1897.0   \n",
       "4       3           3      ESP  0.369894  1785.0  0.000229  0.588297  1897.0   \n",
       "\n",
       "      seExp  \n",
       "0  0.002696  \n",
       "1  0.061504  \n",
       "2  0.001002  \n",
       "3  0.001002  \n",
       "4  0.001002  \n",
       "\n",
       "[5 rows x 28 columns]"
      ]
     },
     "execution_count": 2,
     "metadata": {},
     "output_type": "execute_result"
    }
   ],
   "source": [
    "df = pd.read_csv('CrowdstormingDataJuly1st.csv')\n",
    "df.head()"
   ]
  },
  {
   "cell_type": "markdown",
   "metadata": {},
   "source": [
    "## Cleaning the data\n",
    "As explained in [this notebook](https://nbviewer.jupyter.org/github/mathewzilla/redcard/blob/master/Crowdstorming_visualisation.ipynb), we need to remove some bogus data. When there are less than 22 dyads for a specific referee, it means he or she hasn't met 22 players. Thus it means he or she didn't referee a match in one of the four leagues we study here. Thus we remove its entries."
   ]
  },
  {
   "cell_type": "code",
   "execution_count": 3,
   "metadata": {
    "collapsed": false
   },
   "outputs": [],
   "source": [
    "ref_counts = df.refNum.value_counts()\n",
    "valid_refs = ref_counts[ref_counts >= 22]\n",
    "filtered = df[df.refNum.isin(valid_refs)].copy()"
   ]
  },
  {
   "cell_type": "code",
   "execution_count": 4,
   "metadata": {
    "collapsed": false
   },
   "outputs": [
    {
     "name": "stdout",
     "output_type": "stream",
     "text": [
      "After filtering, we lose 42 players, which represents 2.05% of the players.\n",
      "We still have N=2011 players in our dataset, which is enough.\n"
     ]
    }
   ],
   "source": [
    "def count_values(series):\n",
    "    return series.value_counts().count()\n",
    "\n",
    "old_nb_players = count_values(df.playerShort)\n",
    "new_nb_players = count_values(filtered.playerShort)\n",
    "delta = old_nb_players - new_nb_players\n",
    "\n",
    "print('After filtering, we lose {} players, which represents {:.2f}% of the players.'.format(\n",
    "        delta, delta/old_nb_players*100))\n",
    "print('We still have N={} players in our dataset, which is enough.'.format(new_nb_players))"
   ]
  },
  {
   "cell_type": "code",
   "execution_count": 5,
   "metadata": {
    "collapsed": false
   },
   "outputs": [
    {
     "name": "stdout",
     "output_type": "stream",
     "text": [
      "After filtering, we lose 2830 referees, which represents 89.93% of the referees.\n"
     ]
    }
   ],
   "source": [
    "old_nb_refs = count_values(df.refNum)\n",
    "delta = old_nb_refs - count_values(filtered.refNum)\n",
    "\n",
    "print('After filtering, we lose {} referees, which represents {:.2f}% of the referees.'.format(\n",
    "        delta, delta/old_nb_refs*100))"
   ]
  },
  {
   "cell_type": "markdown",
   "metadata": {},
   "source": [
    "## Building the features\n",
    "Since we're interested in predicting the skin color of a player, we'll group the data by player. First we can check that the `playerShort` field uniquely determines a player since there are no duplicates when we index by `playerShort` and `refNum`."
   ]
  },
  {
   "cell_type": "code",
   "execution_count": 6,
   "metadata": {
    "collapsed": false
   },
   "outputs": [
    {
     "data": {
      "text/plain": [
       "True"
      ]
     },
     "execution_count": 6,
     "metadata": {},
     "output_type": "execute_result"
    }
   ],
   "source": [
    "filtered.set_index(['playerShort', 'refNum']).index.is_unique"
   ]
  },
  {
   "cell_type": "code",
   "execution_count": 7,
   "metadata": {
    "collapsed": false
   },
   "outputs": [
    {
     "data": {
      "text/plain": [
       "Index(['playerShort', 'player', 'club', 'leagueCountry', 'birthday', 'height',\n",
       "       'weight', 'position', 'games', 'victories', 'ties', 'defeats', 'goals',\n",
       "       'yellowCards', 'yellowReds', 'redCards', 'photoID', 'rater1', 'rater2',\n",
       "       'refNum', 'refCountry', 'Alpha_3', 'meanIAT', 'nIAT', 'seIAT',\n",
       "       'meanExp', 'nExp', 'seExp'],\n",
       "      dtype='object')"
      ]
     },
     "execution_count": 7,
     "metadata": {},
     "output_type": "execute_result"
    }
   ],
   "source": [
    "filtered.columns"
   ]
  },
  {
   "cell_type": "markdown",
   "metadata": {},
   "source": [
    "We want to group the entries by player. Therefore we need to find a way to aggregate the data in a meaningful way to create good features. Let's have a look at the data we have and specify what we want to do with each column:\n",
    "* __player__: we could use the first and/or last name of a player as a feature. Adding it as a feature using dummy variables would add too many dimensions. Processing it in a more complicated would take too much time so we ignore it for now.\n",
    "\n",
    "* __club__, __leagueCountry__: we encode these as a categorical feature\n",
    "* __birthday__: we drop it since it should be independent of the skin color\n",
    "* __height__, __weight__: we keep them as is since due to genetics skin color and height/weight could be correlated\n",
    "* __position__: we encode it as a categorical feature\n",
    "* __games__, __victories__, __ties__, __defeats__, __goals__: we sum these for each player\n",
    "* __yellowCards__, __yellowReds__, __redCards__: likewise\n",
    "* __photoID__: just a file name, not useful\n",
    "* __rater1__, __rater2__: we create a new feature which is the mean of these two\n",
    "* __refNum__, __refCountry__, __Alpha_3__: we drop them since it's not related to the player and is redundant with the IAT and exp scores\n",
    "* __meanIAT__, __seIAT__: we average them so that we know, on average, how biased were the referees the player met (note that for the standard error, we can't just average it)\n",
    "* __meanExp__, __seExp__: likewise\n",
    "* __nIAT__, __nExp__: we drop them, they could be useful to estimate the accuracy of the IAT and Exp scores though"
   ]
  },
  {
   "cell_type": "markdown",
   "metadata": {},
   "source": [
    "First, we compute the average skin color rating of each player. We can also remove the players for which we don't have a rating of their skin color since we miss the label."
   ]
  },
  {
   "cell_type": "code",
   "execution_count": 8,
   "metadata": {
    "collapsed": false,
    "scrolled": true
   },
   "outputs": [
    {
     "name": "stdout",
     "output_type": "stream",
     "text": [
      "We now have N=1572 players.\n"
     ]
    }
   ],
   "source": [
    "filtered['skinColor'] = (filtered.rater1 + filtered.rater2) / 2\n",
    "filtered.dropna(subset=['rater1', 'rater2'], inplace=True)\n",
    "\n",
    "print('We now have N={} players.'.format(count_values(filtered.playerShort)))"
   ]
  },
  {
   "cell_type": "markdown",
   "metadata": {},
   "source": [
    "Do we want to drop the samples for which we don't have all the data? As seen in the cell below, we only lose 159 players if we use `dropna()`, this is reasonable and should not impact our learning too much. Thus we drop these rows."
   ]
  },
  {
   "cell_type": "code",
   "execution_count": 9,
   "metadata": {
    "collapsed": false
   },
   "outputs": [
    {
     "data": {
      "text/plain": [
       "1413"
      ]
     },
     "execution_count": 9,
     "metadata": {},
     "output_type": "execute_result"
    }
   ],
   "source": [
    "count_values(filtered.dropna().playerShort)"
   ]
  },
  {
   "cell_type": "code",
   "execution_count": 10,
   "metadata": {
    "collapsed": true
   },
   "outputs": [],
   "source": [
    "filtered.dropna(inplace=True)"
   ]
  },
  {
   "cell_type": "markdown",
   "metadata": {},
   "source": [
    "As seen in the cells below. Encoding the league using dummy variables will create 4 features. This is not a problem. Likewise for the position of the player (12 distinct values). However, there are 117 different clubs in our dataset though, so encoding the club as dummy variables would create a large number of feature. We need to keep this in mind and see whether it's impacting negatively our classifier."
   ]
  },
  {
   "cell_type": "code",
   "execution_count": 11,
   "metadata": {
    "collapsed": false,
    "scrolled": false
   },
   "outputs": [
    {
     "data": {
      "text/plain": [
       "4"
      ]
     },
     "execution_count": 11,
     "metadata": {},
     "output_type": "execute_result"
    }
   ],
   "source": [
    "count_values(filtered.leagueCountry)"
   ]
  },
  {
   "cell_type": "code",
   "execution_count": 12,
   "metadata": {
    "collapsed": false,
    "scrolled": true
   },
   "outputs": [
    {
     "data": {
      "text/plain": [
       "12"
      ]
     },
     "execution_count": 12,
     "metadata": {},
     "output_type": "execute_result"
    }
   ],
   "source": [
    "count_values(filtered.position)"
   ]
  },
  {
   "cell_type": "code",
   "execution_count": 13,
   "metadata": {
    "collapsed": false
   },
   "outputs": [
    {
     "data": {
      "text/plain": [
       "91"
      ]
     },
     "execution_count": 13,
     "metadata": {},
     "output_type": "execute_result"
    }
   ],
   "source": [
    "count_values(filtered.club)"
   ]
  },
  {
   "cell_type": "markdown",
   "metadata": {},
   "source": [
    "We now group by and aggregate the data by player. We also encode the categorical features as dummy variables. Finally, we create two dataframes, X which is our set of samples and y which are the corresponding labels. We still need to discretize the y labels into multiple classes (skin tones). We'll do it later, let's first analyze a bit our dataset."
   ]
  },
  {
   "cell_type": "code",
   "execution_count": 14,
   "metadata": {
    "collapsed": false,
    "scrolled": false
   },
   "outputs": [],
   "source": [
    "averageSE = lambda x: np.sqrt((x ** 2).mean())\n",
    "\n",
    "# TODO : check if we want to add the club as a feature\n",
    "columns_to_keep = {'leagueCountry': 'first', 'height': 'first', 'weight': 'first',\n",
    "                   'position': 'first', 'games': 'sum', 'victories': 'sum', 'ties': 'sum', 'defeats': 'sum',\n",
    "                   'goals': 'sum', 'yellowCards': 'sum', 'yellowReds': 'sum', 'redCards': 'sum', 'skinColor': 'first',\n",
    "                   'meanIAT': 'mean', 'seIAT': averageSE, 'meanExp': 'mean', 'seExp': averageSE}\n",
    "data = filtered[list(columns_to_keep.keys()) + ['playerShort']]\n",
    "data = data.groupby('playerShort').agg(columns_to_keep)\n",
    "data = pd.get_dummies(data, columns=['leagueCountry', 'position'])\n",
    "\n",
    "y = data.skinColor\n",
    "X = data.drop('skinColor', axis=1)"
   ]
  },
  {
   "cell_type": "markdown",
   "metadata": {},
   "source": [
    "## Analyzing our freshly created dataset\n",
    "Do we need to normalize numerical features? For a random forests classifier the answer is no. By default, Scikit-Learn uses the Gini impurity function as a criterion for the best split at each level of a tree. Any monotonic pre-processing of the features won't have any effect on the splits of the tree. See [this quora topic](https://www.quora.com/Should-inputs-to-random-forests-be-normalized) and [this page](http://jordiinglada.net/wp/2015/04/22/should-we-always-normalize-image-features-before-classification/) for more details.\n",
    "\n",
    "As seen below, we have $N=1413$ samples and $D=30$ features."
   ]
  },
  {
   "cell_type": "code",
   "execution_count": 15,
   "metadata": {
    "collapsed": false,
    "scrolled": true
   },
   "outputs": [
    {
     "data": {
      "text/plain": [
       "(1413, 30)"
      ]
     },
     "execution_count": 15,
     "metadata": {},
     "output_type": "execute_result"
    }
   ],
   "source": [
    "X.shape"
   ]
  },
  {
   "cell_type": "markdown",
   "metadata": {},
   "source": [
    "Our features are the following:"
   ]
  },
  {
   "cell_type": "code",
   "execution_count": 16,
   "metadata": {
    "collapsed": false,
    "scrolled": true
   },
   "outputs": [
    {
     "data": {
      "text/plain": [
       "Index(['seIAT', 'height', 'seExp', 'yellowReds', 'goals', 'ties', 'redCards',\n",
       "       'yellowCards', 'games', 'victories', 'meanIAT', 'weight', 'defeats',\n",
       "       'meanExp', 'leagueCountry_England', 'leagueCountry_France',\n",
       "       'leagueCountry_Germany', 'leagueCountry_Spain',\n",
       "       'position_Attacking Midfielder', 'position_Center Back',\n",
       "       'position_Center Forward', 'position_Center Midfielder',\n",
       "       'position_Defensive Midfielder', 'position_Goalkeeper',\n",
       "       'position_Left Fullback', 'position_Left Midfielder',\n",
       "       'position_Left Winger', 'position_Right Fullback',\n",
       "       'position_Right Midfielder', 'position_Right Winger'],\n",
       "      dtype='object')"
      ]
     },
     "execution_count": 16,
     "metadata": {},
     "output_type": "execute_result"
    }
   ],
   "source": [
    "X.columns"
   ]
  },
  {
   "cell_type": "markdown",
   "metadata": {},
   "source": [
    "**We have a massive class imbalance!** If we discretize our skin color into 2 classes,  We have more than 5 times more white players than black players in the dataset. Even with 5 classes, two of them contain most of the samples. We'll have to be aware of this issue when splitting our dataset and also while training and evaluating our model."
   ]
  },
  {
   "cell_type": "code",
   "execution_count": 17,
   "metadata": {
    "collapsed": false
   },
   "outputs": [
    {
     "data": {
      "image/png": "[encoded data removed]",
      "text/plain": [
       "<matplotlib.figure.Figure at 0x7f0bd9d67da0>"
      ]
     },
     "metadata": {},
     "output_type": "display_data"
    }
   ],
   "source": [
    "sns.set_style('darkgrid')\n",
    "classes = pd.cut(y, bins=2, labels=['white', 'black'])\n",
    "classes.value_counts().sort_index().plot(kind='bar', title='Two classes')\n",
    "plt.ylabel('# of samples')\n",
    "plt.show()"
   ]
  },
  {
   "cell_type": "code",
   "execution_count": 18,
   "metadata": {
    "collapsed": false
   },
   "outputs": [
    {
     "data": {
      "image/png": "[encoded data removed]",
      "text/plain": [
       "<matplotlib.figure.Figure at 0x7f0bd9aa8780>"
      ]
     },
     "metadata": {},
     "output_type": "display_data"
    }
   ],
   "source": [
    "classes = pd.cut(y, bins=5, labels=['very light', 'light', 'medium', 'dark', 'very dark'])\n",
    "classes.value_counts().sort_index().plot(kind='bar', title='Five classes')\n",
    "plt.ylabel('# of samples')\n",
    "plt.show()"
   ]
  },
  {
   "cell_type": "markdown",
   "metadata": {},
   "source": [
    "## Fitting the model"
   ]
  },
  {
   "cell_type": "code",
   "execution_count": 19,
   "metadata": {
    "collapsed": false
   },
   "outputs": [],
   "source": [
    "from sklearn.ensemble import RandomForestClassifier\n",
    "from sklearn.cross_validation import train_test_split\n",
    "from sklearn.grid_search import GridSearchCV\n",
    "from sklearn.metrics import confusion_matrix, f1_score, precision_score, recall_score\n",
    "from sklearn.metrics import accuracy_score, make_scorer, cohen_kappa_score"
   ]
  },
  {
   "cell_type": "markdown",
   "metadata": {},
   "source": [
    "We first split our dataset into a train set and a test set. The split is random, samples are shuffled. The first one will be used to fit and evaluate the model using cross-validation. The test set will be used to evaluate our model at the very end. We will ignore the test set so we don't bias the final score of our model!\n",
    "\n",
    "Because of the class imbalance, we use a stratified cut to make sure that the proportion of the classes is the same in both the train and the test set."
   ]
  },
  {
   "cell_type": "markdown",
   "metadata": {},
   "source": [
    "### Without undersampling (class imbalance)"
   ]
  },
  {
   "cell_type": "code",
   "execution_count": 20,
   "metadata": {
    "collapsed": true
   },
   "outputs": [],
   "source": [
    "y_bin = pd.cut(y, bins=2, labels=np.arange(2))"
   ]
  },
  {
   "cell_type": "code",
   "execution_count": 21,
   "metadata": {
    "collapsed": false
   },
   "outputs": [],
   "source": [
    "X_tr, X_te, y_tr, y_te = train_test_split(np.array(X), np.array(y_bin), test_size=0.15,\n",
    "                                          random_state=1337, stratify=y_bin)"
   ]
  },
  {
   "cell_type": "code",
   "execution_count": 22,
   "metadata": {
    "collapsed": false,
    "scrolled": true
   },
   "outputs": [
    {
     "data": {
      "text/plain": [
       "GridSearchCV(cv=5, error_score='raise',\n",
       "       estimator=RandomForestClassifier(bootstrap=True, class_weight={0: 1.0, 1: 6.0},\n",
       "            criterion='gini', max_depth=None, max_features='auto',\n",
       "            max_leaf_nodes=None, min_samples_leaf=1, min_samples_split=2,\n",
       "            min_weight_fraction_leaf=0.0, n_estimators=10, n_jobs=1,\n",
       "            oob_score=False, random_state=None, verbose=0,\n",
       "            warm_start=False),\n",
       "       fit_params={}, iid=True, n_jobs=1,\n",
       "       param_grid={'n_estimators': array([ 5,  6,  7,  8,  9, 10, 11, 12, 13, 14, 15, 16, 17, 18, 19]), 'class_weight': [{0: 1.0, 1: 6.0}]},\n",
       "       pre_dispatch='2*n_jobs', refit=True, scoring=None, verbose=0)"
      ]
     },
     "execution_count": 22,
     "metadata": {},
     "output_type": "execute_result"
    }
   ],
   "source": [
    "rf = RandomForestClassifier(class_weight={0: 1.0, 1: 6.0})\n",
    "params = {'n_estimators': np.arange(5,20), 'class_weight':[{0: 1.0, 1: 6.0}]}\n",
    "clf = GridSearchCV(rf, param_grid=params, n_jobs=1, cv=5)#, scoring=make_scorer(cohen_kappa_score))\n",
    "clf.fit(X_tr, y_tr)"
   ]
  },
  {
   "cell_type": "code",
   "execution_count": 23,
   "metadata": {
    "collapsed": false,
    "scrolled": true
   },
   "outputs": [
    {
     "data": {
      "text/plain": [
       "0.83846794338051622"
      ]
     },
     "execution_count": 23,
     "metadata": {},
     "output_type": "execute_result"
    }
   ],
   "source": [
    "clf.best_score_"
   ]
  },
  {
   "cell_type": "code",
   "execution_count": 24,
   "metadata": {
    "collapsed": false
   },
   "outputs": [],
   "source": [
    "y_pred = clf.predict(X_te)"
   ]
  },
  {
   "cell_type": "code",
   "execution_count": 25,
   "metadata": {
    "collapsed": false
   },
   "outputs": [
    {
     "data": {
      "text/plain": [
       "0.83490566037735847"
      ]
     },
     "execution_count": 25,
     "metadata": {},
     "output_type": "execute_result"
    }
   ],
   "source": [
    "clf.score(X_te, y_te)"
   ]
  },
  {
   "cell_type": "code",
   "execution_count": 26,
   "metadata": {
    "collapsed": false,
    "scrolled": true
   },
   "outputs": [
    {
     "data": {
      "image/png": "[encoded data removed]",
      "text/plain": [
       "<matplotlib.figure.Figure at 0x7f0bd9a7a358>"
      ]
     },
     "metadata": {},
     "output_type": "display_data"
    }
   ],
   "source": [
    "sns.set_style('dark')\n",
    "cm = confusion_matrix(y_te, y_pred, labels=None)\n",
    "plt.matshow(cm, cmap=plt.cm.Blues)\n",
    "plt.colorbar()\n",
    "plt.ylabel('True label')\n",
    "plt.xlabel('Predicted label')\n",
    "plt.show()"
   ]
  },
  {
   "cell_type": "markdown",
   "metadata": {},
   "source": [
    "### With undersampling (much less samples but no imbalance)"
   ]
  },
  {
   "cell_type": "code",
   "execution_count": 27,
   "metadata": {
    "collapsed": true
   },
   "outputs": [],
   "source": [
    "white_indices = y_bin[y_bin == 0].index\n",
    "sample_size = sum(y_bin == 1)\n",
    "random_indices = np.random.choice(white_indices, sample_size, replace=False)\n",
    "indices = np.concatenate([random_indices, y_bin[y_bin == 1].index])"
   ]
  },
  {
   "cell_type": "code",
   "execution_count": 28,
   "metadata": {
    "collapsed": false
   },
   "outputs": [],
   "source": [
    "X_tr, X_te, y_tr, y_te = train_test_split(np.array(X.loc[indices]), np.array(y_bin.loc[indices]), test_size=0.15,\n",
    "                                          random_state=1337)"
   ]
  },
  {
   "cell_type": "code",
   "execution_count": 29,
   "metadata": {
    "collapsed": false
   },
   "outputs": [
    {
     "data": {
      "text/plain": [
       "GridSearchCV(cv=5, error_score='raise',\n",
       "       estimator=RandomForestClassifier(bootstrap=True, class_weight=None, criterion='gini',\n",
       "            max_depth=None, max_features='auto', max_leaf_nodes=None,\n",
       "            min_samples_leaf=1, min_samples_split=2,\n",
       "            min_weight_fraction_leaf=0.0, n_estimators=10, n_jobs=1,\n",
       "            oob_score=False, random_state=None, verbose=0,\n",
       "            warm_start=False),\n",
       "       fit_params={}, iid=True, n_jobs=1,\n",
       "       param_grid={'n_estimators': array([ 5,  6,  7,  8,  9, 10, 11, 12, 13, 14, 15, 16, 17, 18, 19])},\n",
       "       pre_dispatch='2*n_jobs', refit=True, scoring=None, verbose=0)"
      ]
     },
     "execution_count": 29,
     "metadata": {},
     "output_type": "execute_result"
    }
   ],
   "source": [
    "rf = RandomForestClassifier()\n",
    "params = {'n_estimators': np.arange(5,20)}\n",
    "clf = GridSearchCV(rf, param_grid=params, n_jobs=1, cv=5)\n",
    "clf.fit(X_tr, y_tr)"
   ]
  },
  {
   "cell_type": "code",
   "execution_count": 30,
   "metadata": {
    "collapsed": false
   },
   "outputs": [
    {
     "data": {
      "text/plain": [
       "0.66842105263157892"
      ]
     },
     "execution_count": 30,
     "metadata": {},
     "output_type": "execute_result"
    }
   ],
   "source": [
    "clf.best_score_"
   ]
  },
  {
   "cell_type": "code",
   "execution_count": 31,
   "metadata": {
    "collapsed": true
   },
   "outputs": [],
   "source": [
    "y_pred = clf.predict(X_te)"
   ]
  },
  {
   "cell_type": "code",
   "execution_count": 32,
   "metadata": {
    "collapsed": false
   },
   "outputs": [
    {
     "data": {
      "text/plain": [
       "0.67647058823529416"
      ]
     },
     "execution_count": 32,
     "metadata": {},
     "output_type": "execute_result"
    }
   ],
   "source": [
    "clf.score(X_te, y_te)"
   ]
  },
  {
   "cell_type": "code",
   "execution_count": 33,
   "metadata": {
    "collapsed": false
   },
   "outputs": [
    {
     "data": {
      "image/png": "[encoded data removed]",
      "text/plain": [
       "<matplotlib.figure.Figure at 0x7f0bd99d23c8>"
      ]
     },
     "metadata": {},
     "output_type": "display_data"
    }
   ],
   "source": [
    "sns.set_style('dark')\n",
    "cm = confusion_matrix(y_te, y_pred, labels=None)\n",
    "plt.matshow(cm, cmap=plt.cm.Blues)\n",
    "plt.colorbar()\n",
    "plt.ylabel('True label')\n",
    "plt.xlabel('Predicted label')\n",
    "plt.show()"
   ]
  },
  {
   "cell_type": "markdown",
   "metadata": {},
   "source": [
    "# Exercise 2\n",
    "_Aggregate the referee information grouping by soccer player, and use an unsupervised learning technique to cluster the soccer players in 2 disjoint clusters. Remove features iteratively, and at each step perform again the clustering and compute the silhouette score -- can you find a configuration of features with high silhouette score where players with dark and light skin colors belong to different clusters? Discuss the obtained results._"
   ]
  },
  {
   "cell_type": "markdown",
   "metadata": {},
   "source": [
    "As asked, the data will be grouped by player and the columns containing information about the referee will be aggregated. First, let's get a fresh copy of the data and drop NaN values."
   ]
  },
  {
   "cell_type": "code",
   "execution_count": 34,
   "metadata": {
    "collapsed": false
   },
   "outputs": [],
   "source": [
    "df = pd.read_csv('CrowdstormingDataJuly1st.csv')\n",
    "df.dropna(inplace=True)"
   ]
  },
  {
   "cell_type": "markdown",
   "metadata": {},
   "source": [
    "Now, as seen in exercise 1, the classes are completely imbalanced. Because of this, basic scoring functions such as F1 cannot be used, as they would output incorrect accuracy. As an example, we can group the data by player, use a binary representation of the skin color (black & white) and check what accuracy we can acheive by predicting that every player is white."
   ]
  },
  {
   "cell_type": "code",
   "execution_count": 35,
   "metadata": {
    "collapsed": false
   },
   "outputs": [
    {
     "data": {
      "text/plain": [
       "0.724179829890644"
      ]
     },
     "execution_count": 35,
     "metadata": {},
     "output_type": "execute_result"
    }
   ],
   "source": [
    "# Compute the skin tone\n",
    "# If skinTone <= 0.5 --> 0 (white)\n",
    "# If skinTone > 0.5 --> 1 (black)\n",
    "skinTone = (df.rater1 + df.rater2)/2\n",
    "df['skinTone'] = round(skinTone)\n",
    "\n",
    "truth = df.groupby('playerShort').first()['skinTone']\n",
    "\n",
    "1 - f1_score(truth, np.ones(len(truth)))"
   ]
  },
  {
   "cell_type": "markdown",
   "metadata": {},
   "source": [
    "We reached 72% precision without even training any algorithm ! Of course, this scoring function can't be used. Let's try something else."
   ]
  },
  {
   "cell_type": "code",
   "execution_count": 36,
   "metadata": {
    "collapsed": false
   },
   "outputs": [],
   "source": [
    "def ber(truth, predicted, classes):\n",
    "    errors = 0\n",
    "    lengths = [len(truth[truth == c]) for c in classes]\n",
    "    n = len(truth)\n",
    "    \n",
    "    for c in classes:\n",
    "        classError = 0  # Use a second variable to avoid float precision error when doing += 1/n\n",
    "        for i in range(n):\n",
    "            if predicted[i] != truth[i] and c == truth[i]:\n",
    "                classError += 1\n",
    "        errors += classError/lengths[c]\n",
    "            \n",
    "    return errors/len(classes)\n",
    "\n",
    "# Make this a scorer function\n",
    "ber_scorer = make_scorer(ber, greater_is_better=False)"
   ]
  },
  {
   "cell_type": "code",
   "execution_count": 37,
   "metadata": {
    "collapsed": false
   },
   "outputs": [
    {
     "data": {
      "text/plain": [
       "0.5"
      ]
     },
     "execution_count": 37,
     "metadata": {},
     "output_type": "execute_result"
    }
   ],
   "source": [
    "1 - ber(truth, np.ones(len(truth)), [0, 1])"
   ]
  },
  {
   "cell_type": "markdown",
   "metadata": {},
   "source": [
    "Ok this is better ! Using the Balanced Error Rate (http://icapeople.epfl.ch/mekhan/pcml15/project-2/objectDetection.html) we know obtain a precision of 50% when predicting that everybody is black. Now let's move to the problem itself. Group the data by player and average referee-related columns."
   ]
  },
  {
   "cell_type": "code",
   "execution_count": 38,
   "metadata": {
    "collapsed": false
   },
   "outputs": [
    {
     "data": {
      "text/html": [
       "<div>\n",
       "<table border=\"1\" class=\"dataframe\">\n",
       "  <thead>\n",
       "    <tr style=\"text-align: right;\">\n",
       "      <th></th>\n",
       "      <th>yellowCards</th>\n",
       "      <th>yellowReds</th>\n",
       "      <th>redCards</th>\n",
       "      <th>games</th>\n",
       "      <th>ties</th>\n",
       "      <th>goals</th>\n",
       "      <th>meanIAT</th>\n",
       "      <th>meanExp</th>\n",
       "      <th>seIAT</th>\n",
       "      <th>seExp</th>\n",
       "    </tr>\n",
       "    <tr>\n",
       "      <th>playerShort</th>\n",
       "      <th></th>\n",
       "      <th></th>\n",
       "      <th></th>\n",
       "      <th></th>\n",
       "      <th></th>\n",
       "      <th></th>\n",
       "      <th></th>\n",
       "      <th></th>\n",
       "      <th></th>\n",
       "      <th></th>\n",
       "    </tr>\n",
       "  </thead>\n",
       "  <tbody>\n",
       "    <tr>\n",
       "      <th>aaron-hughes</th>\n",
       "      <td>19</td>\n",
       "      <td>0</td>\n",
       "      <td>0</td>\n",
       "      <td>654</td>\n",
       "      <td>179</td>\n",
       "      <td>9</td>\n",
       "      <td>0.346459</td>\n",
       "      <td>0.494575</td>\n",
       "      <td>0.000257</td>\n",
       "      <td>0.002137</td>\n",
       "    </tr>\n",
       "    <tr>\n",
       "      <th>aaron-hunt</th>\n",
       "      <td>42</td>\n",
       "      <td>0</td>\n",
       "      <td>1</td>\n",
       "      <td>336</td>\n",
       "      <td>73</td>\n",
       "      <td>62</td>\n",
       "      <td>0.348818</td>\n",
       "      <td>0.449220</td>\n",
       "      <td>0.000055</td>\n",
       "      <td>0.000252</td>\n",
       "    </tr>\n",
       "    <tr>\n",
       "      <th>aaron-lennon</th>\n",
       "      <td>11</td>\n",
       "      <td>0</td>\n",
       "      <td>0</td>\n",
       "      <td>412</td>\n",
       "      <td>97</td>\n",
       "      <td>31</td>\n",
       "      <td>0.345893</td>\n",
       "      <td>0.491482</td>\n",
       "      <td>0.000126</td>\n",
       "      <td>0.000887</td>\n",
       "    </tr>\n",
       "    <tr>\n",
       "      <th>aaron-ramsey</th>\n",
       "      <td>31</td>\n",
       "      <td>0</td>\n",
       "      <td>1</td>\n",
       "      <td>260</td>\n",
       "      <td>42</td>\n",
       "      <td>39</td>\n",
       "      <td>0.346821</td>\n",
       "      <td>0.514693</td>\n",
       "      <td>0.002757</td>\n",
       "      <td>0.010251</td>\n",
       "    </tr>\n",
       "    <tr>\n",
       "      <th>abdelhamid-el-kaoutari</th>\n",
       "      <td>8</td>\n",
       "      <td>4</td>\n",
       "      <td>2</td>\n",
       "      <td>124</td>\n",
       "      <td>40</td>\n",
       "      <td>1</td>\n",
       "      <td>0.331600</td>\n",
       "      <td>0.335587</td>\n",
       "      <td>0.001037</td>\n",
       "      <td>0.003851</td>\n",
       "    </tr>\n",
       "  </tbody>\n",
       "</table>\n",
       "</div>"
      ],
      "text/plain": [
       "                        yellowCards  yellowReds  redCards  games  ties  goals  \\\n",
       "playerShort                                                                     \n",
       "aaron-hughes                     19           0         0    654   179      9   \n",
       "aaron-hunt                       42           0         1    336    73     62   \n",
       "aaron-lennon                     11           0         0    412    97     31   \n",
       "aaron-ramsey                     31           0         1    260    42     39   \n",
       "abdelhamid-el-kaoutari            8           4         2    124    40      1   \n",
       "\n",
       "                         meanIAT   meanExp     seIAT     seExp  \n",
       "playerShort                                                     \n",
       "aaron-hughes            0.346459  0.494575  0.000257  0.002137  \n",
       "aaron-hunt              0.348818  0.449220  0.000055  0.000252  \n",
       "aaron-lennon            0.345893  0.491482  0.000126  0.000887  \n",
       "aaron-ramsey            0.346821  0.514693  0.002757  0.010251  \n",
       "abdelhamid-el-kaoutari  0.331600  0.335587  0.001037  0.003851  "
      ]
     },
     "execution_count": 38,
     "metadata": {},
     "output_type": "execute_result"
    }
   ],
   "source": [
    "# Aggregate referees variables after grouping by players\n",
    "tosum = ['playerShort', 'yellowCards', 'yellowReds', 'redCards', 'games', 'ties', 'goals']\n",
    "tocollect = ['playerShort']\n",
    "tomean = ['playerShort', 'meanIAT', 'meanExp']\n",
    "tomeanstd = ['playerShort', 'seIAT', 'seExp']\n",
    "\n",
    "group1 = df[tosum].groupby('playerShort').sum()\n",
    "group2 = df[tocollect].groupby('playerShort').first()\n",
    "group3 = df[tomean].groupby('playerShort').mean()\n",
    "group4 = df[tomeanstd].groupby('playerShort').agg(lambda x: np.sqrt(np.mean(x**2)/len(x)))\n",
    "\n",
    "agg = pd.concat([group1, group2, group3, group4], axis=1)\n",
    "\n",
    "agg.head(5)"
   ]
  },
  {
   "cell_type": "markdown",
   "metadata": {},
   "source": [
    "You can see that we keep some player-related variables such has yellowCards, redCards, etc. This is because this also somewhat related to the referees, even if it is averaged, and we don't want to loose too much data. It if it useless, the feature engineering algorithm will remove them anyway."
   ]
  },
  {
   "cell_type": "markdown",
   "metadata": {},
   "source": [
    "Let's now define a few other functions that we will use with KMeans."
   ]
  },
  {
   "cell_type": "code",
   "execution_count": 39,
   "metadata": {
    "collapsed": true
   },
   "outputs": [],
   "source": [
    "# Change the order of the features\n",
    "def shuffle_features(X):\n",
    "    index = X.columns.values.tolist()\n",
    "    shuffle(index)\n",
    "    return X[index]"
   ]
  },
  {
   "cell_type": "code",
   "execution_count": 40,
   "metadata": {
    "collapsed": false
   },
   "outputs": [],
   "source": [
    "# Works with tuples (score, silhouette, fit, features)\n",
    "def compare_and_swap(best, current):\n",
    "    if current[0] > best[0]:\n",
    "        print(\"=== Current Best ===\")\n",
    "        print(\"Best accuracy: \" + str(current[0]))\n",
    "        print(\"Silhouette score: \" + str(current[1]))\n",
    "        print(\"Features: \" + str(current[3]))\n",
    "        print(\"====================\\n\")\n",
    "        return current\n",
    "    else:\n",
    "        return best"
   ]
  },
  {
   "cell_type": "code",
   "execution_count": 41,
   "metadata": {
    "collapsed": false
   },
   "outputs": [],
   "source": [
    "# Scale the between 0 and 1\n",
    "def scale(X):\n",
    "    columns = X.columns\n",
    "    index = X.index\n",
    "    X = pd.DataFrame(preprocessing.MinMaxScaler().fit_transform(agg))\n",
    "    X.columns = columns\n",
    "    X.index = index\n",
    "    return X"
   ]
  },
  {
   "cell_type": "markdown",
   "metadata": {},
   "source": [
    "Redefine the skin tone, but this time, round half up. This give a more balanced distribution. It is still very imbalanced."
   ]
  },
  {
   "cell_type": "code",
   "execution_count": 42,
   "metadata": {
    "collapsed": false
   },
   "outputs": [],
   "source": [
    "df['skinTone'] = (df.rater1 + df.rater2)/2\n",
    "skinTone = df.groupby('playerShort').first()['skinTone']\n",
    "skinTone[skinTone >= 0.5] = 1\n",
    "skinTone[skinTone < 0.5] = 0"
   ]
  },
  {
   "cell_type": "markdown",
   "metadata": {},
   "source": [
    "Compute the clusters centers using KMeans. The algorithm is run multiple times with one feature removed at each iteration. When no feature remains, the algorithm is restarted with all the feature in randomized order."
   ]
  },
  {
   "cell_type": "code",
   "execution_count": 43,
   "metadata": {
    "collapsed": false
   },
   "outputs": [
    {
     "name": "stdout",
     "output_type": "stream",
     "text": [
      "=== Current Best ===\n",
      "Best accuracy: 0.48663911845730023\n",
      "Silhouette score: 0.297767895442\n",
      "Features: ['meanExp' 'games' 'meanIAT' 'yellowReds' 'yellowCards' 'redCards' 'goals'\n",
      " 'seExp' 'seIAT']\n",
      "====================\n",
      "\n",
      "=== Current Best ===\n",
      "Best accuracy: 0.5133608815426998\n",
      "Silhouette score: 0.306319036171\n",
      "Features: ['meanExp' 'games' 'meanIAT' 'yellowReds' 'yellowCards' 'redCards' 'goals'\n",
      " 'seExp']\n",
      "====================\n",
      "\n",
      "=== Current Best ===\n",
      "Best accuracy: 0.5873278236914601\n",
      "Silhouette score: 0.606032508897\n",
      "Features: ['meanExp']\n",
      "====================\n",
      "\n",
      "=== Current Best ===\n",
      "Best accuracy: 0.5893939393939394\n",
      "Silhouette score: 0.479761157827\n",
      "Features: ['meanExp' 'seExp']\n",
      "====================\n",
      "\n",
      "=== Current Best ===\n",
      "Best accuracy: 0.5904040404040404\n",
      "Silhouette score: 0.834251829451\n",
      "Features: ['seExp']\n",
      "====================\n",
      "\n"
     ]
    }
   ],
   "source": [
    "agg = scale(agg)\n",
    "score = (0, 0, None, [])  # (accuracy, silhouette score, kmeans fit, selected features)\n",
    "\n",
    "for i in range(50):\n",
    "    data = shuffle_features(agg)\n",
    "    \n",
    "    while (len(data.columns) > 1):\n",
    "        data = data[data.columns[:-1]]\n",
    "        \n",
    "        kmeans = KMeans(2)\n",
    "        fit = kmeans.fit(data)\n",
    "\n",
    "        silhouette = silhouette_score(data, fit.labels_)\n",
    "        newScore = (1 - ber(skinTone, fit.labels_, [0, 1]), silhouette, fit, data.columns.values)\n",
    "        score = compare_and_swap(score, newScore)"
   ]
  },
  {
   "cell_type": "markdown",
   "metadata": {},
   "source": [
    "The best accuracy obtained is around 60%, which is very low. The cell below contains the best fit we had after a few runs."
   ]
  },
  {
   "cell_type": "code",
   "execution_count": 45,
   "metadata": {
    "collapsed": false
   },
   "outputs": [
    {
     "name": "stderr",
     "output_type": "stream",
     "text": [
      "/home/marmotte/anaconda3/lib/python3.5/site-packages/sklearn/cluster/k_means_.py:821: RuntimeWarning: Explicit initial center position passed: performing only one init in k-means instead of n_init=10\n",
      "  n_jobs=self.n_jobs)\n"
     ]
    },
    {
     "name": "stdout",
     "output_type": "stream",
     "text": [
      "Silhouette: 0.8342518294512679\n",
      "Accuracy: 0.5904040404040404\n"
     ]
    }
   ],
   "source": [
    "centers = np.array([[0.02057524], [0.20463645]])\n",
    "data = agg['seExp']\n",
    "\n",
    "fit = KMeans(2, init=centers).fit(data.reshape(-1, 1))\n",
    "\n",
    "silhouette = silhouette_score(data.reshape(-1, 1), fit.labels_)\n",
    "accuracy = 1 - ber(skinTone, fit.labels_, [0, 1])\n",
    "\n",
    "print(\"Silhouette: {}\".format(silhouette))\n",
    "print(\"Accuracy: {}\".format(accuracy))"
   ]
  },
  {
   "cell_type": "markdown",
   "metadata": {},
   "source": [
    "We can conclude that there is now way to correctly clusterize the players by skin color using referees features. Let's plot the confusion matrix."
   ]
  },
  {
   "cell_type": "code",
   "execution_count": 46,
   "metadata": {
    "collapsed": false
   },
   "outputs": [
    {
     "data": {
      "image/png": "[encoded data removed]",
      "text/plain": [
       "<matplotlib.figure.Figure at 0x7f0bd89cf278>"
      ]
     },
     "metadata": {},
     "output_type": "display_data"
    }
   ],
   "source": [
    "sns.set_style('dark')\n",
    "cm = confusion_matrix(skinTone, score[2].labels_)\n",
    "plt.matshow(cm, cmap=plt.cm.Blues)\n",
    "plt.colorbar()\n",
    "plt.ylabel('True label')\n",
    "plt.xlabel('Predicted label')\n",
    "plt.show()"
   ]
  },
  {
   "cell_type": "markdown",
   "metadata": {},
   "source": [
    "As expected, even if the BER accuracy is 60%, a lot of points are misclassified. Also, the precision comes mostly from white people correctly classified as white people, which already push the accuracy to 50% even with BER."
   ]
  },
  {
   "cell_type": "code",
   "execution_count": null,
   "metadata": {
    "collapsed": true
   },
   "outputs": [],
   "source": []
  }
 ],
 "metadata": {
  "anaconda-cloud": {},
  "kernelspec": {
   "display_name": "Python [Root]",
   "language": "python",
   "name": "Python [Root]"
  },
  "language_info": {
   "codemirror_mode": {
    "name": "ipython",
    "version": 3
   },
   "file_extension": ".py",
   "mimetype": "text/x-python",
   "name": "python",
   "nbconvert_exporter": "python",
   "pygments_lexer": "ipython3",
   "version": "3.5.2"
  }
 },
 "nbformat": 4,
 "nbformat_minor": 1
}
