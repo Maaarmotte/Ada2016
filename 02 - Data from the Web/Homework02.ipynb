{
 "cells": [
  {
   "cell_type": "markdown",
   "metadata": {},
   "source": [
    "# Homework 02 - Data from the Web\n",
    "\n",
    "Before doing computing any statistics, the data have to be fetched from the IS Academia web page. The following code will retrieve all the records for Computer Science (\"Informatique\") students from years 2007-2008 to 2016-2017 and concatenate them together in a big DataFrame. To avoid querying the service too often, the data are stored in a file and can be loaded from there. We could also have asked IS Academia to return all the records for Computer Science instead of iterating on the links it returns, but this method also returns older records and take longer.\n",
    "\n",
    "**Note that the current code won't fetch the data unless you uncomment the code a few cells below. By default, it will load the data from the cs_dump.pkl file.**"
   ]
  },
  {
   "cell_type": "code",
   "execution_count": 1,
   "metadata": {
    "collapsed": false
   },
   "outputs": [],
   "source": [
    "import requests\n",
    "from bs4 import BeautifulSoup\n",
    "from bs4 import SoupStrainer\n",
    "from scipy import stats\n",
    "import urllib.parse\n",
    "import re\n",
    "import pandas as pd"
   ]
  },
  {
   "cell_type": "code",
   "execution_count": 2,
   "metadata": {
    "collapsed": false
   },
   "outputs": [],
   "source": [
    "def get_is_academia_page(page, params={}):\n",
    "    \"\"\"\n",
    "        Return the content of a IS-Academia webpage as a string\n",
    "    \"\"\"\n",
    "    \n",
    "    BASE_URL = 'https://isa.epfl.ch/imoniteur_ISAP/'\n",
    "    PAGES = {'filter': '!GEDPUBLICREPORTS.filter', 'results': '!GEDPUBLICREPORTS.html'}\n",
    "    BASE_PARAMS = {'ww_i_reportmodel': '133685247', # Registered students by section and semester\n",
    "                   'ww_i_reportModelXsl': '133685270'}\n",
    "    \n",
    "    # Check the validity of the `page` parameter\n",
    "    if not isinstance(page, str) or page not in PAGES:\n",
    "        allowed_pages = ', '.join(PAGES.keys())\n",
    "        raise ValueError('page argument must be: {}'.format(allowed_pages))\n",
    "    \n",
    "    url = urllib.parse.urljoin(BASE_URL, PAGES[page]) # Create the URL\n",
    "    r = requests.get(url, params={**BASE_PARAMS, **params}) # Python 3.5 syntax for merging dictionaries\n",
    "    r.raise_for_status() # Raise an exception if we can't get the page\n",
    "\n",
    "    return r.text"
   ]
  },
  {
   "cell_type": "code",
   "execution_count": 3,
   "metadata": {
    "collapsed": true
   },
   "outputs": [],
   "source": [
    "def construct_dict_from_select(soup, match_name):\n",
    "    # Use a CSS selector to get the <option> tags that are child of\n",
    "    # a <select> tag with the specified `name` attribute\n",
    "    css_selector = 'select[name=\"{}\"] > option'.format(match_name)\n",
    "    option_tags = soup.select(css_selector)\n",
    "    \n",
    "    # Create a dictionary mapping the text to the internal ID used by IS-Acdemia\n",
    "    return {tag.string: tag['value'] for tag in option_tags if tag.string}"
   ]
  },
  {
   "cell_type": "code",
   "execution_count": 4,
   "metadata": {
    "collapsed": false
   },
   "outputs": [
    {
     "data": {
      "text/plain": [
       "{'2007-2008': '978181',\n",
       " '2008-2009': '978187',\n",
       " '2009-2010': '978195',\n",
       " '2010-2011': '39486325',\n",
       " '2011-2012': '123455150',\n",
       " '2012-2013': '123456101',\n",
       " '2013-2014': '213637754',\n",
       " '2014-2015': '213637922',\n",
       " '2015-2016': '213638028',\n",
       " '2016-2017': '355925344'}"
      ]
     },
     "execution_count": 4,
     "metadata": {},
     "output_type": "execute_result"
    }
   ],
   "source": [
    "# Use a strainer to parse only the <select> tags in the page\n",
    "strainer = SoupStrainer('select')\n",
    "page = get_is_academia_page('filter')\n",
    "soup = BeautifulSoup(page, 'html.parser', parse_only=strainer)\n",
    "\n",
    "# Create a dictionary mapping the departments ids\n",
    "departments = construct_dict_from_select(soup, 'ww_x_UNITE_ACAD')\n",
    "cs_department = departments['Informatique']\n",
    "# Create a dictionary mapping the years ids\n",
    "years = construct_dict_from_select(soup, 'ww_x_PERIODE_ACAD')\n",
    "\n",
    "years"
   ]
  },
  {
   "cell_type": "code",
   "execution_count": 5,
   "metadata": {
    "collapsed": false
   },
   "outputs": [],
   "source": [
    "def parse_semesters_list(year_id, department_id):\n",
    "    # HTTP parameters\n",
    "    params = {'ww_b_list': 1,\n",
    "              'ww_x_PERIODE_ACAD': year_id,\n",
    "              'ww_x_UNITE_ACAD': department_id}\n",
    "    \n",
    "    page = get_is_academia_page('filter', params)\n",
    "    strainer = SoupStrainer('a') # Only parse the <a> tags\n",
    "    soup = BeautifulSoup(page, 'html.parser', parse_only=strainer)\n",
    "\n",
    "    # Extract the ww_x_GPS id from the Javascript code in the `onclick` attribute of links\n",
    "    def extract_id(tag):\n",
    "        match = re.search('ww_x_GPS=(\\d+)', tag['onclick'])\n",
    "        if match is None: # Return None if there is no positive id associated with this link\n",
    "            return None\n",
    "        else:\n",
    "            return match.group(1)\n",
    "\n",
    "    # Create a dictionary mapping the semesters to their IDs\n",
    "    return {tag.text: extract_id(tag) for tag in soup.find_all('a') if extract_id(tag) is not None}"
   ]
  },
  {
   "cell_type": "code",
   "execution_count": 6,
   "metadata": {
    "collapsed": false,
    "scrolled": true
   },
   "outputs": [
    {
     "data": {
      "text/plain": [
       "{'Echange IN, 2007-2008, Semestre automne': '71454914',\n",
       " 'Echange IN, 2007-2008, Semestre printemps': '71454935',\n",
       " 'Echange IN, 2008-2009, Semestre automne': '117663512',\n",
       " 'Echange IN, 2008-2009, Semestre printemps': '117663545',\n",
       " 'Echange IN, 2009-2010, Semestre automne': '230302571',\n",
       " 'Echange IN, 2009-2010, Semestre printemps': '230302592',\n",
       " 'Echange IN, 2010-2011, Semestre automne': '357706512',\n",
       " 'Echange IN, 2010-2011, Semestre printemps': '357706534',\n",
       " 'Echange IN, 2011-2012, Semestre automne': '736316291',\n",
       " 'Echange IN, 2011-2012, Semestre printemps': '736316313',\n",
       " 'Echange IN, 2012-2013, Semestre automne': '1378335442',\n",
       " 'Echange IN, 2012-2013, Semestre printemps': '1378335469',\n",
       " 'Echange IN, 2013-2014, Semestre automne': '1650772948',\n",
       " 'Echange IN, 2013-2014, Semestre printemps': '1650772975',\n",
       " 'Echange IN, 2014-2015, Semestre automne': '1745516952',\n",
       " 'Echange IN, 2014-2015, Semestre printemps': '1745516979',\n",
       " 'Echange IN, 2015-2016, Semestre automne': '1897038293',\n",
       " 'Echange IN, 2015-2016, Semestre printemps': '1897038436',\n",
       " 'Echange IN, 2016-2017, Semestre automne': '2029692536',\n",
       " 'Echange IN, 2016-2017, Semestre printemps': '2029692599',\n",
       " 'Informatique, 2007-2008, Admission automne': '71454860',\n",
       " 'Informatique, 2007-2008, Admission printemps': '71454877',\n",
       " 'Informatique, 2007-2008, Bachelor semestre 1': '71297531',\n",
       " 'Informatique, 2007-2008, Bachelor semestre 2': '71297550',\n",
       " 'Informatique, 2007-2008, Bachelor semestre 3': '39494788',\n",
       " 'Informatique, 2007-2008, Bachelor semestre 4': '39494823',\n",
       " 'Informatique, 2007-2008, Bachelor semestre 5': '19561980',\n",
       " 'Informatique, 2007-2008, Bachelor semestre 6': '19561998',\n",
       " 'Informatique, 2007-2008, Master semestre 1': '71450699',\n",
       " 'Informatique, 2007-2008, Master semestre 2': '71450725',\n",
       " 'Informatique, 2007-2008, Master semestre 3': '39495424',\n",
       " 'Informatique, 2007-2008, Projet Master automne': '39495382',\n",
       " 'Informatique, 2007-2008, Projet Master printemps': '39495444',\n",
       " 'Informatique, 2008-2009, Admission automne': '109688019',\n",
       " 'Informatique, 2008-2009, Admission printemps': '109688039',\n",
       " 'Informatique, 2008-2009, Bachelor semestre 1': '109576936',\n",
       " 'Informatique, 2008-2009, Bachelor semestre 2': '109576955',\n",
       " 'Informatique, 2008-2009, Bachelor semestre 3': '71297569',\n",
       " 'Informatique, 2008-2009, Bachelor semestre 4': '71297587',\n",
       " 'Informatique, 2008-2009, Bachelor semestre 5': '39494874',\n",
       " 'Informatique, 2008-2009, Bachelor semestre 6': '39494897',\n",
       " 'Informatique, 2008-2009, Master semestre 1': '109592281',\n",
       " 'Informatique, 2008-2009, Master semestre 2': '109592309',\n",
       " 'Informatique, 2008-2009, Master semestre 3': '82157231',\n",
       " 'Informatique, 2008-2009, Projet Master automne': '71450749',\n",
       " 'Informatique, 2008-2009, Projet Master printemps': '82157266',\n",
       " 'Informatique, 2009-2010, Admission automne': '225815324',\n",
       " 'Informatique, 2009-2010, Admission printemps': '225815341',\n",
       " 'Informatique, 2009-2010, Bachelor semestre 1': '213617925',\n",
       " 'Informatique, 2009-2010, Bachelor semestre 2': '213617944',\n",
       " 'Informatique, 2009-2010, Bachelor semestre 3': '109576974',\n",
       " 'Informatique, 2009-2010, Bachelor semestre 4': '109576992',\n",
       " 'Informatique, 2009-2010, Bachelor semestre 5': '71297605',\n",
       " 'Informatique, 2009-2010, Bachelor semestre 6': '71297626',\n",
       " 'Informatique, 2009-2010, Master semestre 1': '213629838',\n",
       " 'Informatique, 2009-2010, Master semestre 2': '213629869',\n",
       " 'Informatique, 2009-2010, Master semestre 3': '109592375',\n",
       " 'Informatique, 2009-2010, Projet Master automne': '109592334',\n",
       " 'Informatique, 2009-2010, Projet Master printemps': '109592400',\n",
       " 'Informatique, 2010-2011, Admission automne': '357704346',\n",
       " 'Informatique, 2010-2011, Admission printemps': '357704367',\n",
       " 'Informatique, 2010-2011, Bachelor semestre 1': '357704486',\n",
       " 'Informatique, 2010-2011, Bachelor semestre 2': '357704513',\n",
       " 'Informatique, 2010-2011, Bachelor semestre 3': '213617963',\n",
       " 'Informatique, 2010-2011, Bachelor semestre 4': '213617981',\n",
       " 'Informatique, 2010-2011, Bachelor semestre 5': '109577010',\n",
       " 'Informatique, 2010-2011, Bachelor semestre 6': '109577031',\n",
       " 'Informatique, 2010-2011, Master semestre 1': '357707009',\n",
       " 'Informatique, 2010-2011, Master semestre 2': '357707041',\n",
       " 'Informatique, 2010-2011, Master semestre 3': '213629934',\n",
       " 'Informatique, 2010-2011, Projet Master automne': '213629894',\n",
       " 'Informatique, 2010-2011, Projet Master printemps': '213629966',\n",
       " 'Informatique, 2011-2012, Admission automne': '736318997',\n",
       " 'Informatique, 2011-2012, Admission printemps': '736319018',\n",
       " 'Informatique, 2011-2012, Bachelor semestre 1': '736308968',\n",
       " 'Informatique, 2011-2012, Bachelor semestre 2': '736308992',\n",
       " 'Informatique, 2011-2012, Bachelor semestre 3': '357704537',\n",
       " 'Informatique, 2011-2012, Bachelor semestre 4': '357704559',\n",
       " 'Informatique, 2011-2012, Bachelor semestre 5': '213617999',\n",
       " 'Informatique, 2011-2012, Bachelor semestre 6': '213618020',\n",
       " 'Informatique, 2011-2012, Master semestre 1': '736292150',\n",
       " 'Informatique, 2011-2012, Master semestre 2': '736292183',\n",
       " 'Informatique, 2011-2012, Master semestre 3': '357707104',\n",
       " 'Informatique, 2011-2012, Projet Master automne': '357707070',\n",
       " 'Informatique, 2011-2012, Projet Master printemps': '357707133',\n",
       " 'Informatique, 2012-2013, Admission automne': '1550546008',\n",
       " 'Informatique, 2012-2013, Admission printemps': '1550546034',\n",
       " 'Informatique, 2012-2013, Bachelor semestre 1': '1378362092',\n",
       " 'Informatique, 2012-2013, Bachelor semestre 2': '1378362120',\n",
       " 'Informatique, 2012-2013, Bachelor semestre 3': '736309015',\n",
       " 'Informatique, 2012-2013, Bachelor semestre 4': '736309037',\n",
       " 'Informatique, 2012-2013, Bachelor semestre 5': '357704581',\n",
       " 'Informatique, 2012-2013, Bachelor semestre 6': '357704613',\n",
       " 'Informatique, 2012-2013, Master semestre 1': '1378438423',\n",
       " 'Informatique, 2012-2013, Master semestre 2': '1378438462',\n",
       " 'Informatique, 2012-2013, Master semestre 3': '736292248',\n",
       " 'Informatique, 2012-2013, Projet Master automne': '736292213',\n",
       " 'Informatique, 2012-2013, Projet Master printemps': '736292278',\n",
       " 'Informatique, 2013-2014, Admission automne': '1650771205',\n",
       " 'Informatique, 2013-2014, Admission printemps': '1650771231',\n",
       " 'Informatique, 2013-2014, Bachelor semestre 1': '1650771864',\n",
       " 'Informatique, 2013-2014, Bachelor semestre 2': '1650771892',\n",
       " 'Informatique, 2013-2014, Bachelor semestre 3': '1378362148',\n",
       " 'Informatique, 2013-2014, Bachelor semestre 4': '1378362175',\n",
       " 'Informatique, 2013-2014, Bachelor semestre 5': '736309059',\n",
       " 'Informatique, 2013-2014, Bachelor semestre 6': '736309090',\n",
       " 'Informatique, 2013-2014, Master semestre 1': '1650773259',\n",
       " 'Informatique, 2013-2014, Master semestre 2': '1650773297',\n",
       " 'Informatique, 2013-2014, Master semestre 3': '1378438538',\n",
       " 'Informatique, 2013-2014, Projet Master automne': '1378438499',\n",
       " 'Informatique, 2013-2014, Projet Master printemps': '1378438573',\n",
       " 'Informatique, 2014-2015, Admission automne': '1795027156',\n",
       " 'Informatique, 2014-2015, Admission printemps': '1795027184',\n",
       " 'Informatique, 2014-2015, Bachelor semestre 1': '1744377893',\n",
       " 'Informatique, 2014-2015, Bachelor semestre 2': '1744377921',\n",
       " 'Informatique, 2014-2015, Bachelor semestre 3': '1650771920',\n",
       " 'Informatique, 2014-2015, Bachelor semestre 4': '1650771947',\n",
       " 'Informatique, 2014-2015, Bachelor semestre 5': '1378362202',\n",
       " 'Informatique, 2014-2015, Bachelor semestre 6': '1378362238',\n",
       " 'Informatique, 2014-2015, Master semestre 1': '1745490358',\n",
       " 'Informatique, 2014-2015, Master semestre 2': '1745490396',\n",
       " 'Informatique, 2014-2015, Master semestre 3': '1650773371',\n",
       " 'Informatique, 2014-2015, Projet Master automne': '1650773332',\n",
       " 'Informatique, 2014-2015, Projet Master printemps': '1650773405',\n",
       " 'Informatique, 2015-2016, Admission automne': '1898604188',\n",
       " 'Informatique, 2015-2016, Admission printemps': '1898604240',\n",
       " 'Informatique, 2015-2016, Bachelor semestre 1': '1897032870',\n",
       " 'Informatique, 2015-2016, Bachelor semestre 2': '1897032920',\n",
       " 'Informatique, 2015-2016, Bachelor semestre 3': '1744377949',\n",
       " 'Informatique, 2015-2016, Bachelor semestre 4': '1744377976',\n",
       " 'Informatique, 2015-2016, Bachelor semestre 5': '1650771974',\n",
       " 'Informatique, 2015-2016, Bachelor semestre 6': '1650772010',\n",
       " 'Informatique, 2015-2016, Master semestre 1': '1897033225',\n",
       " 'Informatique, 2015-2016, Master semestre 2': '1897033287',\n",
       " 'Informatique, 2015-2016, Master semestre 3': '1745490470',\n",
       " 'Informatique, 2015-2016, Projet Master automne': '1745490431',\n",
       " 'Informatique, 2015-2016, Projet Master printemps': '1745490504',\n",
       " 'Informatique, 2016-2017, Admission automne': '2021044410',\n",
       " 'Informatique, 2016-2017, Admission printemps': '2021044464',\n",
       " 'Informatique, 2016-2017, Bachelor semestre 1': '2021043255',\n",
       " 'Informatique, 2016-2017, Bachelor semestre 2': '2021043310',\n",
       " 'Informatique, 2016-2017, Bachelor semestre 3': '1897032970',\n",
       " 'Informatique, 2016-2017, Bachelor semestre 4': '1897033019',\n",
       " 'Informatique, 2016-2017, Bachelor semestre 5': '1744378003',\n",
       " 'Informatique, 2016-2017, Bachelor semestre 6': '1744378039',\n",
       " 'Informatique, 2016-2017, Master semestre 1': '2021044028',\n",
       " 'Informatique, 2016-2017, Master semestre 2': '2021044095',\n",
       " 'Informatique, 2016-2017, Master semestre 3': '1897033409',\n",
       " 'Informatique, 2016-2017, Mise à niveau': '2063780127',\n",
       " 'Informatique, 2016-2017, Projet Master automne': '1897033346',\n",
       " 'Informatique, 2016-2017, Projet Master printemps': '1897033467',\n",
       " 'Passerelle HES - IN, 2007-2008, Bachelor semestre 3': '71301631',\n",
       " 'Passerelle HES - IN, 2007-2008, Bachelor semestre 4': '71301647',\n",
       " 'Passerelle HES - IN, 2008-2009, Bachelor semestre 3': '109688322',\n",
       " 'Passerelle HES - IN, 2008-2009, Bachelor semestre 4': '109688338',\n",
       " 'Passerelle HES - IN, 2009-2010, Semestre automne': '235274476',\n",
       " 'Passerelle HES - IN, 2009-2010, Semestre printemps': '235274493',\n",
       " 'Passerelle HES - IN, 2010-2011, Semestre automne': '357706735',\n",
       " 'Passerelle HES - IN, 2010-2011, Semestre printemps': '357706753',\n",
       " 'Passerelle HES - IN, 2011-2012, Semestre automne': '736316401',\n",
       " 'Passerelle HES - IN, 2011-2012, Semestre printemps': '736316420',\n",
       " 'Passerelle HES - IN, 2012-2013, Semestre automne': '1378335700',\n",
       " 'Passerelle HES - IN, 2012-2013, Semestre printemps': '1378335724',\n",
       " 'Passerelle HES - IN, 2013-2014, Semestre automne': '1650773048',\n",
       " 'Passerelle HES - IN, 2013-2014, Semestre printemps': '1650773072',\n",
       " 'Passerelle HES - IN, 2014-2015, Semestre automne': '1745517053',\n",
       " 'Passerelle HES - IN, 2014-2015, Semestre printemps': '1745517077',\n",
       " 'Passerelle HES - IN, 2015-2016, Semestre automne': '1897036058',\n",
       " 'Passerelle HES - IN, 2015-2016, Semestre printemps': '1897036111',\n",
       " 'Passerelle HES - IN, 2016-2017, Semestre automne': '2021044525',\n",
       " 'Passerelle HES - IN, 2016-2017, Semestre printemps': '2021044582'}"
      ]
     },
     "execution_count": 6,
     "metadata": {},
     "output_type": "execute_result"
    }
   ],
   "source": [
    "# Create a dict mapping all CS semesters from all years to their internal ID used by IS-Academia\n",
    "semester_ids = {}\n",
    "for year_id in years.values():\n",
    "    semester_ids.update(parse_semesters_list(year_id, cs_department))\n",
    "\n",
    "semester_ids"
   ]
  },
  {
   "cell_type": "code",
   "execution_count": 7,
   "metadata": {
    "collapsed": true
   },
   "outputs": [],
   "source": [
    "# Returns a dataframe containing the list of students for a given semester\n",
    "# or None if there isn't any table in the page\n",
    "def get_people(semester_id):\n",
    "    page = get_is_academia_page('results', {'ww_x_GPS': semester_id})\n",
    "    \n",
    "    # Parse the HTML table using Pandas\n",
    "    frames = pandas.read_html(page, header=1)\n",
    "    \n",
    "    if frames is None or not frames: # Returns None if we can't get any dataframe\n",
    "        return None\n",
    "    \n",
    "    df = frames[0]\n",
    "    \n",
    "    # Drop the last column which is empty (due to IS-Academia formatting)\n",
    "    return df.drop(df.columns[-1], axis=1)"
   ]
  },
  {
   "cell_type": "markdown",
   "metadata": {},
   "source": [
    "## Do not execute the cell below!\n",
    "It gets a lot of pages from IS-Academia. Use the next cell to load the data from a pickle file instead."
   ]
  },
  {
   "cell_type": "code",
   "execution_count": 8,
   "metadata": {
    "collapsed": false
   },
   "outputs": [],
   "source": [
    "#frames = []\n",
    "#for semester, semester_id in semesters_ids.items():\n",
    "#    df = get_people(semester_id)\n",
    "#    \n",
    "#    # Add a column containing the semester (if we can get the dataframe)\n",
    "#    if df is not None:\n",
    "#        df['semester'] = semester\n",
    "#    frames.append(df)\n",
    "#    \n",
    "## Concatenate all semesters from all years\n",
    "#df = pd.concat(frames)"
   ]
  },
  {
   "cell_type": "markdown",
   "metadata": {},
   "source": [
    "## Load the data from a pickle file"
   ]
  },
  {
   "cell_type": "code",
   "execution_count": 9,
   "metadata": {
    "collapsed": false
   },
   "outputs": [],
   "source": [
    "df = pd.read_pickle('cs_dump.pkl')\n",
    "#df.set_index(['semester', 'No Sciper'], inplace=True)\n",
    "#df.sort_index(inplace=True)"
   ]
  },
  {
   "cell_type": "markdown",
   "metadata": {},
   "source": [
    "Shorten the columns names"
   ]
  },
  {
   "cell_type": "code",
   "execution_count": 10,
   "metadata": {
    "collapsed": false,
    "scrolled": false
   },
   "outputs": [
    {
     "data": {
      "text/plain": [
       "0    Informatique, 2007-2008, Master semestre 3\n",
       "Name: semester, dtype: object"
      ]
     },
     "execution_count": 10,
     "metadata": {},
     "output_type": "execute_result"
    }
   ],
   "source": [
    "df.columns = ['title', 'name', 'orientation_ba', 'orientation_ma', \n",
    "              'specialization', 'filiere_opt', 'minor', 'status', \n",
    "              'exchange_type', 'exchange_school', 'sciper', 'semester']\n",
    "df['semester'].head(1)"
   ]
  },
  {
   "cell_type": "markdown",
   "metadata": {
    "collapsed": true
   },
   "source": [
    "The semester column contains too much information: we split it in three columns. Also, do not keep a years range. Knowing only the first year of the cycle is sufficient, i.e. we know that a semester starting in 2007 will end in 2008."
   ]
  },
  {
   "cell_type": "code",
   "execution_count": 11,
   "metadata": {
    "collapsed": false
   },
   "outputs": [
    {
     "data": {
      "text/html": [
       "<div>\n",
       "<table border=\"1\" class=\"dataframe\">\n",
       "  <thead>\n",
       "    <tr style=\"text-align: right;\">\n",
       "      <th></th>\n",
       "      <th>sciper</th>\n",
       "      <th>title</th>\n",
       "      <th>name</th>\n",
       "      <th>section</th>\n",
       "      <th>semester</th>\n",
       "      <th>years</th>\n",
       "      <th>year</th>\n",
       "    </tr>\n",
       "  </thead>\n",
       "  <tbody>\n",
       "    <tr>\n",
       "      <th>0</th>\n",
       "      <td>154419</td>\n",
       "      <td>Monsieur</td>\n",
       "      <td>Benda Lukas</td>\n",
       "      <td>Informatique</td>\n",
       "      <td>Master semestre 3</td>\n",
       "      <td>2007-2008</td>\n",
       "      <td>2007</td>\n",
       "    </tr>\n",
       "    <tr>\n",
       "      <th>1</th>\n",
       "      <td>153742</td>\n",
       "      <td>Monsieur</td>\n",
       "      <td>Bozzo Vincent</td>\n",
       "      <td>Informatique</td>\n",
       "      <td>Master semestre 3</td>\n",
       "      <td>2007-2008</td>\n",
       "      <td>2007</td>\n",
       "    </tr>\n",
       "    <tr>\n",
       "      <th>2</th>\n",
       "      <td>153664</td>\n",
       "      <td>Monsieur</td>\n",
       "      <td>Brandinu Guillaume</td>\n",
       "      <td>Informatique</td>\n",
       "      <td>Master semestre 3</td>\n",
       "      <td>2007-2008</td>\n",
       "      <td>2007</td>\n",
       "    </tr>\n",
       "  </tbody>\n",
       "</table>\n",
       "</div>"
      ],
      "text/plain": [
       "   sciper     title                name       section           semester  \\\n",
       "0  154419  Monsieur         Benda Lukas  Informatique  Master semestre 3   \n",
       "1  153742  Monsieur       Bozzo Vincent  Informatique  Master semestre 3   \n",
       "2  153664  Monsieur  Brandinu Guillaume  Informatique  Master semestre 3   \n",
       "\n",
       "       years  year  \n",
       "0  2007-2008  2007  \n",
       "1  2007-2008  2007  \n",
       "2  2007-2008  2007  "
      ]
     },
     "execution_count": 11,
     "metadata": {},
     "output_type": "execute_result"
    }
   ],
   "source": [
    "# Take the 'semester' column and split it into 'section', 'years' and 'semester'\n",
    "new_cols = pd.DataFrame(df['semester'], index=df.index)\n",
    "cols = new_cols['semester'].apply(lambda x: pd.Series(x.split(', ')))\n",
    "cols.columns = ['section', 'years', 'semester']\n",
    "data = pd.concat([df.drop('semester', axis=1), cols], axis=1)\n",
    "\n",
    "# Only keep the first year of the years range\n",
    "data['year'] = data.years.apply(lambda x: int(x.split('-')[0]))\n",
    "\n",
    "data[['sciper', 'title', 'name', 'section', 'semester', 'years', 'year']].head(3)"
   ]
  },
  {
   "cell_type": "markdown",
   "metadata": {},
   "source": [
    "## Exercise 1"
   ]
  },
  {
   "cell_type": "markdown",
   "metadata": {},
   "source": [
    "We made the following assumptions:\n",
    "1. A semester corresponds to 6 months of work\n",
    "2. A student taking semester 6 eventually got his bachelor\n",
    "3. A student in semester 5 in 2016-2017 who already did semester 6 will finish this semester\n",
    "\n",
    "It is possible that somebody finished its bachelor in semester 5, but this is only allowed if that person also did semester 6 at least once. That's why we need both data from semesters 5 and 6."
   ]
  },
  {
   "cell_type": "code",
   "execution_count": 12,
   "metadata": {
    "collapsed": true
   },
   "outputs": [],
   "source": [
    "# Get all records of people in BA1, BA5 and BA6\n",
    "ba1_sem = data[data.semester == 'Bachelor semestre 1']\n",
    "ba5_sem = data[data.semester == 'Bachelor semestre 5']\n",
    "ba6_sem = data[data.semester == 'Bachelor semestre 6']"
   ]
  },
  {
   "cell_type": "markdown",
   "metadata": {},
   "source": [
    "People who are doing both bachelor and master degrees at EPFL are allowed to take a one year break between the two in certain cases. Theses semesters must not be counted."
   ]
  },
  {
   "cell_type": "code",
   "execution_count": 13,
   "metadata": {
    "collapsed": true
   },
   "outputs": [],
   "source": [
    "# Drop the records for BA5 and BA6 with status 'Congé'\n",
    "ba5_sem = ba5_sem[ba5_sem.status != 'Congé']\n",
    "ba6_sem = ba6_sem[ba6_sem.status != 'Congé']"
   ]
  },
  {
   "cell_type": "markdown",
   "metadata": {},
   "source": [
    "Build a DataFrame, which has the student sciper as index and the year it started its bachelor as only column."
   ]
  },
  {
   "cell_type": "code",
   "execution_count": 14,
   "metadata": {
    "collapsed": false
   },
   "outputs": [
    {
     "data": {
      "text/html": [
       "<div>\n",
       "<table border=\"1\" class=\"dataframe\">\n",
       "  <thead>\n",
       "    <tr style=\"text-align: right;\">\n",
       "      <th></th>\n",
       "      <th>started</th>\n",
       "    </tr>\n",
       "    <tr>\n",
       "      <th>sciper</th>\n",
       "      <th></th>\n",
       "    </tr>\n",
       "  </thead>\n",
       "  <tbody>\n",
       "    <tr>\n",
       "      <th>147008</th>\n",
       "      <td>2008</td>\n",
       "    </tr>\n",
       "    <tr>\n",
       "      <th>161212</th>\n",
       "      <td>2009</td>\n",
       "    </tr>\n",
       "    <tr>\n",
       "      <th>169569</th>\n",
       "      <td>2007</td>\n",
       "    </tr>\n",
       "  </tbody>\n",
       "</table>\n",
       "</div>"
      ],
      "text/plain": [
       "        started\n",
       "sciper         \n",
       "147008     2008\n",
       "161212     2009\n",
       "169569     2007"
      ]
     },
     "execution_count": 14,
     "metadata": {},
     "output_type": "execute_result"
    }
   ],
   "source": [
    "# Check for oldest records\n",
    "started = ba1_sem[['sciper', 'year']].groupby('sciper').min()\n",
    "started.columns = ['started']\n",
    "started.head(3)"
   ]
  },
  {
   "cell_type": "markdown",
   "metadata": {},
   "source": [
    "Do the same for the ending year. Note that we have to do this for both semesters 5 and 6."
   ]
  },
  {
   "cell_type": "code",
   "execution_count": 15,
   "metadata": {
    "collapsed": true
   },
   "outputs": [],
   "source": [
    "# Check for most recent records\n",
    "ba5_ended = ba5_sem[['sciper', 'year']].groupby('sciper').max()\n",
    "ba5_ended.columns = ['5']\n",
    "\n",
    "ba6_ended = ba6_sem[['sciper', 'year']].groupby('sciper').max()\n",
    "ba6_ended.columns = ['6']"
   ]
  },
  {
   "cell_type": "markdown",
   "metadata": {},
   "source": [
    "Do an inner join to keep only students who did BA5 and BA6, keep the most recent year. Note that we concat BA6 before BA5, because max() returns the first result in case of equality."
   ]
  },
  {
   "cell_type": "code",
   "execution_count": 16,
   "metadata": {
    "collapsed": false
   },
   "outputs": [
    {
     "data": {
      "text/html": [
       "<div>\n",
       "<table border=\"1\" class=\"dataframe\">\n",
       "  <thead>\n",
       "    <tr style=\"text-align: right;\">\n",
       "      <th></th>\n",
       "      <th>ended</th>\n",
       "      <th>semester</th>\n",
       "    </tr>\n",
       "    <tr>\n",
       "      <th>sciper</th>\n",
       "      <th></th>\n",
       "      <th></th>\n",
       "    </tr>\n",
       "  </thead>\n",
       "  <tbody>\n",
       "    <tr>\n",
       "      <th>153762</th>\n",
       "      <td>2007</td>\n",
       "      <td>6</td>\n",
       "    </tr>\n",
       "    <tr>\n",
       "      <th>159516</th>\n",
       "      <td>2007</td>\n",
       "      <td>6</td>\n",
       "    </tr>\n",
       "    <tr>\n",
       "      <th>159998</th>\n",
       "      <td>2007</td>\n",
       "      <td>6</td>\n",
       "    </tr>\n",
       "  </tbody>\n",
       "</table>\n",
       "</div>"
      ],
      "text/plain": [
       "        ended  semester\n",
       "sciper                 \n",
       "153762   2007         6\n",
       "159516   2007         6\n",
       "159998   2007         6"
      ]
     },
     "execution_count": 16,
     "metadata": {},
     "output_type": "execute_result"
    }
   ],
   "source": [
    "ended = pd.concat([ba6_ended, ba5_ended], axis=1, join='inner')\n",
    "ended['ended'] = ended.max(axis=1)                              # When was the most recent record found ?\n",
    "ended['semester'] = pd.to_numeric(ended.idxmax(axis=1))         # At what semester did the student finish ?\n",
    "ended.drop(['5', '6'], axis=1, inplace=True)                    # Drop unused columns\n",
    "ended.head(3)"
   ]
  },
  {
   "cell_type": "markdown",
   "metadata": {},
   "source": [
    "Now that we know when students started and finished their bachelor, we can join the two DataFrame (using an inner join) to keep only those who did bachelor semester 1 and bachelor semester 6."
   ]
  },
  {
   "cell_type": "code",
   "execution_count": 17,
   "metadata": {
    "collapsed": false
   },
   "outputs": [
    {
     "data": {
      "text/html": [
       "<div>\n",
       "<table border=\"1\" class=\"dataframe\">\n",
       "  <thead>\n",
       "    <tr style=\"text-align: right;\">\n",
       "      <th></th>\n",
       "      <th>started</th>\n",
       "      <th>ended</th>\n",
       "      <th>semester</th>\n",
       "    </tr>\n",
       "    <tr>\n",
       "      <th>sciper</th>\n",
       "      <th></th>\n",
       "      <th></th>\n",
       "      <th></th>\n",
       "    </tr>\n",
       "  </thead>\n",
       "  <tbody>\n",
       "    <tr>\n",
       "      <th>169569</th>\n",
       "      <td>2007</td>\n",
       "      <td>2009</td>\n",
       "      <td>6</td>\n",
       "    </tr>\n",
       "    <tr>\n",
       "      <th>169795</th>\n",
       "      <td>2007</td>\n",
       "      <td>2011</td>\n",
       "      <td>5</td>\n",
       "    </tr>\n",
       "    <tr>\n",
       "      <th>171195</th>\n",
       "      <td>2007</td>\n",
       "      <td>2009</td>\n",
       "      <td>6</td>\n",
       "    </tr>\n",
       "  </tbody>\n",
       "</table>\n",
       "</div>"
      ],
      "text/plain": [
       "        started  ended  semester\n",
       "sciper                          \n",
       "169569     2007   2009         6\n",
       "169795     2007   2011         5\n",
       "171195     2007   2009         6"
      ]
     },
     "execution_count": 17,
     "metadata": {},
     "output_type": "execute_result"
    }
   ],
   "source": [
    "# Concat on the index (sciper)\n",
    "agg = pd.concat([started, ended], axis=1, join='inner')\n",
    "agg.head(3)"
   ]
  },
  {
   "cell_type": "markdown",
   "metadata": {},
   "source": [
    "The bachelor duration for each student can be computed. If the student finished during semester 5, then 6 months have to be subtracted."
   ]
  },
  {
   "cell_type": "code",
   "execution_count": 18,
   "metadata": {
    "collapsed": true
   },
   "outputs": [],
   "source": [
    "agg['duration'] = 12*(agg.ended - agg.started + 1) - 6*(agg.semester % 2)"
   ]
  },
  {
   "cell_type": "markdown",
   "metadata": {},
   "source": [
    "Let's add the students genders to the table"
   ]
  },
  {
   "cell_type": "code",
   "execution_count": 19,
   "metadata": {
    "collapsed": false
   },
   "outputs": [
    {
     "data": {
      "text/html": [
       "<div>\n",
       "<table border=\"1\" class=\"dataframe\">\n",
       "  <thead>\n",
       "    <tr style=\"text-align: right;\">\n",
       "      <th></th>\n",
       "      <th>started</th>\n",
       "      <th>ended</th>\n",
       "      <th>semester</th>\n",
       "      <th>duration</th>\n",
       "      <th>title</th>\n",
       "    </tr>\n",
       "    <tr>\n",
       "      <th>sciper</th>\n",
       "      <th></th>\n",
       "      <th></th>\n",
       "      <th></th>\n",
       "      <th></th>\n",
       "      <th></th>\n",
       "    </tr>\n",
       "  </thead>\n",
       "  <tbody>\n",
       "    <tr>\n",
       "      <th>174905</th>\n",
       "      <td>2007</td>\n",
       "      <td>2011</td>\n",
       "      <td>6</td>\n",
       "      <td>60</td>\n",
       "      <td>Monsieur</td>\n",
       "    </tr>\n",
       "    <tr>\n",
       "      <th>179406</th>\n",
       "      <td>2007</td>\n",
       "      <td>2010</td>\n",
       "      <td>6</td>\n",
       "      <td>48</td>\n",
       "      <td>Monsieur</td>\n",
       "    </tr>\n",
       "    <tr>\n",
       "      <th>179428</th>\n",
       "      <td>2007</td>\n",
       "      <td>2010</td>\n",
       "      <td>6</td>\n",
       "      <td>48</td>\n",
       "      <td>Monsieur</td>\n",
       "    </tr>\n",
       "  </tbody>\n",
       "</table>\n",
       "</div>"
      ],
      "text/plain": [
       "        started  ended  semester  duration     title\n",
       "sciper                                              \n",
       "174905     2007   2011         6        60  Monsieur\n",
       "179406     2007   2010         6        48  Monsieur\n",
       "179428     2007   2010         6        48  Monsieur"
      ]
     },
     "execution_count": 19,
     "metadata": {},
     "output_type": "execute_result"
    }
   ],
   "source": [
    "gender = data[['sciper', 'title']].drop_duplicates()\n",
    "gender.set_index('sciper', inplace=True)\n",
    "agg = pd.concat([agg, gender], axis=1, join='inner')\n",
    "agg.head(3)"
   ]
  },
  {
   "cell_type": "markdown",
   "metadata": {},
   "source": [
    "And the average duration by gender can now be computed"
   ]
  },
  {
   "cell_type": "code",
   "execution_count": 20,
   "metadata": {
    "collapsed": false
   },
   "outputs": [
    {
     "data": {
      "text/html": [
       "<div>\n",
       "<table border=\"1\" class=\"dataframe\">\n",
       "  <thead>\n",
       "    <tr style=\"text-align: right;\">\n",
       "      <th></th>\n",
       "      <th>duration</th>\n",
       "    </tr>\n",
       "    <tr>\n",
       "      <th>title</th>\n",
       "      <th></th>\n",
       "    </tr>\n",
       "  </thead>\n",
       "  <tbody>\n",
       "    <tr>\n",
       "      <th>Madame</th>\n",
       "      <td>40.500000</td>\n",
       "    </tr>\n",
       "    <tr>\n",
       "      <th>Monsieur</th>\n",
       "      <td>44.580882</td>\n",
       "    </tr>\n",
       "  </tbody>\n",
       "</table>\n",
       "</div>"
      ],
      "text/plain": [
       "           duration\n",
       "title              \n",
       "Madame    40.500000\n",
       "Monsieur  44.580882"
      ]
     },
     "execution_count": 20,
     "metadata": {},
     "output_type": "execute_result"
    }
   ],
   "source": [
    "agg[['title', 'duration']].groupby('title').mean()"
   ]
  },
  {
   "cell_type": "markdown",
   "metadata": {},
   "source": [
    "To find if the difference in average is statistically significant, we run a T-Test"
   ]
  },
  {
   "cell_type": "code",
   "execution_count": 21,
   "metadata": {
    "collapsed": false
   },
   "outputs": [
    {
     "data": {
      "text/plain": [
       "0.04603072654598047"
      ]
     },
     "execution_count": 21,
     "metadata": {},
     "output_type": "execute_result"
    }
   ],
   "source": [
    "s1 = agg[agg['title'] == 'Monsieur']['duration'].tolist()\n",
    "s2 = agg[agg['title'] == 'Madame']['duration'].tolist()\n",
    "\n",
    "t_stat, p_val = stats.ttest_ind(s1, s2)\n",
    "p_val"
   ]
  },
  {
   "cell_type": "markdown",
   "metadata": {},
   "source": [
    "Because p\\_val < 0.05, we reject the null hypothesis that the two groups have equal averages. We conclude that at the 95% confidence level males take on average longer to finish their bachelor degree compared to females."
   ]
  },
  {
   "cell_type": "markdown",
   "metadata": {
    "collapsed": true
   },
   "source": [
    "## Exercise 2\n",
    "We know that to finish his Master, a student must do the following:\n",
    "1. 2 semesters of courses (MA1 + MA2)\n",
    "2. One more semester (MA3) ff he has a specialization or a minor.\n",
    "3. An internship. He can do it during the summer holidays or during a semester.\n",
    "4. Finish his studies by doing a Master thesis during a semester.\n",
    "\n",
    "Because of (4), the exercise seems straigthforward: compute the distance in months between MA1 and the thesis semester. Unfortunately, IS Academia is missing a lot of data regarding the Master theses. Indeed, it only shows a few people doing a thesis, way below the real number. This makes the task more difficult.\n",
    "\n",
    "Again because of (4), we know that the students must finish by a Master thesis, i.e. we can add 12 months to all students who finished their credits and did a stage. The problem is that some students did their internship during the summer holidays. Some of them also combined their Master thesis with the internship.\n",
    "\n",
    "This leaves us with 2 options:\n",
    "1. Compute only the distance in months for a student to finish his courses\n",
    "2. Use the Master thesis as the ending year, but them work with a much smaller set of data"
   ]
  },
  {
   "cell_type": "markdown",
   "metadata": {
    "collapsed": true
   },
   "source": [
    "For now, let's compute the time students took to finish the courses, without taking the Master thesis or internship into account. The beginning is very similar to what we did for the bachelor data set."
   ]
  },
  {
   "cell_type": "code",
   "execution_count": 22,
   "metadata": {
    "collapsed": true
   },
   "outputs": [],
   "source": [
    "# Get all records of people in MA1, MA2 and MA3\n",
    "ma1_sem = data[data.semester == 'Master semestre 1']\n",
    "ma2_sem = data[data.semester == 'Master semestre 2']\n",
    "ma3_sem = data[data.semester == 'Master semestre 3']"
   ]
  },
  {
   "cell_type": "markdown",
   "metadata": {},
   "source": [
    "Find when students started MA1 or MA2, because they can start the Master during the spring semester."
   ]
  },
  {
   "cell_type": "code",
   "execution_count": 23,
   "metadata": {
    "collapsed": false
   },
   "outputs": [
    {
     "data": {
      "text/html": [
       "<div>\n",
       "<table border=\"1\" class=\"dataframe\">\n",
       "  <thead>\n",
       "    <tr style=\"text-align: right;\">\n",
       "      <th></th>\n",
       "      <th>started</th>\n",
       "      <th>semester_start</th>\n",
       "    </tr>\n",
       "    <tr>\n",
       "      <th>sciper</th>\n",
       "      <th></th>\n",
       "      <th></th>\n",
       "    </tr>\n",
       "  </thead>\n",
       "  <tbody>\n",
       "    <tr>\n",
       "      <th>128911</th>\n",
       "      <td>2007</td>\n",
       "      <td>2</td>\n",
       "    </tr>\n",
       "    <tr>\n",
       "      <th>129093</th>\n",
       "      <td>2007</td>\n",
       "      <td>2</td>\n",
       "    </tr>\n",
       "    <tr>\n",
       "      <th>129326</th>\n",
       "      <td>2007</td>\n",
       "      <td>2</td>\n",
       "    </tr>\n",
       "  </tbody>\n",
       "</table>\n",
       "</div>"
      ],
      "text/plain": [
       "        started  semester_start\n",
       "sciper                         \n",
       "128911     2007               2\n",
       "129093     2007               2\n",
       "129326     2007               2"
      ]
     },
     "execution_count": 23,
     "metadata": {},
     "output_type": "execute_result"
    }
   ],
   "source": [
    "# Check for the oldest records\n",
    "started = pd.concat([ma1_sem, ma2_sem])[['sciper', 'year', 'semester']].groupby('sciper').min()\n",
    "started['semester'] = pd.to_numeric(started.semester.apply(lambda x: x.split(' ')[2]))\n",
    "started.columns = ['started', 'semester_start']\n",
    "started.head(3)"
   ]
  },
  {
   "cell_type": "markdown",
   "metadata": {},
   "source": [
    "Find when they finished taking courses. They can finish during MA2 or MA3, but not during MA1."
   ]
  },
  {
   "cell_type": "code",
   "execution_count": 24,
   "metadata": {
    "collapsed": true
   },
   "outputs": [],
   "source": [
    "# Check for most recent records\n",
    "ma2_ended = ma2_sem[['sciper', 'year']].groupby('sciper').max()\n",
    "ma2_ended.columns = ['ended']\n",
    "ma2_ended['semester_end'] = 2\n",
    "\n",
    "ma3_ended = ma3_sem[['sciper', 'year']].groupby('sciper').max()\n",
    "ma3_ended.columns = ['ended']\n",
    "ma3_ended['semester_end'] = 3"
   ]
  },
  {
   "cell_type": "markdown",
   "metadata": {},
   "source": [
    "The possible ending dates (MA2 or MA3) are now concatenated vertically in a single table. The years are sorted (descending) and only the most recent year is chosen for each sciper."
   ]
  },
  {
   "cell_type": "code",
   "execution_count": 25,
   "metadata": {
    "collapsed": false
   },
   "outputs": [
    {
     "data": {
      "text/html": [
       "<div>\n",
       "<table border=\"1\" class=\"dataframe\">\n",
       "  <thead>\n",
       "    <tr style=\"text-align: right;\">\n",
       "      <th></th>\n",
       "      <th>ended</th>\n",
       "      <th>semester_end</th>\n",
       "    </tr>\n",
       "    <tr>\n",
       "      <th>sciper</th>\n",
       "      <th></th>\n",
       "      <th></th>\n",
       "    </tr>\n",
       "  </thead>\n",
       "  <tbody>\n",
       "    <tr>\n",
       "      <th>128911</th>\n",
       "      <td>2007</td>\n",
       "      <td>2</td>\n",
       "    </tr>\n",
       "    <tr>\n",
       "      <th>129093</th>\n",
       "      <td>2007</td>\n",
       "      <td>3</td>\n",
       "    </tr>\n",
       "    <tr>\n",
       "      <th>129326</th>\n",
       "      <td>2007</td>\n",
       "      <td>3</td>\n",
       "    </tr>\n",
       "  </tbody>\n",
       "</table>\n",
       "</div>"
      ],
      "text/plain": [
       "        ended  semester_end\n",
       "sciper                     \n",
       "128911   2007             2\n",
       "129093   2007             3\n",
       "129326   2007             3"
      ]
     },
     "execution_count": 25,
     "metadata": {},
     "output_type": "execute_result"
    }
   ],
   "source": [
    "# Merge vertically and take one semester per sciper (descending years)\n",
    "ended = pd.concat([ma3_ended, ma2_ended])\n",
    "ended = ended.sort_values(by='ended', ascending=False)\n",
    "ended = ended.groupby(ended.index).first()\n",
    "ended.head(3)"
   ]
  },
  {
   "cell_type": "markdown",
   "metadata": {},
   "source": [
    "The starting and ending years are now concatenated together"
   ]
  },
  {
   "cell_type": "code",
   "execution_count": 26,
   "metadata": {
    "collapsed": false
   },
   "outputs": [
    {
     "data": {
      "text/html": [
       "<div>\n",
       "<table border=\"1\" class=\"dataframe\">\n",
       "  <thead>\n",
       "    <tr style=\"text-align: right;\">\n",
       "      <th></th>\n",
       "      <th>started</th>\n",
       "      <th>semester_start</th>\n",
       "      <th>ended</th>\n",
       "      <th>semester_end</th>\n",
       "    </tr>\n",
       "    <tr>\n",
       "      <th>sciper</th>\n",
       "      <th></th>\n",
       "      <th></th>\n",
       "      <th></th>\n",
       "      <th></th>\n",
       "    </tr>\n",
       "  </thead>\n",
       "  <tbody>\n",
       "    <tr>\n",
       "      <th>128911</th>\n",
       "      <td>2007</td>\n",
       "      <td>2</td>\n",
       "      <td>2007</td>\n",
       "      <td>2</td>\n",
       "    </tr>\n",
       "    <tr>\n",
       "      <th>129093</th>\n",
       "      <td>2007</td>\n",
       "      <td>2</td>\n",
       "      <td>2007</td>\n",
       "      <td>3</td>\n",
       "    </tr>\n",
       "    <tr>\n",
       "      <th>129326</th>\n",
       "      <td>2007</td>\n",
       "      <td>2</td>\n",
       "      <td>2007</td>\n",
       "      <td>3</td>\n",
       "    </tr>\n",
       "  </tbody>\n",
       "</table>\n",
       "</div>"
      ],
      "text/plain": [
       "        started  semester_start  ended  semester_end\n",
       "sciper                                              \n",
       "128911     2007               2   2007             2\n",
       "129093     2007               2   2007             3\n",
       "129326     2007               2   2007             3"
      ]
     },
     "execution_count": 26,
     "metadata": {},
     "output_type": "execute_result"
    }
   ],
   "source": [
    "agg = pd.concat([started, ended], axis=1, join='inner')\n",
    "agg.head(3)"
   ]
  },
  {
   "cell_type": "markdown",
   "metadata": {},
   "source": [
    "We are also interested in the specialization or minor they did. Let's build 2 tables, one with the specializations and one with the minors. They are indexed by sciper."
   ]
  },
  {
   "cell_type": "code",
   "execution_count": 27,
   "metadata": {
    "collapsed": false
   },
   "outputs": [
    {
     "data": {
      "text/html": [
       "<div>\n",
       "<table border=\"1\" class=\"dataframe\">\n",
       "  <thead>\n",
       "    <tr style=\"text-align: right;\">\n",
       "      <th></th>\n",
       "      <th>minor</th>\n",
       "    </tr>\n",
       "    <tr>\n",
       "      <th>sciper</th>\n",
       "      <th></th>\n",
       "    </tr>\n",
       "  </thead>\n",
       "  <tbody>\n",
       "    <tr>\n",
       "      <th>160391</th>\n",
       "      <td>Mineur en Management, technologie et entrepren...</td>\n",
       "    </tr>\n",
       "    <tr>\n",
       "      <th>172257</th>\n",
       "      <td>Mineur en Management, technologie et entrepren...</td>\n",
       "    </tr>\n",
       "    <tr>\n",
       "      <th>153642</th>\n",
       "      <td>Mineur en Management, technologie et entrepren...</td>\n",
       "    </tr>\n",
       "  </tbody>\n",
       "</table>\n",
       "</div>"
      ],
      "text/plain": [
       "                                                    minor\n",
       "sciper                                                   \n",
       "160391  Mineur en Management, technologie et entrepren...\n",
       "172257  Mineur en Management, technologie et entrepren...\n",
       "153642  Mineur en Management, technologie et entrepren..."
      ]
     },
     "execution_count": 27,
     "metadata": {},
     "output_type": "execute_result"
    }
   ],
   "source": [
    "# Find students who did a minor\n",
    "minor = data[['sciper', 'minor']][~data.minor.isnull()]\n",
    "minor.drop_duplicates('sciper', inplace=True)\n",
    "minor.set_index('sciper', inplace=True)\n",
    "minor.head(3)"
   ]
  },
  {
   "cell_type": "code",
   "execution_count": 28,
   "metadata": {
    "collapsed": false
   },
   "outputs": [
    {
     "data": {
      "text/html": [
       "<div>\n",
       "<table border=\"1\" class=\"dataframe\">\n",
       "  <thead>\n",
       "    <tr style=\"text-align: right;\">\n",
       "      <th></th>\n",
       "      <th>specialization</th>\n",
       "    </tr>\n",
       "    <tr>\n",
       "      <th>sciper</th>\n",
       "      <th></th>\n",
       "    </tr>\n",
       "  </thead>\n",
       "  <tbody>\n",
       "    <tr>\n",
       "      <th>154419</th>\n",
       "      <td>Signals, Images and Interfaces</td>\n",
       "    </tr>\n",
       "    <tr>\n",
       "      <th>153664</th>\n",
       "      <td>Signals, Images and Interfaces</td>\n",
       "    </tr>\n",
       "    <tr>\n",
       "      <th>159852</th>\n",
       "      <td>Internet computing</td>\n",
       "    </tr>\n",
       "  </tbody>\n",
       "</table>\n",
       "</div>"
      ],
      "text/plain": [
       "                        specialization\n",
       "sciper                                \n",
       "154419  Signals, Images and Interfaces\n",
       "153664  Signals, Images and Interfaces\n",
       "159852              Internet computing"
      ]
     },
     "execution_count": 28,
     "metadata": {},
     "output_type": "execute_result"
    }
   ],
   "source": [
    "# Find students who did a specialization\n",
    "spec = data[['sciper', 'specialization']][~data.specialization.isnull()]\n",
    "spec.drop_duplicates('sciper', inplace=True)\n",
    "spec.set_index('sciper', inplace=True)\n",
    "spec.head(3)"
   ]
  },
  {
   "cell_type": "markdown",
   "metadata": {},
   "source": [
    "And they can be merged with the previous table. Note that this time, pd.merge() was used insted of pd.concat(). This is because a left outer join had to be done, and concat cannot do it."
   ]
  },
  {
   "cell_type": "code",
   "execution_count": 29,
   "metadata": {
    "collapsed": false
   },
   "outputs": [
    {
     "data": {
      "text/html": [
       "<div>\n",
       "<table border=\"1\" class=\"dataframe\">\n",
       "  <thead>\n",
       "    <tr style=\"text-align: right;\">\n",
       "      <th></th>\n",
       "      <th>started</th>\n",
       "      <th>semester_start</th>\n",
       "      <th>ended</th>\n",
       "      <th>semester_end</th>\n",
       "      <th>minor</th>\n",
       "      <th>specialization</th>\n",
       "    </tr>\n",
       "    <tr>\n",
       "      <th>sciper</th>\n",
       "      <th></th>\n",
       "      <th></th>\n",
       "      <th></th>\n",
       "      <th></th>\n",
       "      <th></th>\n",
       "      <th></th>\n",
       "    </tr>\n",
       "  </thead>\n",
       "  <tbody>\n",
       "    <tr>\n",
       "      <th>128911</th>\n",
       "      <td>2007</td>\n",
       "      <td>2</td>\n",
       "      <td>2007</td>\n",
       "      <td>2</td>\n",
       "      <td>NaN</td>\n",
       "      <td>Internet computing</td>\n",
       "    </tr>\n",
       "    <tr>\n",
       "      <th>129093</th>\n",
       "      <td>2007</td>\n",
       "      <td>2</td>\n",
       "      <td>2007</td>\n",
       "      <td>3</td>\n",
       "      <td>NaN</td>\n",
       "      <td>NaN</td>\n",
       "    </tr>\n",
       "    <tr>\n",
       "      <th>129326</th>\n",
       "      <td>2007</td>\n",
       "      <td>2</td>\n",
       "      <td>2007</td>\n",
       "      <td>3</td>\n",
       "      <td>NaN</td>\n",
       "      <td>NaN</td>\n",
       "    </tr>\n",
       "    <tr>\n",
       "      <th>146330</th>\n",
       "      <td>2007</td>\n",
       "      <td>1</td>\n",
       "      <td>2008</td>\n",
       "      <td>3</td>\n",
       "      <td>NaN</td>\n",
       "      <td>NaN</td>\n",
       "    </tr>\n",
       "    <tr>\n",
       "      <th>146742</th>\n",
       "      <td>2008</td>\n",
       "      <td>1</td>\n",
       "      <td>2012</td>\n",
       "      <td>3</td>\n",
       "      <td>NaN</td>\n",
       "      <td>Signals, Images and Interfaces</td>\n",
       "    </tr>\n",
       "  </tbody>\n",
       "</table>\n",
       "</div>"
      ],
      "text/plain": [
       "        started  semester_start  ended  semester_end minor  \\\n",
       "sciper                                                       \n",
       "128911     2007               2   2007             2   NaN   \n",
       "129093     2007               2   2007             3   NaN   \n",
       "129326     2007               2   2007             3   NaN   \n",
       "146330     2007               1   2008             3   NaN   \n",
       "146742     2008               1   2012             3   NaN   \n",
       "\n",
       "                        specialization  \n",
       "sciper                                  \n",
       "128911              Internet computing  \n",
       "129093                             NaN  \n",
       "129326                             NaN  \n",
       "146330                             NaN  \n",
       "146742  Signals, Images and Interfaces  "
      ]
     },
     "execution_count": 29,
     "metadata": {},
     "output_type": "execute_result"
    }
   ],
   "source": [
    "# Join with minor and specialization\n",
    "agg = agg.merge(minor, left_index=True, right_index=True, how='left', copy=False)\n",
    "agg = agg.merge(spec, left_index=True, right_index=True, how='left', copy=False)\n",
    "agg.head(5)"
   ]
  },
  {
   "cell_type": "markdown",
   "metadata": {},
   "source": [
    "Compute the time students took to finish their courses. We remove six months if the student ended during MA2 or if he started during MA2."
   ]
  },
  {
   "cell_type": "code",
   "execution_count": 30,
   "metadata": {
    "collapsed": false
   },
   "outputs": [
    {
     "data": {
      "text/html": [
       "<div>\n",
       "<table border=\"1\" class=\"dataframe\">\n",
       "  <thead>\n",
       "    <tr style=\"text-align: right;\">\n",
       "      <th></th>\n",
       "      <th>started</th>\n",
       "      <th>semester_start</th>\n",
       "      <th>ended</th>\n",
       "      <th>semester_end</th>\n",
       "      <th>minor</th>\n",
       "      <th>specialization</th>\n",
       "      <th>duration</th>\n",
       "    </tr>\n",
       "    <tr>\n",
       "      <th>sciper</th>\n",
       "      <th></th>\n",
       "      <th></th>\n",
       "      <th></th>\n",
       "      <th></th>\n",
       "      <th></th>\n",
       "      <th></th>\n",
       "      <th></th>\n",
       "    </tr>\n",
       "  </thead>\n",
       "  <tbody>\n",
       "    <tr>\n",
       "      <th>128911</th>\n",
       "      <td>2007</td>\n",
       "      <td>2</td>\n",
       "      <td>2007</td>\n",
       "      <td>2</td>\n",
       "      <td>NaN</td>\n",
       "      <td>Internet computing</td>\n",
       "      <td>6</td>\n",
       "    </tr>\n",
       "    <tr>\n",
       "      <th>129093</th>\n",
       "      <td>2007</td>\n",
       "      <td>2</td>\n",
       "      <td>2007</td>\n",
       "      <td>3</td>\n",
       "      <td>NaN</td>\n",
       "      <td>NaN</td>\n",
       "      <td>0</td>\n",
       "    </tr>\n",
       "    <tr>\n",
       "      <th>129326</th>\n",
       "      <td>2007</td>\n",
       "      <td>2</td>\n",
       "      <td>2007</td>\n",
       "      <td>3</td>\n",
       "      <td>NaN</td>\n",
       "      <td>NaN</td>\n",
       "      <td>0</td>\n",
       "    </tr>\n",
       "  </tbody>\n",
       "</table>\n",
       "</div>"
      ],
      "text/plain": [
       "        started  semester_start  ended  semester_end minor  \\\n",
       "sciper                                                       \n",
       "128911     2007               2   2007             2   NaN   \n",
       "129093     2007               2   2007             3   NaN   \n",
       "129326     2007               2   2007             3   NaN   \n",
       "\n",
       "            specialization  duration  \n",
       "sciper                                \n",
       "128911  Internet computing         6  \n",
       "129093                 NaN         0  \n",
       "129326                 NaN         0  "
      ]
     },
     "execution_count": 30,
     "metadata": {},
     "output_type": "execute_result"
    }
   ],
   "source": [
    "agg['duration'] = 12*(agg.ended - agg.started + 1) - 6*(agg.semester_end % 2) - 6*((agg.semester_start + 1) % 2)\n",
    "agg.head(3)"
   ]
  },
  {
   "cell_type": "markdown",
   "metadata": {},
   "source": [
    "Remove the students that did less than 12 months, as they cannot have finished yet."
   ]
  },
  {
   "cell_type": "code",
   "execution_count": 31,
   "metadata": {
    "collapsed": true
   },
   "outputs": [],
   "source": [
    "agg = agg[agg.duration >= 12]"
   ]
  },
  {
   "cell_type": "markdown",
   "metadata": {},
   "source": [
    "We also have to remove people that are doing a specialization or a minor but that only have been at EPFL for 12 months or less."
   ]
  },
  {
   "cell_type": "code",
   "execution_count": 32,
   "metadata": {
    "collapsed": true
   },
   "outputs": [],
   "source": [
    "agg = agg[(agg.minor.isnull() & agg.specialization.isnull()) | (agg.duration > 12)]"
   ]
  },
  {
   "cell_type": "markdown",
   "metadata": {},
   "source": [
    "On average, they took, in months:"
   ]
  },
  {
   "cell_type": "code",
   "execution_count": 33,
   "metadata": {
    "collapsed": false
   },
   "outputs": [
    {
     "data": {
      "text/plain": [
       "19.032851511169515"
      ]
     },
     "execution_count": 33,
     "metadata": {},
     "output_type": "execute_result"
    }
   ],
   "source": [
    "general_mean = agg.duration.mean()\n",
    "general_mean"
   ]
  },
  {
   "cell_type": "markdown",
   "metadata": {},
   "source": [
    "We can also compute the average stay for students doing a specialization."
   ]
  },
  {
   "cell_type": "code",
   "execution_count": 34,
   "metadata": {
    "collapsed": false
   },
   "outputs": [
    {
     "data": {
      "text/plain": [
       "22.102564102564102"
      ]
     },
     "execution_count": 34,
     "metadata": {},
     "output_type": "execute_result"
    }
   ],
   "source": [
    "spec_mean = agg['duration'][~agg.specialization.isnull()].mean()\n",
    "spec_mean"
   ]
  },
  {
   "cell_type": "markdown",
   "metadata": {},
   "source": [
    "Or more precisely, per specialization:"
   ]
  },
  {
   "cell_type": "code",
   "execution_count": 35,
   "metadata": {
    "collapsed": false
   },
   "outputs": [
    {
     "data": {
      "text/html": [
       "<div>\n",
       "<table border=\"1\" class=\"dataframe\">\n",
       "  <thead>\n",
       "    <tr style=\"text-align: right;\">\n",
       "      <th></th>\n",
       "      <th>duration</th>\n",
       "    </tr>\n",
       "    <tr>\n",
       "      <th>specialization</th>\n",
       "      <th></th>\n",
       "    </tr>\n",
       "  </thead>\n",
       "  <tbody>\n",
       "    <tr>\n",
       "      <th>Biocomputing</th>\n",
       "      <td>24.000000</td>\n",
       "    </tr>\n",
       "    <tr>\n",
       "      <th>Computer Engineering - SP</th>\n",
       "      <td>19.894737</td>\n",
       "    </tr>\n",
       "    <tr>\n",
       "      <th>Computer Science Theory</th>\n",
       "      <td>18.000000</td>\n",
       "    </tr>\n",
       "    <tr>\n",
       "      <th>Data Analytics</th>\n",
       "      <td>18.000000</td>\n",
       "    </tr>\n",
       "    <tr>\n",
       "      <th>Foundations of Software</th>\n",
       "      <td>22.700000</td>\n",
       "    </tr>\n",
       "    <tr>\n",
       "      <th>Information Security - SP</th>\n",
       "      <td>19.714286</td>\n",
       "    </tr>\n",
       "    <tr>\n",
       "      <th>Internet Information Systems</th>\n",
       "      <td>18.000000</td>\n",
       "    </tr>\n",
       "    <tr>\n",
       "      <th>Internet computing</th>\n",
       "      <td>22.133333</td>\n",
       "    </tr>\n",
       "    <tr>\n",
       "      <th>Service science</th>\n",
       "      <td>19.500000</td>\n",
       "    </tr>\n",
       "    <tr>\n",
       "      <th>Signals, Images and Interfaces</th>\n",
       "      <td>24.857143</td>\n",
       "    </tr>\n",
       "    <tr>\n",
       "      <th>Software Systems</th>\n",
       "      <td>20.250000</td>\n",
       "    </tr>\n",
       "  </tbody>\n",
       "</table>\n",
       "</div>"
      ],
      "text/plain": [
       "                                 duration\n",
       "specialization                           \n",
       "Biocomputing                    24.000000\n",
       "Computer Engineering - SP       19.894737\n",
       "Computer Science Theory         18.000000\n",
       "Data Analytics                  18.000000\n",
       "Foundations of Software         22.700000\n",
       "Information Security - SP       19.714286\n",
       "Internet Information Systems    18.000000\n",
       "Internet computing              22.133333\n",
       "Service science                 19.500000\n",
       "Signals, Images and Interfaces  24.857143\n",
       "Software Systems                20.250000"
      ]
     },
     "execution_count": 35,
     "metadata": {},
     "output_type": "execute_result"
    }
   ],
   "source": [
    "agg[['specialization', 'duration']][~agg.specialization.isnull()].groupby('specialization').mean()"
   ]
  },
  {
   "cell_type": "markdown",
   "metadata": {},
   "source": [
    "Note that we found 5 students who were registered in multiple specialization. For them, only one specialization was taken into account. Now, let's run a T-test to check if the averages are statistically significant"
   ]
  },
  {
   "cell_type": "code",
   "execution_count": 36,
   "metadata": {
    "collapsed": false
   },
   "outputs": [
    {
     "name": "stdout",
     "output_type": "stream",
     "text": [
      "Biocomputing against population mean:\n",
      "\t0.24706536431305895\n",
      "\n",
      "Computer Engineering - SP against population mean:\n",
      "\t0.4142934029667261\n",
      "\n",
      "Data Analytics against population mean:\n",
      "\t0.0\n",
      "\n",
      "Foundations of Software against population mean:\n",
      "\t4.813731354989613e-06\n",
      "\n",
      "Information Security - SP against population mean:\n",
      "\t0.5606390404385315\n",
      "\n",
      "Internet computing against population mean:\n",
      "\t1.6842323417170528e-06\n",
      "\n",
      "Service science against population mean:\n",
      "\t0.7758595197934844\n",
      "\n",
      "Signals, Images and Interfaces against population mean:\n",
      "\t0.003471626556482594\n",
      "\n",
      "Software Systems against population mean:\n",
      "\t0.20971204804678492\n",
      "\n"
     ]
    }
   ],
   "source": [
    "spec_sep = agg[['specialization', 'duration']][~agg.specialization.isnull()].groupby('specialization')\n",
    "for d in spec_sep:\n",
    "    samples = d[1].duration.tolist()\n",
    "    if len(samples) > 1:\n",
    "        t_stat, p_val = stats.ttest_1samp(samples, general_mean)\n",
    "        print('{0} against population mean:\\n\\t{1}\\n'.format(d[0], p_val))\n",
    "        "
   ]
  },
  {
   "cell_type": "markdown",
   "metadata": {},
   "source": [
    "With this output, we can see that the averages are only statistically significant for: \n",
    "1. Data Analytics specializations.\n",
    "2. Foundations of Software\n",
    "3. Internet computing\n",
    "4. Signals, Images and Interfaces\n",
    "\n",
    "For the others, we cannot reject the null hypothesis that they have the same average as the global population. Also note that this can be due to the fact that some specializations only have a few entries:"
   ]
  },
  {
   "cell_type": "code",
   "execution_count": 37,
   "metadata": {
    "collapsed": false
   },
   "outputs": [
    {
     "data": {
      "text/html": [
       "<div>\n",
       "<table border=\"1\" class=\"dataframe\">\n",
       "  <thead>\n",
       "    <tr style=\"text-align: right;\">\n",
       "      <th></th>\n",
       "      <th>duration</th>\n",
       "    </tr>\n",
       "    <tr>\n",
       "      <th>specialization</th>\n",
       "      <th></th>\n",
       "    </tr>\n",
       "  </thead>\n",
       "  <tbody>\n",
       "    <tr>\n",
       "      <th>Biocomputing</th>\n",
       "      <td>4</td>\n",
       "    </tr>\n",
       "    <tr>\n",
       "      <th>Computer Engineering - SP</th>\n",
       "      <td>19</td>\n",
       "    </tr>\n",
       "    <tr>\n",
       "      <th>Computer Science Theory</th>\n",
       "      <td>1</td>\n",
       "    </tr>\n",
       "    <tr>\n",
       "      <th>Data Analytics</th>\n",
       "      <td>4</td>\n",
       "    </tr>\n",
       "    <tr>\n",
       "      <th>Foundations of Software</th>\n",
       "      <td>60</td>\n",
       "    </tr>\n",
       "    <tr>\n",
       "      <th>Information Security - SP</th>\n",
       "      <td>7</td>\n",
       "    </tr>\n",
       "    <tr>\n",
       "      <th>Internet Information Systems</th>\n",
       "      <td>1</td>\n",
       "    </tr>\n",
       "    <tr>\n",
       "      <th>Internet computing</th>\n",
       "      <td>90</td>\n",
       "    </tr>\n",
       "    <tr>\n",
       "      <th>Service science</th>\n",
       "      <td>4</td>\n",
       "    </tr>\n",
       "    <tr>\n",
       "      <th>Signals, Images and Interfaces</th>\n",
       "      <td>28</td>\n",
       "    </tr>\n",
       "    <tr>\n",
       "      <th>Software Systems</th>\n",
       "      <td>16</td>\n",
       "    </tr>\n",
       "  </tbody>\n",
       "</table>\n",
       "</div>"
      ],
      "text/plain": [
       "                                duration\n",
       "specialization                          \n",
       "Biocomputing                           4\n",
       "Computer Engineering - SP             19\n",
       "Computer Science Theory                1\n",
       "Data Analytics                         4\n",
       "Foundations of Software               60\n",
       "Information Security - SP              7\n",
       "Internet Information Systems           1\n",
       "Internet computing                    90\n",
       "Service science                        4\n",
       "Signals, Images and Interfaces        28\n",
       "Software Systems                      16"
      ]
     },
     "execution_count": 37,
     "metadata": {},
     "output_type": "execute_result"
    }
   ],
   "source": [
    "spec_sep.count()"
   ]
  },
  {
   "cell_type": "markdown",
   "metadata": {},
   "source": [
    "As said earlier, we could have taken the year difference between the MA1 semester and the Master project semester. This can be done with the following code, which is a lot similar to the previous ones."
   ]
  },
  {
   "cell_type": "code",
   "execution_count": 38,
   "metadata": {
    "collapsed": false
   },
   "outputs": [
    {
     "name": "stdout",
     "output_type": "stream",
     "text": [
      "114 rows\n"
     ]
    },
    {
     "data": {
      "text/html": [
       "<div>\n",
       "<table border=\"1\" class=\"dataframe\">\n",
       "  <thead>\n",
       "    <tr style=\"text-align: right;\">\n",
       "      <th></th>\n",
       "      <th>started</th>\n",
       "      <th>semester_start</th>\n",
       "      <th>ended</th>\n",
       "      <th>semester_end</th>\n",
       "      <th>duration</th>\n",
       "      <th>specialization</th>\n",
       "    </tr>\n",
       "    <tr>\n",
       "      <th>sciper</th>\n",
       "      <th></th>\n",
       "      <th></th>\n",
       "      <th></th>\n",
       "      <th></th>\n",
       "      <th></th>\n",
       "      <th></th>\n",
       "    </tr>\n",
       "  </thead>\n",
       "  <tbody>\n",
       "    <tr>\n",
       "      <th>146742</th>\n",
       "      <td>2008</td>\n",
       "      <td>1</td>\n",
       "      <td>2010</td>\n",
       "      <td>printemps</td>\n",
       "      <td>36</td>\n",
       "      <td>Signals, Images and Interfaces</td>\n",
       "    </tr>\n",
       "    <tr>\n",
       "      <th>154573</th>\n",
       "      <td>2007</td>\n",
       "      <td>1</td>\n",
       "      <td>2009</td>\n",
       "      <td>printemps</td>\n",
       "      <td>36</td>\n",
       "      <td>Biocomputing</td>\n",
       "    </tr>\n",
       "    <tr>\n",
       "      <th>159516</th>\n",
       "      <td>2008</td>\n",
       "      <td>1</td>\n",
       "      <td>2009</td>\n",
       "      <td>printemps</td>\n",
       "      <td>24</td>\n",
       "      <td>NaN</td>\n",
       "    </tr>\n",
       "  </tbody>\n",
       "</table>\n",
       "</div>"
      ],
      "text/plain": [
       "        started  semester_start  ended semester_end  duration  \\\n",
       "sciper                                                          \n",
       "146742     2008               1   2010    printemps        36   \n",
       "154573     2007               1   2009    printemps        36   \n",
       "159516     2008               1   2009    printemps        24   \n",
       "\n",
       "                        specialization  \n",
       "sciper                                  \n",
       "146742  Signals, Images and Interfaces  \n",
       "154573                    Biocomputing  \n",
       "159516                             NaN  "
      ]
     },
     "execution_count": 38,
     "metadata": {},
     "output_type": "execute_result"
    }
   ],
   "source": [
    "# Get all records of people in MA1, MA2 and MA3\n",
    "ma1_sem = data[data.semester == 'Master semestre 1']\n",
    "ma2_sem = data[data.semester == 'Master semestre 2']\n",
    "pdm_sem = data[data.semester.isin(['Projet Master printemps', 'Projet Master automne'])]\n",
    "\n",
    "# Check for the oldest records\n",
    "started = pd.concat([ma1_sem, ma2_sem])[['sciper', 'year', 'semester']].groupby('sciper').min()\n",
    "started['semester'] = pd.to_numeric(started.semester.apply(lambda x: x.split(' ')[2]))\n",
    "started.columns = ['started', 'semester_start']\n",
    "\n",
    "# Check for most recent records\n",
    "ended = pdm_sem[['sciper', 'year', 'semester']].groupby('sciper').max()\n",
    "ended['semester'] = ended.semester.apply(lambda x: x.split(' ')[2])\n",
    "ended.columns = ['ended', 'semester_end']\n",
    "\n",
    "# Build the DataFrame\n",
    "agg_mp = pd.concat([started, ended], axis=1, join='inner')\n",
    "\n",
    "# Compute the total duration\n",
    "agg_mp['duration'] = 12*(agg_mp.ended - agg_mp.started + 1) - 6*((agg_mp.semester_start + 1) % 2)\n",
    "agg_mp.ix[agg_mp.semester_end == 'automne', 'duration'] -= 6\n",
    "\n",
    "# Add the specialization\n",
    "spec = data[['sciper', 'specialization']][~data.specialization.isnull()]\n",
    "spec.drop_duplicates('sciper', inplace=True)\n",
    "spec.set_index('sciper', inplace=True)\n",
    "\n",
    "agg_mp = agg_mp.merge(spec, left_index=True, right_index=True, how='left', copy=False)\n",
    "\n",
    "print('{0} rows'.format(len(agg_mp)))\n",
    "agg_mp.head(3)"
   ]
  },
  {
   "cell_type": "markdown",
   "metadata": {},
   "source": [
    "The duration is more precise, but the subset only contains 113 students. The average duration is now:"
   ]
  },
  {
   "cell_type": "code",
   "execution_count": 39,
   "metadata": {
    "collapsed": false
   },
   "outputs": [
    {
     "data": {
      "text/plain": [
       "25.736842105263158"
      ]
     },
     "execution_count": 39,
     "metadata": {},
     "output_type": "execute_result"
    }
   ],
   "source": [
    "general_mean_mp = agg_mp['duration'].mean()\n",
    "general_mean_mp"
   ]
  },
  {
   "cell_type": "markdown",
   "metadata": {},
   "source": [
    "And per specialization:"
   ]
  },
  {
   "cell_type": "code",
   "execution_count": 40,
   "metadata": {
    "collapsed": false
   },
   "outputs": [
    {
     "data": {
      "text/html": [
       "<div>\n",
       "<table border=\"1\" class=\"dataframe\">\n",
       "  <thead>\n",
       "    <tr style=\"text-align: right;\">\n",
       "      <th></th>\n",
       "      <th>duration</th>\n",
       "    </tr>\n",
       "    <tr>\n",
       "      <th>specialization</th>\n",
       "      <th></th>\n",
       "    </tr>\n",
       "  </thead>\n",
       "  <tbody>\n",
       "    <tr>\n",
       "      <th>Biocomputing</th>\n",
       "      <td>36.000000</td>\n",
       "    </tr>\n",
       "    <tr>\n",
       "      <th>Computer Engineering - SP</th>\n",
       "      <td>30.000000</td>\n",
       "    </tr>\n",
       "    <tr>\n",
       "      <th>Foundations of Software</th>\n",
       "      <td>30.857143</td>\n",
       "    </tr>\n",
       "    <tr>\n",
       "      <th>Information Security - SP</th>\n",
       "      <td>30.000000</td>\n",
       "    </tr>\n",
       "    <tr>\n",
       "      <th>Internet computing</th>\n",
       "      <td>28.200000</td>\n",
       "    </tr>\n",
       "    <tr>\n",
       "      <th>Service science</th>\n",
       "      <td>30.000000</td>\n",
       "    </tr>\n",
       "    <tr>\n",
       "      <th>Signals, Images and Interfaces</th>\n",
       "      <td>30.000000</td>\n",
       "    </tr>\n",
       "    <tr>\n",
       "      <th>Software Systems</th>\n",
       "      <td>30.000000</td>\n",
       "    </tr>\n",
       "  </tbody>\n",
       "</table>\n",
       "</div>"
      ],
      "text/plain": [
       "                                 duration\n",
       "specialization                           \n",
       "Biocomputing                    36.000000\n",
       "Computer Engineering - SP       30.000000\n",
       "Foundations of Software         30.857143\n",
       "Information Security - SP       30.000000\n",
       "Internet computing              28.200000\n",
       "Service science                 30.000000\n",
       "Signals, Images and Interfaces  30.000000\n",
       "Software Systems                30.000000"
      ]
     },
     "execution_count": 40,
     "metadata": {},
     "output_type": "execute_result"
    }
   ],
   "source": [
    "agg_mp[['specialization', 'duration']][~agg_mp.specialization.isnull()].groupby('specialization').mean()"
   ]
  },
  {
   "cell_type": "markdown",
   "metadata": {},
   "source": [
    "And this time the T-test returns:"
   ]
  },
  {
   "cell_type": "code",
   "execution_count": 41,
   "metadata": {
    "collapsed": false
   },
   "outputs": [
    {
     "name": "stdout",
     "output_type": "stream",
     "text": [
      "Computer Engineering - SP against population mean:\n",
      "\t0.0\n",
      "\n",
      "Foundations of Software against population mean:\n",
      "\t0.1442644317399339\n",
      "\n",
      "Information Security - SP against population mean:\n",
      "\t0.0\n",
      "\n",
      "Internet computing against population mean:\n",
      "\t0.08658313994806686\n",
      "\n",
      "Signals, Images and Interfaces against population mean:\n",
      "\t0.3435428722367828\n",
      "\n",
      "Software Systems against population mean:\n",
      "\t0.0\n",
      "\n"
     ]
    }
   ],
   "source": [
    "spec_sep = agg_mp[['specialization', 'duration']][~agg_mp.specialization.isnull()].groupby('specialization')\n",
    "for d in spec_sep:\n",
    "    samples = d[1].duration.tolist()\n",
    "    if len(samples) > 1:\n",
    "        t_stat, p_val = stats.ttest_1samp(samples, general_mean_mp)\n",
    "        print('{0} against population mean:\\n\\t{1}\\n'.format(d[0], p_val))"
   ]
  },
  {
   "cell_type": "markdown",
   "metadata": {},
   "source": [
    "The averages that are statistically significant, according to the test, are:\n",
    "1. Computer Engineering - SP\n",
    "2. Information Security\n",
    "3. Software Systems\n",
    "\n",
    "Because their p-value is < 0.05. For them, we conclude that students took longer, on average, to finish their master compared to the global average. Biocomputing and Service science are not shown, because they only contain 1 sample. Other specialization also only have a small number of samples, as shown below."
   ]
  },
  {
   "cell_type": "code",
   "execution_count": 42,
   "metadata": {
    "collapsed": false
   },
   "outputs": [
    {
     "data": {
      "text/html": [
       "<div>\n",
       "<table border=\"1\" class=\"dataframe\">\n",
       "  <thead>\n",
       "    <tr style=\"text-align: right;\">\n",
       "      <th></th>\n",
       "      <th>duration</th>\n",
       "    </tr>\n",
       "    <tr>\n",
       "      <th>specialization</th>\n",
       "      <th></th>\n",
       "    </tr>\n",
       "  </thead>\n",
       "  <tbody>\n",
       "    <tr>\n",
       "      <th>Biocomputing</th>\n",
       "      <td>1</td>\n",
       "    </tr>\n",
       "    <tr>\n",
       "      <th>Computer Engineering - SP</th>\n",
       "      <td>2</td>\n",
       "    </tr>\n",
       "    <tr>\n",
       "      <th>Foundations of Software</th>\n",
       "      <td>7</td>\n",
       "    </tr>\n",
       "    <tr>\n",
       "      <th>Information Security - SP</th>\n",
       "      <td>2</td>\n",
       "    </tr>\n",
       "    <tr>\n",
       "      <th>Internet computing</th>\n",
       "      <td>10</td>\n",
       "    </tr>\n",
       "    <tr>\n",
       "      <th>Service science</th>\n",
       "      <td>1</td>\n",
       "    </tr>\n",
       "    <tr>\n",
       "      <th>Signals, Images and Interfaces</th>\n",
       "      <td>3</td>\n",
       "    </tr>\n",
       "    <tr>\n",
       "      <th>Software Systems</th>\n",
       "      <td>2</td>\n",
       "    </tr>\n",
       "  </tbody>\n",
       "</table>\n",
       "</div>"
      ],
      "text/plain": [
       "                                duration\n",
       "specialization                          \n",
       "Biocomputing                           1\n",
       "Computer Engineering - SP              2\n",
       "Foundations of Software                7\n",
       "Information Security - SP              2\n",
       "Internet computing                    10\n",
       "Service science                        1\n",
       "Signals, Images and Interfaces         3\n",
       "Software Systems                       2"
      ]
     },
     "execution_count": 42,
     "metadata": {},
     "output_type": "execute_result"
    }
   ],
   "source": [
    "agg_mp[['specialization', 'duration']][~agg_mp.specialization.isnull()].groupby('specialization').count()"
   ]
  },
  {
   "cell_type": "markdown",
   "metadata": {
    "collapsed": true
   },
   "source": [
    "## Bonus exercise"
   ]
  },
  {
   "cell_type": "markdown",
   "metadata": {},
   "source": [
    "BONUS: perform the gender-based study also on the Master students, as explained in 1. Use scatterplots to visually identify changes over time. Plot males and females with different colors -- can you spot different trends that match the results of your statistical tests?"
   ]
  },
  {
   "cell_type": "markdown",
   "metadata": {},
   "source": [
    "We can use the table of the aggregates constructed above and drop some unnecessary columns.\n"
   ]
  },
  {
   "cell_type": "code",
   "execution_count": 43,
   "metadata": {
    "collapsed": false
   },
   "outputs": [
    {
     "data": {
      "text/html": [
       "<div>\n",
       "<table border=\"1\" class=\"dataframe\">\n",
       "  <thead>\n",
       "    <tr style=\"text-align: right;\">\n",
       "      <th></th>\n",
       "      <th>started</th>\n",
       "      <th>ended</th>\n",
       "      <th>duration</th>\n",
       "    </tr>\n",
       "    <tr>\n",
       "      <th>sciper</th>\n",
       "      <th></th>\n",
       "      <th></th>\n",
       "      <th></th>\n",
       "    </tr>\n",
       "  </thead>\n",
       "  <tbody>\n",
       "    <tr>\n",
       "      <th>146330</th>\n",
       "      <td>2007</td>\n",
       "      <td>2008</td>\n",
       "      <td>18</td>\n",
       "    </tr>\n",
       "    <tr>\n",
       "      <th>146742</th>\n",
       "      <td>2008</td>\n",
       "      <td>2012</td>\n",
       "      <td>54</td>\n",
       "    </tr>\n",
       "    <tr>\n",
       "      <th>146929</th>\n",
       "      <td>2007</td>\n",
       "      <td>2007</td>\n",
       "      <td>12</td>\n",
       "    </tr>\n",
       "    <tr>\n",
       "      <th>147008</th>\n",
       "      <td>2011</td>\n",
       "      <td>2012</td>\n",
       "      <td>18</td>\n",
       "    </tr>\n",
       "    <tr>\n",
       "      <th>152232</th>\n",
       "      <td>2007</td>\n",
       "      <td>2008</td>\n",
       "      <td>18</td>\n",
       "    </tr>\n",
       "  </tbody>\n",
       "</table>\n",
       "</div>"
      ],
      "text/plain": [
       "        started  ended  duration\n",
       "sciper                          \n",
       "146330     2007   2008        18\n",
       "146742     2008   2012        54\n",
       "146929     2007   2007        12\n",
       "147008     2011   2012        18\n",
       "152232     2007   2008        18"
      ]
     },
     "execution_count": 43,
     "metadata": {},
     "output_type": "execute_result"
    }
   ],
   "source": [
    "agg.drop([\"minor\", \"semester_start\", \"semester_end\", \"specialization\"], axis=1, inplace=True)\n",
    "agg.head(5)"
   ]
  },
  {
   "cell_type": "markdown",
   "metadata": {},
   "source": [
    "Next we add the column for titles in order to define genders. The table for gender was found earlier."
   ]
  },
  {
   "cell_type": "code",
   "execution_count": 44,
   "metadata": {
    "collapsed": false
   },
   "outputs": [
    {
     "data": {
      "text/html": [
       "<div>\n",
       "<table border=\"1\" class=\"dataframe\">\n",
       "  <thead>\n",
       "    <tr style=\"text-align: right;\">\n",
       "      <th></th>\n",
       "      <th>started</th>\n",
       "      <th>ended</th>\n",
       "      <th>duration</th>\n",
       "      <th>title</th>\n",
       "    </tr>\n",
       "    <tr>\n",
       "      <th>sciper</th>\n",
       "      <th></th>\n",
       "      <th></th>\n",
       "      <th></th>\n",
       "      <th></th>\n",
       "    </tr>\n",
       "  </thead>\n",
       "  <tbody>\n",
       "    <tr>\n",
       "      <th>153324</th>\n",
       "      <td>2007</td>\n",
       "      <td>2008</td>\n",
       "      <td>12</td>\n",
       "      <td>Monsieur</td>\n",
       "    </tr>\n",
       "    <tr>\n",
       "      <th>154503</th>\n",
       "      <td>2007</td>\n",
       "      <td>2008</td>\n",
       "      <td>12</td>\n",
       "      <td>Monsieur</td>\n",
       "    </tr>\n",
       "    <tr>\n",
       "      <th>184772</th>\n",
       "      <td>2011</td>\n",
       "      <td>2012</td>\n",
       "      <td>18</td>\n",
       "      <td>Monsieur</td>\n",
       "    </tr>\n",
       "  </tbody>\n",
       "</table>\n",
       "</div>"
      ],
      "text/plain": [
       "        started  ended  duration     title\n",
       "sciper                                    \n",
       "153324     2007   2008        12  Monsieur\n",
       "154503     2007   2008        12  Monsieur\n",
       "184772     2011   2012        18  Monsieur"
      ]
     },
     "execution_count": 44,
     "metadata": {},
     "output_type": "execute_result"
    }
   ],
   "source": [
    "agg = pd.concat([agg, gender], axis=1, join='inner')\n",
    "agg.head(3)"
   ]
  },
  {
   "cell_type": "markdown",
   "metadata": {},
   "source": [
    "Next we see the average duration of a master's degrees by gender. The means look very similar."
   ]
  },
  {
   "cell_type": "code",
   "execution_count": 45,
   "metadata": {
    "collapsed": false
   },
   "outputs": [
    {
     "data": {
      "text/html": [
       "<div>\n",
       "<table border=\"1\" class=\"dataframe\">\n",
       "  <thead>\n",
       "    <tr style=\"text-align: right;\">\n",
       "      <th></th>\n",
       "      <th>duration</th>\n",
       "    </tr>\n",
       "    <tr>\n",
       "      <th>title</th>\n",
       "      <th></th>\n",
       "    </tr>\n",
       "  </thead>\n",
       "  <tbody>\n",
       "    <tr>\n",
       "      <th>Madame</th>\n",
       "      <td>18.941176</td>\n",
       "    </tr>\n",
       "    <tr>\n",
       "      <th>Monsieur</th>\n",
       "      <td>19.047041</td>\n",
       "    </tr>\n",
       "  </tbody>\n",
       "</table>\n",
       "</div>"
      ],
      "text/plain": [
       "           duration\n",
       "title              \n",
       "Madame    18.941176\n",
       "Monsieur  19.047041"
      ]
     },
     "execution_count": 45,
     "metadata": {},
     "output_type": "execute_result"
    }
   ],
   "source": [
    "agg[['title', 'duration']].groupby('title').mean()"
   ]
  },
  {
   "cell_type": "markdown",
   "metadata": {},
   "source": [
    "Lets see the results of a T-test."
   ]
  },
  {
   "cell_type": "code",
   "execution_count": 46,
   "metadata": {
    "collapsed": false
   },
   "outputs": [
    {
     "data": {
      "text/plain": [
       "0.86759551083982134"
      ]
     },
     "execution_count": 46,
     "metadata": {},
     "output_type": "execute_result"
    }
   ],
   "source": [
    "s1 = agg[agg['title'] == 'Monsieur']['duration'].tolist()\n",
    "s2 = agg[agg['title'] == 'Madame']['duration'].tolist()\n",
    "\n",
    "t_stat, p_val = stats.ttest_ind(s1, s2)\n",
    "p_val"
   ]
  },
  {
   "cell_type": "markdown",
   "metadata": {},
   "source": [
    "The p-value is higher than 0.05 which means, that the two means for durations by gender are not significantly different, i.e. the null hypothesis of similar means remains."
   ]
  },
  {
   "cell_type": "markdown",
   "metadata": {},
   "source": [
    "It would be interesting to see how many males and females actually finished their master's degree. As we see from the counts below, the ratio is around 6 males per 1 female. The maximum duration for males is higher at 54 months when compared with 42 months as a maximum duartion for females. The minimum is 12 months for both genders."
   ]
  },
  {
   "cell_type": "code",
   "execution_count": 47,
   "metadata": {
    "collapsed": false
   },
   "outputs": [
    {
     "data": {
      "text/html": [
       "<div>\n",
       "<table border=\"1\" class=\"dataframe\">\n",
       "  <thead>\n",
       "    <tr style=\"text-align: right;\">\n",
       "      <th></th>\n",
       "      <th></th>\n",
       "      <th>duration</th>\n",
       "    </tr>\n",
       "    <tr>\n",
       "      <th>title</th>\n",
       "      <th></th>\n",
       "      <th></th>\n",
       "    </tr>\n",
       "  </thead>\n",
       "  <tbody>\n",
       "    <tr>\n",
       "      <th rowspan=\"8\" valign=\"top\">Madame</th>\n",
       "      <th>count</th>\n",
       "      <td>102.000000</td>\n",
       "    </tr>\n",
       "    <tr>\n",
       "      <th>mean</th>\n",
       "      <td>18.941176</td>\n",
       "    </tr>\n",
       "    <tr>\n",
       "      <th>std</th>\n",
       "      <td>5.894827</td>\n",
       "    </tr>\n",
       "    <tr>\n",
       "      <th>min</th>\n",
       "      <td>12.000000</td>\n",
       "    </tr>\n",
       "    <tr>\n",
       "      <th>25%</th>\n",
       "      <td>18.000000</td>\n",
       "    </tr>\n",
       "    <tr>\n",
       "      <th>50%</th>\n",
       "      <td>18.000000</td>\n",
       "    </tr>\n",
       "    <tr>\n",
       "      <th>75%</th>\n",
       "      <td>18.000000</td>\n",
       "    </tr>\n",
       "    <tr>\n",
       "      <th>max</th>\n",
       "      <td>42.000000</td>\n",
       "    </tr>\n",
       "    <tr>\n",
       "      <th rowspan=\"8\" valign=\"top\">Monsieur</th>\n",
       "      <th>count</th>\n",
       "      <td>659.000000</td>\n",
       "    </tr>\n",
       "    <tr>\n",
       "      <th>mean</th>\n",
       "      <td>19.047041</td>\n",
       "    </tr>\n",
       "    <tr>\n",
       "      <th>std</th>\n",
       "      <td>5.976848</td>\n",
       "    </tr>\n",
       "    <tr>\n",
       "      <th>min</th>\n",
       "      <td>12.000000</td>\n",
       "    </tr>\n",
       "    <tr>\n",
       "      <th>25%</th>\n",
       "      <td>18.000000</td>\n",
       "    </tr>\n",
       "    <tr>\n",
       "      <th>50%</th>\n",
       "      <td>18.000000</td>\n",
       "    </tr>\n",
       "    <tr>\n",
       "      <th>75%</th>\n",
       "      <td>18.000000</td>\n",
       "    </tr>\n",
       "    <tr>\n",
       "      <th>max</th>\n",
       "      <td>54.000000</td>\n",
       "    </tr>\n",
       "  </tbody>\n",
       "</table>\n",
       "</div>"
      ],
      "text/plain": [
       "                  duration\n",
       "title                     \n",
       "Madame   count  102.000000\n",
       "         mean    18.941176\n",
       "         std      5.894827\n",
       "         min     12.000000\n",
       "         25%     18.000000\n",
       "         50%     18.000000\n",
       "         75%     18.000000\n",
       "         max     42.000000\n",
       "Monsieur count  659.000000\n",
       "         mean    19.047041\n",
       "         std      5.976848\n",
       "         min     12.000000\n",
       "         25%     18.000000\n",
       "         50%     18.000000\n",
       "         75%     18.000000\n",
       "         max     54.000000"
      ]
     },
     "execution_count": 47,
     "metadata": {},
     "output_type": "execute_result"
    }
   ],
   "source": [
    "agg[['title', 'duration']].groupby('title').describe()"
   ]
  },
  {
   "cell_type": "markdown",
   "metadata": {},
   "source": [
    "We can compute the average time to finish the master's degree by gender and the starting year."
   ]
  },
  {
   "cell_type": "code",
   "execution_count": 48,
   "metadata": {
    "collapsed": false
   },
   "outputs": [
    {
     "data": {
      "text/html": [
       "<div>\n",
       "<table border=\"1\" class=\"dataframe\">\n",
       "  <thead>\n",
       "    <tr style=\"text-align: right;\">\n",
       "      <th></th>\n",
       "      <th>males</th>\n",
       "      <th>females</th>\n",
       "    </tr>\n",
       "    <tr>\n",
       "      <th>started</th>\n",
       "      <th></th>\n",
       "      <th></th>\n",
       "    </tr>\n",
       "  </thead>\n",
       "  <tbody>\n",
       "    <tr>\n",
       "      <th>2007</th>\n",
       "      <td>18.095238</td>\n",
       "      <td>15.000000</td>\n",
       "    </tr>\n",
       "    <tr>\n",
       "      <th>2008</th>\n",
       "      <td>17.200000</td>\n",
       "      <td>17.000000</td>\n",
       "    </tr>\n",
       "    <tr>\n",
       "      <th>2009</th>\n",
       "      <td>18.782609</td>\n",
       "      <td>18.000000</td>\n",
       "    </tr>\n",
       "    <tr>\n",
       "      <th>2010</th>\n",
       "      <td>19.350000</td>\n",
       "      <td>20.571429</td>\n",
       "    </tr>\n",
       "    <tr>\n",
       "      <th>2011</th>\n",
       "      <td>19.815789</td>\n",
       "      <td>19.764706</td>\n",
       "    </tr>\n",
       "    <tr>\n",
       "      <th>2012</th>\n",
       "      <td>19.826087</td>\n",
       "      <td>21.272727</td>\n",
       "    </tr>\n",
       "    <tr>\n",
       "      <th>2013</th>\n",
       "      <td>20.240964</td>\n",
       "      <td>19.714286</td>\n",
       "    </tr>\n",
       "    <tr>\n",
       "      <th>2014</th>\n",
       "      <td>21.164835</td>\n",
       "      <td>19.846154</td>\n",
       "    </tr>\n",
       "    <tr>\n",
       "      <th>2015</th>\n",
       "      <td>16.471698</td>\n",
       "      <td>16.714286</td>\n",
       "    </tr>\n",
       "  </tbody>\n",
       "</table>\n",
       "</div>"
      ],
      "text/plain": [
       "             males    females\n",
       "started                      \n",
       "2007     18.095238  15.000000\n",
       "2008     17.200000  17.000000\n",
       "2009     18.782609  18.000000\n",
       "2010     19.350000  20.571429\n",
       "2011     19.815789  19.764706\n",
       "2012     19.826087  21.272727\n",
       "2013     20.240964  19.714286\n",
       "2014     21.164835  19.846154\n",
       "2015     16.471698  16.714286"
      ]
     },
     "execution_count": 48,
     "metadata": {},
     "output_type": "execute_result"
    }
   ],
   "source": [
    "malesAveragesByYear = agg[['title', 'started', 'duration']][agg.title == \"Monsieur\"].groupby('started').mean()\n",
    "femalesAveragesByYear = agg[['title','started', 'duration']][agg.title == \"Madame\"].groupby('started').mean()\n",
    "averagesByYear = pd.concat([malesAveragesByYear, femalesAveragesByYear], axis=1, join='inner')\n",
    "averagesByYear.columns = ['males', 'females']\n",
    "averagesByYear"
   ]
  },
  {
   "cell_type": "markdown",
   "metadata": {},
   "source": [
    "Next we create a histogram to better view the differences in average duration of a master's degree between females and males."
   ]
  },
  {
   "cell_type": "code",
   "execution_count": 49,
   "metadata": {
    "collapsed": false
   },
   "outputs": [
    {
     "data": {
      "image/png": "[encoded data removed]",
      "text/plain": [
       "<matplotlib.figure.Figure at 0x7f75a0631e48>"
      ]
     },
     "metadata": {},
     "output_type": "display_data"
    }
   ],
   "source": [
    "import matplotlib.pyplot as plt\n",
    "ax = averagesByYear.plot(kind='bar', title =\"Average duration of master's degree by starting year\",figsize=(15,10),legend=True, fontsize=12, color=['royalblue', 'crimson'])\n",
    "ax.set_xlabel(\"Starting year\",fontsize=12)\n",
    "ax.set_ylabel(\"Duration in months\",fontsize=12)\n",
    "\n",
    "plt.show()"
   ]
  },
  {
   "cell_type": "markdown",
   "metadata": {},
   "source": [
    "From the above plot we see that for most of the years the time to finish a master's degree has been similar for females and males, however from the students who started in 2010 and 2012 females took slightly longer to finish. For the starting year of 2007 and 2014 we see that males took longer to finish their degree. For all the other years the differences are looking small. Also note that for year 2015-2016, the average duration is smaller. This is because some students that started in 2015 didn't finish their Master yet, but the records for their next semesters are not available yet."
   ]
  }
 ],
 "metadata": {
  "anaconda-cloud": {},
  "kernelspec": {
   "display_name": "Python 3",
   "language": "python",
   "name": "python3"
  },
  "language_info": {
   "codemirror_mode": {
    "name": "ipython",
    "version": 3
   },
   "file_extension": ".py",
   "mimetype": "text/x-python",
   "name": "python",
   "nbconvert_exporter": "python",
   "pygments_lexer": "ipython3",
   "version": "3.5.2"
  }
 },
 "nbformat": 4,
 "nbformat_minor": 1
}
