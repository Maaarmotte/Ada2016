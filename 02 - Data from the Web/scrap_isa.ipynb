{
 "cells": [
  {
   "cell_type": "code",
   "execution_count": null,
   "metadata": {
    "collapsed": false
   },
   "outputs": [],
   "source": [
    "import requests\n",
    "from bs4 import BeautifulSoup\n",
    "from bs4 import SoupStrainer\n",
    "import urllib.parse\n",
    "import re"
   ]
  },
  {
   "cell_type": "code",
   "execution_count": null,
   "metadata": {
    "collapsed": false
   },
   "outputs": [],
   "source": [
    "def get_is_academia_page(page, params={}):\n",
    "    BASE_URL = 'https://isa.epfl.ch/imoniteur_ISAP/'\n",
    "    PAGES = {'filter': '!GEDPUBLICREPORTS.filter', 'results': '!GEDPUBLICREPORTS.html'}\n",
    "    BASE_PARAMS = {'ww_i_reportmodel': '133685247', # Registered students by section and semester\n",
    "                   'ww_i_reportModelXsl': '133685270'}\n",
    "    \n",
    "    if not isinstance(page, str) or page not in PAGES:\n",
    "        allowed_pages = ', '.join(PAGES.keys())\n",
    "        raise ValueError('page argument must be: {}'.format(allowed_pages))\n",
    "    \n",
    "    url = urllib.parse.urljoin(BASE_URL, PAGES[page])\n",
    "    r = requests.get(url, params={**BASE_PARAMS, **params}) # Python 3.5 syntax\n",
    "    r.raise_for_status() # Raise an exception if we can't get the page\n",
    "\n",
    "    return r.text"
   ]
  },
  {
   "cell_type": "code",
   "execution_count": null,
   "metadata": {
    "collapsed": true
   },
   "outputs": [],
   "source": [
    "def construct_dict_from_select(soup, match_name):\n",
    "    css_selector = 'select[name=\"{}\"] > option'.format(match_name)\n",
    "    option_tags = soup.select(css_selector)\n",
    "    return {tag.string: tag['value'] for tag in option_tags if tag.string}"
   ]
  },
  {
   "cell_type": "code",
   "execution_count": null,
   "metadata": {
    "collapsed": false
   },
   "outputs": [],
   "source": [
    "strainer = SoupStrainer('select')\n",
    "page = get_is_academia_page('filter')\n",
    "soup = BeautifulSoup(page, 'html.parser', parse_only=strainer)\n",
    "\n",
    "departments = construct_dict_from_select(soup, 'ww_x_UNITE_ACAD')\n",
    "cs_department = departments['Informatique']\n",
    "years = construct_dict_from_select(soup, 'ww_x_PERIODE_ACAD')\n",
    "\n",
    "years"
   ]
  },
  {
   "cell_type": "code",
   "execution_count": null,
   "metadata": {
    "collapsed": false
   },
   "outputs": [],
   "source": [
    "def parse_semesters_list(year_id, department_id):\n",
    "    params = {'ww_b_list': 1,\n",
    "              'ww_x_PERIODE_ACAD': year_id,\n",
    "              'ww_x_UNITE_ACAD': department_id}\n",
    "    \n",
    "    page = get_is_academia_page('filter', params)\n",
    "    soup = BeautifulSoup(page, 'html.parser')\n",
    "\n",
    "    def extract_id(tag):\n",
    "        match = re.search('ww_x_GPS=(\\d+)', tag['onclick'])\n",
    "        if match is None:\n",
    "            return None\n",
    "        else:\n",
    "            return match.group(1)\n",
    "\n",
    "    return {tag.text: extract_id(tag) for tag in soup.find_all('a') if extract_id(tag) is not None}"
   ]
  },
  {
   "cell_type": "code",
   "execution_count": null,
   "metadata": {
    "collapsed": false
   },
   "outputs": [],
   "source": [
    "semesters_ids = {}\n",
    "for year_id in years.values():\n",
    "    semesters_ids.update(parse_semesters_list(year_id, cs_department))\n",
    "\n",
    "semesters_ids"
   ]
  },
  {
   "cell_type": "code",
   "execution_count": null,
   "metadata": {
    "collapsed": true
   },
   "outputs": [],
   "source": [
    "def get_people(semester_id):\n",
    "    page = get_is_academia_page('results', {'ww_x_GPS': semester_id})\n",
    "    df = pandas.read_html(page, header=1, index_col=10)[0]\n",
    "    return df.drop(df.columns[-1], axis=1)"
   ]
  },
  {
   "cell_type": "code",
   "execution_count": null,
   "metadata": {
    "collapsed": false,
    "scrolled": false
   },
   "outputs": [],
   "source": [
    "get_people(semesters_ids['Informatique, 2016-2017, Master semestre 3'])"
   ]
  }
 ],
 "metadata": {
  "kernelspec": {
   "display_name": "Python 3",
   "language": "python",
   "name": "python3"
  },
  "language_info": {
   "codemirror_mode": {
    "name": "ipython",
    "version": 3
   },
   "file_extension": ".py",
   "mimetype": "text/x-python",
   "name": "python",
   "nbconvert_exporter": "python",
   "pygments_lexer": "ipython3",
   "version": "3.5.2"
  }
 },
 "nbformat": 4,
 "nbformat_minor": 1
}
