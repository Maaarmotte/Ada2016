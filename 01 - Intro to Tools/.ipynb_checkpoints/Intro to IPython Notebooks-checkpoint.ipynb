{
 "cells": [
  {
   "cell_type": "markdown",
   "metadata": {
    "collapsed": true
   },
   "source": [
    "# IPython notebook features overview\n",
    "\n",
    "IPython allows to create a formatted document containing text, equations, and code. There is a WYSIWYG interface: the ipython notebook.\n",
    "\n",
    "The document is split into cells. Cells can be of three types:\n",
    "\n",
    "* Code\n",
    "* Markdown (simple wiki markup language)\n",
    "* Raw\n",
    "\n",
    "This current cell is a markdown cell.\n",
    "\n",
    "It is possible to use **bold**, *itallic*, and `verbatim`.\n",
    "\n",
    "    This is some verbatim code.\n",
    "    $ echo \"helloworld\"\n",
    "\n",
    "In addition, it is possible, through python, to add all sorts of contents (html, video, audio, ...) to the page. This notebook aims at demonstrating these possibilities through a number of practical examples."
   ]
  },
  {
   "cell_type": "markdown",
   "metadata": {
    "collapsed": true
   },
   "source": [
    "## Numerical cells and plots\n",
    "\n",
    "Just like ipython, ipython notebook let's you import easily all the numpy and matplotlib libraries and use them 'matlab' style."
   ]
  },
  {
   "cell_type": "code",
   "execution_count": null,
   "metadata": {
    "collapsed": false
   },
   "outputs": [],
   "source": [
    "%pylab inline"
   ]
  },
  {
   "cell_type": "markdown",
   "metadata": {},
   "source": [
    "The `inline` option let's you plot things in the notebook directly."
   ]
  },
  {
   "cell_type": "code",
   "execution_count": null,
   "metadata": {
    "collapsed": false
   },
   "outputs": [],
   "source": [
    "t = linspace(0,1,200)\n",
    "for i in range(1,20):\n",
    "    plot(t, sin(2*pi*t-t[10*i]))"
   ]
  },
  {
   "cell_type": "markdown",
   "metadata": {},
   "source": [
    "It is possible to give this plot **XKCD** style!"
   ]
  },
  {
   "cell_type": "code",
   "execution_count": null,
   "metadata": {
    "collapsed": false
   },
   "outputs": [],
   "source": [
    "# Running this in a 'with' allows the style to be temporary\n",
    "with xkcd():\n",
    "    for i in range(1,10):\n",
    "        plot(t, sin(2*pi*t-t[10*i]))"
   ]
  },
  {
   "cell_type": "markdown",
   "metadata": {},
   "source": [
    "## Built-in help\n",
    "\n",
    "In case you need to be reminded of some syntax, several ways are possible. The first is auto-completion:"
   ]
  },
  {
   "cell_type": "code",
   "execution_count": null,
   "metadata": {
    "collapsed": true
   },
   "outputs": [],
   "source": [
    "# t = lins"
   ]
  },
  {
   "cell_type": "markdown",
   "metadata": {},
   "source": [
    "It is also possible to display the docstring of a function."
   ]
  },
  {
   "cell_type": "code",
   "execution_count": null,
   "metadata": {
    "collapsed": true
   },
   "outputs": [],
   "source": [
    "linspace?"
   ]
  },
  {
   "cell_type": "markdown",
   "metadata": {},
   "source": [
    "The following let's you get even more information and look a the source code."
   ]
  },
  {
   "cell_type": "code",
   "execution_count": null,
   "metadata": {
    "collapsed": true
   },
   "outputs": [],
   "source": [
    "linspace??"
   ]
  },
  {
   "cell_type": "markdown",
   "metadata": {},
   "source": [
    "## Magic\n",
    "\n",
    "Many [ipython magics](http://ipython.readthedocs.org/en/stable/interactive/magics.html) can also be used in ipython notebook. They can be listed using the `%lsmagic` magic."
   ]
  },
  {
   "cell_type": "code",
   "execution_count": null,
   "metadata": {
    "collapsed": false
   },
   "outputs": [],
   "source": [
    "%lsmagic"
   ]
  },
  {
   "cell_type": "markdown",
   "metadata": {},
   "source": [
    "One can for example use the `%timeit` magic to compare the runtime of two pieces of code. For example, let's compare a pure python recursive implementation of the factorial to an implementation using numpy vector routines."
   ]
  },
  {
   "cell_type": "code",
   "execution_count": null,
   "metadata": {
    "collapsed": true
   },
   "outputs": [],
   "source": [
    "# recursive implementation\n",
    "def factorial_1(n):\n",
    "    if n > 1:\n",
    "        return n*factorial_1(n-1)\n",
    "    else:\n",
    "        return 1\n",
    "    \n",
    "# numpy implementation\n",
    "def factorial_2(n):\n",
    "    return np.prod(np.arange(1,n+1))"
   ]
  },
  {
   "cell_type": "code",
   "execution_count": null,
   "metadata": {
    "collapsed": false
   },
   "outputs": [],
   "source": [
    "%timeit factorial_1(100)"
   ]
  },
  {
   "cell_type": "code",
   "execution_count": null,
   "metadata": {
    "collapsed": false
   },
   "outputs": [],
   "source": [
    "%timeit factorial_2(100)"
   ]
  },
  {
   "cell_type": "markdown",
   "metadata": {},
   "source": [
    "## Equations\n",
    "\n",
    "IPython notebooks allow to display equations just by typing in latex. For example, we can write the famous Fourier transform equation as\n",
    "$$\n",
    "\\int_{-\\infty}^\\infty f(t) e^{-i\\omega t} dt.\n",
    "$$\n",
    "\n",
    "It is also possible to add some math in text, for example  a linear system $Ax = b$."
   ]
  },
  {
   "cell_type": "markdown",
   "metadata": {},
   "source": [
    "## Images\n",
    "\n",
    "It is possible to include images in the notebooks, either by adding the html tags directly in markdown cell such as the following:\n",
    "\n",
    "<img src=\"http://mediacom.epfl.ch/files/content/sites/mediacom/files/EPFL-Logo.jpg\" width=400>\n",
    "\n",
    "or by using an ipython widget."
   ]
  },
  {
   "cell_type": "code",
   "execution_count": null,
   "metadata": {
    "collapsed": false
   },
   "outputs": [],
   "source": [
    "from IPython.display import Image\n",
    "# Photos credit: https://commons.wikimedia.org/wiki/File:Rolex_Learning_center.jpg\n",
    "Image('./Data/rlc.jpg', width=800,height=600)"
   ]
  },
  {
   "cell_type": "markdown",
   "metadata": {},
   "source": [
    "## Videos\n",
    "\n",
    "Videos can be embedded in the notebook. For example, here is a youtube video."
   ]
  },
  {
   "cell_type": "code",
   "execution_count": null,
   "metadata": {
    "collapsed": false
   },
   "outputs": [],
   "source": [
    "from IPython.display import YouTubeVideo\n",
    "from datetime import timedelta\n",
    "\n",
    "# It is possible to start the video at a specific time\n",
    "start=int(timedelta(hours=0, minutes=1, seconds=45).total_seconds())\n",
    "\n",
    "YouTubeVideo(\"uiliyEYy1S4\", start=start, autoplay=0, theme=\"light\", color=\"red\")"
   ]
  },
  {
   "cell_type": "markdown",
   "metadata": {},
   "source": [
    "And here is a vimeo video."
   ]
  },
  {
   "cell_type": "code",
   "execution_count": null,
   "metadata": {
    "collapsed": false
   },
   "outputs": [],
   "source": [
    "from IPython.display import VimeoVideo\n",
    "\n",
    "VimeoVideo(\"70371614\")"
   ]
  },
  {
   "cell_type": "code",
   "execution_count": null,
   "metadata": {
    "collapsed": false,
    "scrolled": false
   },
   "outputs": [],
   "source": [
    "from IPython.display import IFrame\n",
    "\n",
    "IFrame('http://ada.epfl.ch', width=800, height=600)"
   ]
  },
  {
   "cell_type": "markdown",
   "metadata": {},
   "source": [
    "## Audio data\n",
    "\n",
    "IPython notebook also makes it possible to listen to audio data in the browser directly. To demonstrate this, we will convolve some speech with a [room impulse response](http://nbviewer.ipython.org/github/LCAV/SignalsOfTheDay/blob/master/Room_Acoustics/Room%20Impulse%20Response.ipynb). Then we will process the room impulse response to give the illusion of a larger room."
   ]
  },
  {
   "cell_type": "code",
   "execution_count": null,
   "metadata": {
    "collapsed": false
   },
   "outputs": [],
   "source": [
    "from scipy.io import loadmat, wavfile\n",
    "from IPython.lib.display import Audio\n",
    "\n",
    "# import the speech from a wav file\n",
    "r,speech = wavfile.read('Data/german_speech_44100.wav')\n",
    "_,rir = wavfile.read('Data/RIRs.wav')\n",
    "\n",
    "# Add the audio widget\n",
    "print('Speech')\n",
    "display(Audio(data=speech, rate=r))\n",
    "print('Room Impulse Response')\n",
    "display(Audio(data=rir[:,0], rate=r))"
   ]
  },
  {
   "cell_type": "markdown",
   "metadata": {},
   "source": [
    "## Interactive Widgets\n",
    "\n",
    "The impulse responses were actually recorded with an eight microphone array."
   ]
  },
  {
   "cell_type": "code",
   "execution_count": null,
   "metadata": {
    "collapsed": false
   },
   "outputs": [],
   "source": [
    "Image('Data/mic_array.jpg', width=200, height=200)"
   ]
  },
  {
   "cell_type": "markdown",
   "metadata": {},
   "source": [
    "IPython also allows to create interactive widgets to easily visualize graphs with varying parameters. Let us use that to look at the room impulse response for the different microphones. Unfortunately, the widgets are not preserved when you export to html. "
   ]
  },
  {
   "cell_type": "code",
   "execution_count": null,
   "metadata": {
    "collapsed": false
   },
   "outputs": [],
   "source": [
    "from IPython.html.widgets import interact, fixed\n",
    "\n",
    "# We need to define a function that takes as arguments the parameters\n",
    "# we would like to play with.\n",
    "def plot_rir(s=None, length=30000, number=8, offset=False, text='helloworld'):\n",
    "    if s is None:\n",
    "        return\n",
    "    \n",
    "    if offset:\n",
    "        n = 0.2\n",
    "    else:\n",
    "        n = 0.    \n",
    "        \n",
    "    plot(np.arange(500,500+length)/float(r), s[500:500+length,number-1::-1]+n*np.arange(number), linewidth=1)\n",
    "    title(text)\n",
    "    xlim((400./r,(400.+length)/r))\n",
    "    if offset:\n",
    "        ylim((-1,2.5))\n",
    "    else:\n",
    "        ylim((-1,1))    \n",
    "    xlabel('Time [s]')\n",
    "\n",
    "# Now we only need to call the interact function\n",
    "# keyword arguments are used to give the parameter ranges\n",
    "interact(plot_rir, s=fixed(rir), length=(500, 25000, 1000), number=(1,8), text=['helloworld','room impulse responses'])"
   ]
  },
  {
   "cell_type": "markdown",
   "metadata": {},
   "source": [
    "The cool thing is that we are not limited to use this with plots. Let us see what happens when we stretch the room impulse response and convolve the speech with it.\n",
    "\n",
    "Start at `stretch = 0` for anechoic speech and increase the stech factor. Notice how the room gets bigger!"
   ]
  },
  {
   "cell_type": "code",
   "execution_count": null,
   "metadata": {
    "collapsed": false
   },
   "outputs": [],
   "source": [
    "from scipy.signal import resample, fftconvolve\n",
    "\n",
    "def listen_rir(rir=None, speech=None, stretch=0):\n",
    "    \n",
    "    if rir is None or speech is None:\n",
    "        return\n",
    "    \n",
    "    if stretch == 0:\n",
    "        s = speech\n",
    "    else:\n",
    "        h = resample(rir, rir.shape[0]*stretch)\n",
    "        s = fftconvolve(speech, h)\n",
    "        \n",
    "    display(Audio(data=s, rate=r))\n",
    "    \n",
    "v = interact(listen_rir, rir=fixed(rir[:,0]), speech=fixed(speech), stretch=(0,10))\n",
    "display(v)"
   ]
  },
  {
   "cell_type": "markdown",
   "metadata": {},
   "source": [
    "## Interactive plots with Bokeh\n",
    "\n",
    "Until now, all the plots we have shown were not interactive, that is, it was not possible to zoom into some part of the graph or moves things around. [Bokeh](http://bokeh.pydata.org) is a python module that allows just to do that. In style!"
   ]
  },
  {
   "cell_type": "code",
   "execution_count": null,
   "metadata": {
    "collapsed": false
   },
   "outputs": [],
   "source": [
    "from bokeh.plotting import figure, show, output_notebook\n",
    "output_notebook()"
   ]
  },
  {
   "cell_type": "code",
   "execution_count": null,
   "metadata": {
    "collapsed": false
   },
   "outputs": [],
   "source": [
    "N = 1000\n",
    "\n",
    "x = np.linspace(-10, 10, N)\n",
    "y = np.linspace(-10, 10, N)\n",
    "xx, yy = np.meshgrid(x, y)\n",
    "d = np.sin(xx)*np.cos(yy)\n",
    "d = (xx**2 + yy**2)**0.7 - 4.*np.sin(2*xx) - 1.8*np.cos(2*yy)\n",
    "\n",
    "p = figure(x_range=[-10, 10], y_range=[-10, 10])\n",
    "p.image(image=[d], x=[-10], y=[-10], dw=[20], dh=[20], palette=\"Spectral11\")\n",
    "\n",
    "show(p)"
   ]
  },
  {
   "cell_type": "markdown",
   "metadata": {},
   "source": [
    "## Magnificient plots with Seaborn"
   ]
  },
  {
   "cell_type": "markdown",
   "metadata": {},
   "source": [
    "[Seaborn](http://stanford.edu/~mwaskom/software/seaborn/index.html) is a python package that wraps around matplotlib and make the plots look extremely nice. It adds nice default colormaps and has integrated options for fancy plots.\n",
    "\n",
    "It is not installed by default with anaconda so to obtain type the following in a terminal\n",
    "\n",
    "    conda install seaborn\n",
    "    \n",
    "or install it from the Navigator app (as shown during the lab session).\n",
    "    \n",
    "To demonstrate it, we have collected tweets containing the following keywords:\n",
    "\n",
    "* reproducible research\n",
    "* ipython notebook\n",
    "* open access\n",
    "* open science\n",
    "* open data\n",
    "* bigdata\n",
    "* epfl\n",
    "\n",
    "This example was mostly taken from this [tutorial](http://adilmoujahid.com/posts/2014/07/twitter-analytics/).\n",
    "\n",
    "To activate seaborn, simply import it. It is possible to set a default palette."
   ]
  },
  {
   "cell_type": "code",
   "execution_count": null,
   "metadata": {
    "collapsed": false
   },
   "outputs": [],
   "source": [
    "import seaborn as sns\n",
    "\n",
    "# set the default color palette\n",
    "# try other options: 'Blues', sns.cubehelix_palette(8)\n",
    "sns.set_palette('Blues')\n",
    "\n",
    "# Seaborn can also use a context for different purpose\n",
    "# possible values are paper, notebook, talk, and poster\n",
    "sns.set_context(\"notebook\")"
   ]
  },
  {
   "cell_type": "code",
   "execution_count": null,
   "metadata": {
    "collapsed": false
   },
   "outputs": [],
   "source": [
    "# try to plot our boring old sine curves\n",
    "for i in range(0,10):\n",
    "    plot(t, sin(2*pi*t-t[10*i]))"
   ]
  },
  {
   "cell_type": "markdown",
   "metadata": {},
   "source": [
    "Now we will import the tweets in a [pandas](http://pandas.pydata.org) to do some statistics."
   ]
  },
  {
   "cell_type": "code",
   "execution_count": null,
   "metadata": {
    "collapsed": true
   },
   "outputs": [],
   "source": [
    "import json\n",
    "import pandas as pd"
   ]
  },
  {
   "cell_type": "code",
   "execution_count": null,
   "metadata": {
    "collapsed": false
   },
   "outputs": [],
   "source": [
    "tweets_data_path = './Data/twitter_data.txt'\n",
    "\n",
    "tweets_data = []\n",
    "tweets_file = open(tweets_data_path, \"r\")\n",
    "for line in tweets_file:\n",
    "    try:\n",
    "        tweet = json.loads(line)\n",
    "        tweets_data.append(tweet)\n",
    "    except:\n",
    "        continue\n",
    "        \n",
    "tweets = pd.DataFrame()\n",
    "\n",
    "fields = ['text','lang']\n",
    "for f in fields:\n",
    "    tweets[f] = list(map(lambda tweet: tweet[f], tweets_data))\n",
    "\n",
    "tweets['country'] = list(map(lambda tweet: tweet['place']['country'] if tweet['place'] != None else None, tweets_data))\n",
    "tweets['username'] = list(map(lambda tweet: tweet['user']['screen_name'], tweets_data))\n",
    "tweets['followers_count'] = list(map(lambda tweet: tweet['user']['followers_count'], tweets_data))\n",
    "tweets['time_zone'] = list(map(lambda tweet: tweet['user']['time_zone'], tweets_data))\n",
    "\n",
    "tweets['text_len'] = list(map(lambda tweet: len(tweet), tweets['text']))\n",
    "\n",
    "print('We got',len(tweets_data),'tweets.')"
   ]
  },
  {
   "cell_type": "markdown",
   "metadata": {},
   "source": [
    "Now we want to analyze words appearing in the tweets. We will apply a regular expression to detection keywords in the text of tweets. Then we plot a histogram of the data to see which keywords are popular."
   ]
  },
  {
   "cell_type": "code",
   "execution_count": null,
   "metadata": {
    "collapsed": true
   },
   "outputs": [],
   "source": [
    "import re"
   ]
  },
  {
   "cell_type": "code",
   "execution_count": null,
   "metadata": {
    "collapsed": false
   },
   "outputs": [],
   "source": [
    "# a helper function to apply the regexp\n",
    "def word_in_text(words, text):\n",
    "    words = re.sub('\\s+','\\s*', ''.join([w + '|' for w in words[:-1]]) + words[-1])\n",
    "    text = text.lower()\n",
    "    match = re.search(words, text)\n",
    "    if match:\n",
    "        return True\n",
    "    return False"
   ]
  },
  {
   "cell_type": "code",
   "execution_count": null,
   "metadata": {
    "collapsed": false
   },
   "outputs": [],
   "source": [
    "# actually apply the regexp\n",
    "keywords = ['open access', 'open science', 'ipython', 'open data', 'reproducible research','epfl']\n",
    "for w in keywords:\n",
    "    tweets[w] = tweets['text'].apply(lambda tweet: word_in_text([w], tweet))\n",
    "    \n",
    "tweets_by_kw = pd.Series([tweets[w].value_counts()[True] for w in keywords], index=keywords)"
   ]
  },
  {
   "cell_type": "markdown",
   "metadata": {},
   "source": [
    "Seaborn has specialized routine to plot dataframes from pandas. We make use of that to plot the histogram."
   ]
  },
  {
   "cell_type": "code",
   "execution_count": null,
   "metadata": {
    "collapsed": false
   },
   "outputs": [],
   "source": [
    "def nice_bar_plot(xlbl, data, n):\n",
    "    \n",
    "    fig, ax = plt.subplots()\n",
    "    ax.set_title('Top ' + str(n) + ' ' + xlbl, fontsize=15, fontweight='bold')\n",
    "    sns.barplot(data[:n].keys(), data[:n], ax=ax)\n",
    "    locs, labels = plt.xticks()\n",
    "    plt.setp(labels, rotation=90)\n",
    "    \n",
    "nice_bar_plot('Popularity of topics', tweets_by_kw, 20)"
   ]
  },
  {
   "cell_type": "markdown",
   "metadata": {},
   "source": [
    "We would like to get some idea of the distribution of the length of the tweets in each of these category. Let us categorize each tweet and then display some boxplot. Again, seaborn allows to do that fairly easily."
   ]
  },
  {
   "cell_type": "code",
   "execution_count": null,
   "metadata": {
    "collapsed": false
   },
   "outputs": [],
   "source": [
    "# Here we want to tag each tweet with a category\n",
    "tweets['category'] = np.nan\n",
    "for kw in keywords:\n",
    "    tweets.loc[tweets[kw] == True,'category'] = kw"
   ]
  },
  {
   "cell_type": "code",
   "execution_count": null,
   "metadata": {
    "collapsed": false
   },
   "outputs": [],
   "source": [
    "sns.set(style=\"ticks\", color_codes=True)\n",
    "\n",
    "# Plot the text length with horizontal boxes\n",
    "ax = sns.boxplot(x=\"text_len\", y=\"category\", data=tweets,\n",
    "                 whis=np.inf)\n",
    "\n",
    "# Add in points to show each tweet\n",
    "sns.stripplot(x=\"text_len\", y=\"category\", data=tweets,\n",
    "              jitter=True, size=3, color=\".3\", linewidth=0)\n",
    "\n",
    "\n",
    "# This removes top and right axis\n",
    "sns.despine(trim=True)"
   ]
  },
  {
   "cell_type": "markdown",
   "metadata": {},
   "source": [
    "## Conclusion\n",
    "\n",
    "IPython offers great tools both for computional experiments and to share these experiments in a visually enticing way.\n",
    "\n",
    "The notebook format can be shared as is to allow someone else to play with the data, or it can be converted to format that allow for displaying such as html, latex, pdf, etc. To do so, use the `ipython nbconvert` utility in the terminal."
   ]
  },
  {
   "cell_type": "code",
   "execution_count": null,
   "metadata": {
    "collapsed": true
   },
   "outputs": [],
   "source": []
  }
 ],
 "metadata": {
  "kernelspec": {
   "display_name": "Python 3",
   "language": "python",
   "name": "python3"
  },
  "language_info": {
   "codemirror_mode": {
    "name": "ipython",
    "version": 3
   },
   "file_extension": ".py",
   "mimetype": "text/x-python",
   "name": "python",
   "nbconvert_exporter": "python",
   "pygments_lexer": "ipython3",
   "version": "3.5.2"
  }
 },
 "nbformat": 4,
 "nbformat_minor": 0
}
